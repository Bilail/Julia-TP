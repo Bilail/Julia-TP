{
 "cells": [
  {
   "cell_type": "markdown",
   "metadata": {},
   "source": [
    "## Polytech Paris Saclay | 3ème année\n",
    "\n",
    "\n",
    "## TP2 Calcul scientifique: la factorisation LU"
   ]
  },
  {
   "cell_type": "markdown",
   "metadata": {},
   "source": [
    "- rappel"
   ]
  },
  {
   "cell_type": "markdown",
   "metadata": {},
   "source": [
    "La factorisation LU consiste à factoriser une matrice A en un produit de deux matrices: une matrice triangulaire inférieure L et une matrice triangulaire supérieure U telles que A = L\\*U. Le système Ax=b devient alors LUx=b. Une telle factorisation permet de résoudre plus facilement le nouveau système: deux résolutions successives: une par descente et une par remontée."
   ]
  },
  {
   "cell_type": "markdown",
   "metadata": {},
   "source": [
    "       Algorithm 1: In place LU factorisation without pivoting\n",
    "       Require: A is a n*n matrix\n",
    "        1: for k <- 1 to n-1 do\n",
    "        2:    for i <- k+1 to n do\n",
    "        3:       A(i,j) <- A(i,j)/A(k,k)\n",
    "        4:    end for\n",
    "        5:    for i <- k+1 to n do\n",
    "        6:       for j <- k+1 to n do\n",
    "        7:          A(i,j) <- A(i,j) - A(i,k)*A(k,j)\n",
    "        8:       end for\n",
    "        9:    end for\n",
    "        10: end for\n",
    "   "
   ]
  },
  {
   "cell_type": "markdown",
   "metadata": {},
   "source": [
    "- écrire une fonction *monLU(A::Matrix{Float64})* qui met en oeuvre la factorisation LU sans pivotage."
   ]
  },
  {
   "cell_type": "code",
   "execution_count": 5,
   "metadata": {},
   "outputs": [
    {
     "data": {
      "text/plain": [
       "monLU (generic function with 1 method)"
      ]
     },
     "execution_count": 5,
     "metadata": {},
     "output_type": "execute_result"
    }
   ],
   "source": [
    "using LinearAlgebra\n",
    "\n",
    "function monLU(A)\n",
    "   \n",
    "   #initiliasation \n",
    "    AA = copy(A)\n",
    "    n,m = size(AA)\n",
    "    \n",
    "    #début de l'agorithme\n",
    "    for k =1:n-1\n",
    "        for i = k+1:n\n",
    "            AA[i,k] = AA[i,k]/AA[k,k]\n",
    "        end\n",
    "        for i = k+1:n\n",
    "            for j = k+1:n\n",
    "                AA[i,j] = AA[i,j] - AA[i,k]*AA[k,j]  \n",
    "            end\n",
    "        end\n",
    "    end\n",
    "    \n",
    "    #détermination de la matrice L et U \n",
    "    Identite = Matrix{Float64}(I, n,n)\n",
    "    L = tril(AA,-1)+Identite\n",
    "    U = triu(AA)\n",
    "    return L,U\n",
    "end         "
   ]
  },
  {
   "cell_type": "code",
   "execution_count": 28,
   "metadata": {},
   "outputs": [
    {
     "data": {
      "text/plain": [
       "3×3 Array{Float64,2}:\n",
       "  1.0   0.0  0.0\n",
       " -1.0   1.0  0.0\n",
       "  3.0  10.0  1.0"
      ]
     },
     "execution_count": 28,
     "metadata": {},
     "output_type": "execute_result"
    }
   ],
   "source": [
    "#création des tests\n",
    "A = [1 1 2; \n",
    "    -1 -2 3;\n",
    "    3 -7 4.]\n",
    "\n",
    "b = [8,1,10.]\n",
    "\n",
    "L,U = monLU(A)\n",
    "L"
   ]
  },
  {
   "cell_type": "code",
   "execution_count": 29,
   "metadata": {},
   "outputs": [
    {
     "data": {
      "text/plain": [
       "3×3 Array{Float64,2}:\n",
       " 1.0   1.0    2.0\n",
       " 0.0  -1.0    5.0\n",
       " 0.0   0.0  -52.0"
      ]
     },
     "execution_count": 29,
     "metadata": {},
     "output_type": "execute_result"
    }
   ],
   "source": [
    "U"
   ]
  },
  {
   "cell_type": "code",
   "execution_count": 30,
   "metadata": {},
   "outputs": [
    {
     "data": {
      "text/plain": [
       "3×3 Array{Float64,2}:\n",
       "  1.0   1.0  2.0\n",
       " -1.0  -2.0  3.0\n",
       "  3.0  -7.0  4.0"
      ]
     },
     "execution_count": 30,
     "metadata": {},
     "output_type": "execute_result"
    }
   ],
   "source": [
    "L*U"
   ]
  },
  {
   "cell_type": "markdown",
   "metadata": {},
   "source": [
    "- écrire une fonction *descente(L::Matrix{Float64}, b::Vector{Float64})* qui retourne *z* en mettant en oeuvre la résolution par decente d'un système triangulaire inférieur."
   ]
  },
  {
   "cell_type": "code",
   "execution_count": 31,
   "metadata": {},
   "outputs": [
    {
     "data": {
      "text/plain": [
       "descente (generic function with 1 method)"
      ]
     },
     "execution_count": 31,
     "metadata": {},
     "output_type": "execute_result"
    }
   ],
   "source": [
    "function descente(L,b)\n",
    "\n",
    "    n,m = size(L)\n",
    "    x = zeros(Int, n)\n",
    "    t = 0\n",
    "    \n",
    "    for i = 1:n\n",
    "        for j = 1:i-1\n",
    "            t = t+L[i,j]*x[j]\n",
    "        end\n",
    "        x[i] = b[i]-t\n",
    "        t = 0\n",
    "    end\n",
    "    return x\n",
    "end\n"
   ]
  },
  {
   "cell_type": "code",
   "execution_count": 32,
   "metadata": {},
   "outputs": [
    {
     "data": {
      "text/plain": [
       "3-element Array{Int64,1}:\n",
       "    8\n",
       "    9\n",
       " -104"
      ]
     },
     "execution_count": 32,
     "metadata": {},
     "output_type": "execute_result"
    }
   ],
   "source": [
    "y = descente(L,b)"
   ]
  },
  {
   "cell_type": "code",
   "execution_count": 33,
   "metadata": {},
   "outputs": [
    {
     "data": {
      "text/plain": [
       "3-element Array{Float64,1}:\n",
       "  8.0\n",
       "  1.0\n",
       " 10.0"
      ]
     },
     "execution_count": 33,
     "metadata": {},
     "output_type": "execute_result"
    }
   ],
   "source": [
    "L*y"
   ]
  },
  {
   "cell_type": "markdown",
   "metadata": {},
   "source": [
    "- écrire une fonction *remontee(U::Matrix{Float64}, z::Vector{Float64})* qui retourne *x* en mettant en oeuvre la résolution par remontée d'un système triangulaire supérieur."
   ]
  },
  {
   "cell_type": "code",
   "execution_count": 34,
   "metadata": {},
   "outputs": [
    {
     "data": {
      "text/plain": [
       "remonte (generic function with 1 method)"
      ]
     },
     "execution_count": 34,
     "metadata": {},
     "output_type": "execute_result"
    }
   ],
   "source": [
    "function remonte(U, z)\n",
    "    x = zeros(1, size(b,1))\n",
    "\n",
    "    for i in 1:size(z,1)\n",
    "        sum = 0\n",
    "        for j in i+1:size(z,1)\n",
    "            sum += x[j] * U[i,j]\n",
    "        end\n",
    "        x[i] = (z[i] - sum) / U[i,i]\n",
    "    end\n",
    "    return x\n",
    "end\n"
   ]
  },
  {
   "cell_type": "code",
   "execution_count": 35,
   "metadata": {},
   "outputs": [
    {
     "data": {
      "text/plain": [
       "1×3 Array{Float64,2}:\n",
       " 8.0  -9.0  2.0"
      ]
     },
     "execution_count": 35,
     "metadata": {},
     "output_type": "execute_result"
    }
   ],
   "source": [
    "remonte(U,y)"
   ]
  },
  {
   "cell_type": "markdown",
   "metadata": {},
   "source": [
    "- écrire une fonction *monPivotLu(A::Matrix{Float64})* qui met en oeuvre la factorisation LU avec pivotage partiel."
   ]
  },
  {
   "cell_type": "code",
   "execution_count": 40,
   "metadata": {},
   "outputs": [
    {
     "data": {
      "text/plain": [
       "monPivotLu (generic function with 2 methods)"
      ]
     },
     "execution_count": 40,
     "metadata": {},
     "output_type": "execute_result"
    }
   ],
   "source": [
    "function monPivotLu(A::Matrix{Float64}) # retourne perm, UP et LP \n",
    "   #initiliasation \n",
    "    AA = copy(A)\n",
    "    n = size(A,1) #pour récupérer les dimensions de la matrice \n",
    "    Identite = Matrix{Float64}(I, n,n)\n",
    "    Q = Matrix{Float64}(I, n,n)\n",
    "\n",
    "    for k = 1:(n-1)\n",
    "        imax=1 #ligne du pivot max\n",
    "        pivot=abs(A[k,k])\n",
    "\n",
    "        for i = k+1:n\n",
    "            if abs(AA[i,k]) > pivot\n",
    "                pivot = abs(AA[i,k])\n",
    "                imax = i\n",
    "            end\n",
    "        end\n",
    "        AA[k,:],AA[imax,:] = AA[imax,:],AA[k,:] #on interverti deux lignes entre elles\n",
    "        Q[k,:],Q[imax,:] = Q[imax,:],Q[k,:]\n",
    "\n",
    "        for i = k+1:n \n",
    "            AA[i,k] = AA[i,k]/AA[k,k]\n",
    "        end\n",
    "        for i = k+1:n\n",
    "            for j = k+1:n\n",
    "                AA[i,j] = AA[i,j] - AA[i,k]*AA[k,j]  \n",
    "            end\n",
    "        end\n",
    "    end\n",
    "    \n",
    "    #détermination de la matrice L et U \n",
    "    \n",
    "    LP = tril(AA,-1)+Identite\n",
    "    UP = triu(AA)\n",
    "    return L,U,Q\n",
    "end"
   ]
  },
  {
   "cell_type": "code",
   "execution_count": 41,
   "metadata": {},
   "outputs": [
    {
     "data": {
      "text/plain": [
       "([1.0 0.0 0.0; -1.0 1.0 0.0; 3.0 10.0 1.0], [1.0 1.0 2.0; 0.0 -1.0 5.0; 0.0 0.0 -52.0], [0.0 0.0 1.0; 1.0 0.0 0.0; 0.0 1.0 0.0])"
      ]
     },
     "execution_count": 41,
     "metadata": {},
     "output_type": "execute_result"
    }
   ],
   "source": [
    "L,U,Q = monPivotLu(A)"
   ]
  },
  {
   "cell_type": "markdown",
   "metadata": {},
   "source": [
    "- tester vos fonctions en résolvant les systèmes d'équations suivants:\n",
    "  1. premier système à résoudre:\n",
    "$$\\begin{align*} \n",
    "x_1 + x_2 + 2x_3 &=  8 \\\\ \n",
    "-x_1 - 2x_2 + 3x_3 &=  1 \\\\\n",
    "3x_1 - 7x_2 + 4x_3 &= 10\n",
    "\\end{align*}$$\n",
    "  1. deuxième système à résoudre:\n",
    "$$\\begin{align*} \n",
    "x_1 - x_2 + 2x_3 - x_4 &= -1 \\\\ \n",
    "2x_1 + x_2 - 2x_3 - 2x_4 &= -2 \\\\\n",
    "-x_1 + 2x_2 - 4x_3 + x_4 &=  1 \\\\\n",
    "3x_1 - 3x_4 &= -3\n",
    "\\end{align*}$$"
   ]
  },
  {
   "cell_type": "code",
   "execution_count": 42,
   "metadata": {},
   "outputs": [
    {
     "name": "stdout",
     "output_type": "stream",
     "text": [
      "[1.0 -1.0 2.0 -1.0; 2.0 1.0 -2.0 -2.0; -1.0 2.0 -4.0 1.0; 3.0 0.0 0.0 -3.0]\n",
      " les solutions du systèmes sont : [-1.0 -1.0 0.11538461538461539]\n"
     ]
    }
   ],
   "source": [
    "  #2\n",
    "  A2 = [1. -1 2 -1;\n",
    "        2 1 -2 -2;\n",
    "        -1 2 -4 1;\n",
    "        3 0 0 -3]\n",
    "  b2 = [-1.;2;1;-3]\n",
    "\n",
    "println(A2)\n",
    "\n",
    "L2,U2,Q2 = monPivotLu(A2)\n",
    "y2 = descente(L2,b2)\n",
    "x2 = remonte(U2,y2)\n",
    "print(\" les solutions du systèmes sont : \")\n",
    "println(x2)\n",
    " "
   ]
  },
  {
   "cell_type": "markdown",
   "metadata": {},
   "source": [
    "## fin du TP2"
   ]
  },
  {
   "cell_type": "markdown",
   "metadata": {
    "editable": false
   },
   "source": [
    "Soit **f** la fonction de la variable réelle **x** telle que $$f(x)=x^3-4x+1.$$ Calculer la fonction dérivée **df** de **f** (à la main)."
   ]
  },
  {
   "cell_type": "code",
   "execution_count": null,
   "metadata": {},
   "outputs": [],
   "source": []
  }
 ],
 "metadata": {
  "kernelspec": {
   "display_name": "Julia 1.5.3",
   "language": "julia",
   "name": "julia-1.5"
  },
  "language_info": {
   "file_extension": ".jl",
   "mimetype": "application/julia",
   "name": "julia",
   "version": "1.5.3"
  }
 },
 "nbformat": 4,
 "nbformat_minor": 2
}
