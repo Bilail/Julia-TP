{
 "cells": [
  {
   "cell_type": "markdown",
   "metadata": {},
   "source": [
    "## Polytech Paris Saclay | 3ème année\n",
    "\n",
    "\n",
    "## TP1 Calcul scientifique: la méthode de Newton"
   ]
  },
  {
   "cell_type": "markdown",
   "metadata": {},
   "source": [
    "- Exercice 1"
   ]
  },
  {
   "cell_type": "markdown",
   "metadata": {},
   "source": [
    "Ecrire une fonction **newton(x0, f, df, tol, itmax)** qui met en oeuvre la méthode de Newton pour le cas d'une fonction **f** de dérivée **df** initialisée avec la quantité **x0** et qui s'interrompt lorsque la distance entre deux itérations successives devient inférieure à la quantité **tol** ou lorsque le nombre d'itérations maximal **itmax** est atteint. On attend en sortie une valeur approchée **y** d'une solution de $$f(x)=0$$ et **N** le nombre d'itérations ayant permis d'obtenir cette valeur approchée."
   ]
  },
  {
   "cell_type": "markdown",
   "metadata": {
    "editable": false
   },
   "source": [
    "Soit **f** la fonction de la variable réelle **x** telle que $$f(x)=x^3-4x+1.$$ Calculer la fonction dérivée **df** de **f** (à la main)."
   ]
  },
  {
   "cell_type": "markdown",
   "metadata": {},
   "source": [
    "Rechercher les solutions de l'équation $f(x)=0$ en initialisant successivement la méthode de Newton avec $x0 = -2.5, 0, 2.$"
   ]
  },
  {
   "cell_type": "markdown",
   "metadata": {},
   "source": [
    "- exercice 2:"
   ]
  },
  {
   "cell_type": "markdown",
   "metadata": {},
   "source": [
    "On souhaite résoudre dans $\\mathbb{R}$ une équation du troisième degré à coefficients réels $ax^3+bx^2+cx+d=0$. Ecrire un programme julia qui fait les tâches suivantes:"
   ]
  },
  {
   "cell_type": "markdown",
   "metadata": {},
   "source": [
    "   * Trouver une racine réelle $x1$ par la méthode de Newton: écrire une fonction **newtonpoly(a, b, c, d, x0, tol, itmax)** "
   ]
  },
  {
   "cell_type": "markdown",
   "metadata": {},
   "source": [
    "  * Diviser le polynôme par $(x-x1)$"
   ]
  },
  {
   "cell_type": "markdown",
   "metadata": {},
   "source": [
    "  * Résoudre l'équation du second degré résultante pour obtenir les deux autres racines."
   ]
  }
 ],
 "metadata": {
  "celltoolbar": "Format de la Cellule Texte Brut",
  "kernelspec": {
   "display_name": "Julia 1.3.0",
   "language": "julia",
   "name": "julia-1.3"
  },
  "language_info": {
   "file_extension": ".jl",
   "mimetype": "application/julia",
   "name": "julia",
   "version": "1.3.0"
  }
 },
 "nbformat": 4,
 "nbformat_minor": 4
}
