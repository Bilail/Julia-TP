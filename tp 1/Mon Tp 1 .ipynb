{
 "cells": [
  {
   "cell_type": "markdown",
   "metadata": {},
   "source": [
    "## Polytech Paris Saclay | 3ème année\n",
    "\n",
    "\n",
    "## TP1 Calcul scientifique: la méthode de Newton"
   ]
  },
  {
   "cell_type": "markdown",
   "metadata": {},
   "source": [
    "- Exercice 1"
   ]
  },
  {
   "cell_type": "markdown",
   "metadata": {},
   "source": [
    "Ecrire une fonction **newton(x0, f, df, tol, itmax)** qui met en oeuvre la méthode de Newton pour le cas d'une fonction **f** de dérivée **df** initialisée avec la quantité **x0** et qui s'interrompt lorsque la distance entre deux itérations successives devient inférieure à la quantité **tol** ou lorsque le nombre d'itérations maximal **itmax** est atteint. On attend en sortie une valeur approchée **y** d'une solution de $$f(x)=0$$ et **N** le nombre d'itérations ayant permis d'obtenir cette valeur approchée."
   ]
  },
  {
   "cell_type": "markdown",
   "metadata": {
    "editable": false
   },
   "source": [
    "Soit **f** la fonction de la variable réelle **x** telle que $$f(x)=x^3-4x+1.$$ Calculer la fonction dérivée **df** de **f** (à la main)."
   ]
  },
  {
   "cell_type": "markdown",
   "metadata": {},
   "source": [
    "$$f'(x)=3x^2-4.$$"
   ]
  },
  {
   "cell_type": "markdown",
   "metadata": {},
   "source": [
    "Rechercher les solutions de l'équation $f(x)=0$ en initialisant successivement la méthode de Newton avec $x0 = -2.5, 0, 2.$"
   ]
  },
  {
   "cell_type": "code",
   "execution_count": 5,
   "metadata": {},
   "outputs": [
    {
     "output_type": "execute_result",
     "data": {
      "text/plain": [
       "f (generic function with 1 method)"
      ]
     },
     "metadata": {},
     "execution_count": 5
    }
   ],
   "source": [
    "function f(x)\n",
    "    return x^3-4*x+1\n",
    "end"
   ]
  },
  {
   "cell_type": "code",
   "execution_count": 6,
   "metadata": {},
   "outputs": [
    {
     "output_type": "execute_result",
     "data": {
      "text/plain": [
       "df (generic function with 1 method)"
      ]
     },
     "metadata": {},
     "execution_count": 6
    }
   ],
   "source": [
    "function df(x)\n",
    "    return 3*x^2-4\n",
    "end"
   ]
  },
  {
   "cell_type": "code",
   "execution_count": 7,
   "metadata": {},
   "outputs": [
    {
     "output_type": "execute_result",
     "data": {
      "text/plain": [
       "newton (generic function with 1 method)"
      ]
     },
     "metadata": {},
     "execution_count": 7
    }
   ],
   "source": [
    "function newton(x0,f,df,tol,itmax)\n",
    "    x = 0\n",
    "    i = 0 \n",
    "    while i < itmax \n",
    "        i = i+1\n",
    "        x = x0-(f(x0)/df(x0))\n",
    "        if abs(x-x0) < tol\n",
    "            return [x, i]\n",
    "        else\n",
    "            x0 = x\n",
    "        end\n",
    "    end\n",
    "end "
   ]
  },
  {
   "cell_type": "code",
   "execution_count": 8,
   "metadata": {},
   "outputs": [
    {
     "output_type": "execute_result",
     "data": {
      "text/plain": [
       "2-element Array{Float64,1}:\n",
       " -2.114907541509005\n",
       "  4.0"
      ]
     },
     "metadata": {},
     "execution_count": 8
    }
   ],
   "source": [
    "newton(-2.5,f,df,0.00001,10)"
   ]
  },
  {
   "cell_type": "code",
   "execution_count": 9,
   "metadata": {},
   "outputs": [
    {
     "output_type": "execute_result",
     "data": {
      "text/plain": [
       "2-element Array{Float64,1}:\n",
       " 0.25410168836283464\n",
       " 3.0"
      ]
     },
     "metadata": {},
     "execution_count": 9
    }
   ],
   "source": [
    "newton(0,f,df,0.00001,10)"
   ]
  },
  {
   "cell_type": "code",
   "execution_count": 10,
   "metadata": {},
   "outputs": [
    {
     "output_type": "execute_result",
     "data": {
      "text/plain": [
       "2-element Array{Float64,1}:\n",
       " 1.860805853111704\n",
       " 4.0"
      ]
     },
     "metadata": {},
     "execution_count": 10
    }
   ],
   "source": [
    "newton(2,f,df,0.00001,10)"
   ]
  },
  {
   "cell_type": "markdown",
   "metadata": {},
   "source": [
    "- exercice 2:"
   ]
  },
  {
   "cell_type": "markdown",
   "metadata": {},
   "source": [
    "On souhaite résoudre dans $\\mathbb{R}$ une équation du troisième degré à coefficients réels $ax^3+bx^2+cx+d=0$. Ecrire un programme julia qui fait les tâches suivantes:"
   ]
  },
  {
   "cell_type": "markdown",
   "metadata": {},
   "source": [
    "   * Trouver une racine réelle $x1$ par la méthode de Newton: écrire une fonction **newtonpoly(a, b, c, d, x0, tol, itmax)** "
   ]
  },
  {
   "cell_type": "code",
   "execution_count": 11,
   "metadata": {},
   "outputs": [
    {
     "output_type": "execute_result",
     "data": {
      "text/plain": [
       "newtonpoly (generic function with 1 method)"
      ]
     },
     "metadata": {},
     "execution_count": 11
    }
   ],
   "source": [
    "function newtonpoly(a, b, c, d, x0, tol, itmax)\n",
    "    x = 0\n",
    "    i = 0\n",
    "    while i < itmax \n",
    "        i = i+1\n",
    "        x = x-((a*x0^3+b*x0^2+c*x0+d)/(3*a*x0^2+2*b*x0+c))\n",
    "        if abs(x-x0) < tol\n",
    "            return [x, i]\n",
    "        else\n",
    "            x0 = x\n",
    "        end\n",
    "    end\n",
    "end "
   ]
  },
  {
   "cell_type": "markdown",
   "metadata": {},
   "source": [
    "  * Diviser le polynôme par $(x-x1)$   -------------->   $(x-x1)(Ax^2+Bx+C)$   "
   ]
  },
  {
   "cell_type": "markdown",
   "metadata": {},
   "source": [
    "  * Résoudre l'équation du second degré résultante pour obtenir les deux autres racines."
   ]
  },
  {
   "cell_type": "code",
   "execution_count": null,
   "metadata": {},
   "outputs": [],
   "source": []
  }
 ],
 "metadata": {
  "kernelspec": {
   "display_name": "Julia 1.5.3",
   "language": "julia",
   "name": "julia-1.5"
  },
  "language_info": {
   "file_extension": ".jl",
   "mimetype": "application/julia",
   "name": "julia",
   "version": "1.5.3"
  }
 },
 "nbformat": 4,
 "nbformat_minor": 2
}