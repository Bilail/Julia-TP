{
 "cells": [
  {
   "cell_type": "markdown",
   "metadata": {},
   "source": [
    "# <center>TP0: Mon NoteBook Julia <center>"
   ]
  },
  {
   "cell_type": "markdown",
   "metadata": {},
   "source": [
    "## Opérations arithmétiques de base"
   ]
  },
  {
   "cell_type": "markdown",
   "metadata": {},
   "source": [
    "Le langage Julia est avant tout une grosse calculatrice. On peut effectuer toutes les opérations arithmétiques élémentaires : "
   ]
  },
  {
   "cell_type": "markdown",
   "metadata": {},
   "source": [
    "**calculer 237 Modulo 17**"
   ]
  },
  {
   "cell_type": "code",
   "execution_count": 18,
   "metadata": {},
   "outputs": [
    {
     "data": {
      "text/plain": [
       "16"
      ]
     },
     "execution_count": 18,
     "metadata": {},
     "output_type": "execute_result"
    }
   ],
   "source": [
    "237%17"
   ]
  },
  {
   "cell_type": "markdown",
   "metadata": {},
   "source": [
    "**vérifier que c'est juste en utilisant la fonction floor(), c'est à dire, partie entière**"
   ]
  },
  {
   "cell_type": "markdown",
   "metadata": {},
   "source": [
    "## Les variables"
   ]
  },
  {
   "cell_type": "markdown",
   "metadata": {},
   "source": [
    "Pour effectuer des calculs plus complexes et plus génériques, on peut stocker des valeurs dans des variables et réaliser des opérations sur ces mêmes variables sans connaître nécessairement leur valeur au moment de l'exécution."
   ]
  },
  {
   "cell_type": "markdown",
   "metadata": {},
   "source": [
    "**affecter aux 3 variables x, y z les valeurs 2, 3.14 et pi**"
   ]
  },
  {
   "cell_type": "code",
   "execution_count": 1,
   "metadata": {},
   "outputs": [
    {
     "data": {
      "text/plain": [
       "π = 3.1415926535897..."
      ]
     },
     "execution_count": 1,
     "metadata": {},
     "output_type": "execute_result"
    }
   ],
   "source": [
    "x = 2\n",
    "y = 3.14\n",
    "z = pi"
   ]
  },
  {
   "cell_type": "markdown",
   "metadata": {},
   "source": [
    "## Les types"
   ]
  },
  {
   "cell_type": "markdown",
   "metadata": {},
   "source": [
    "En Julia il est possible de manipuler autre chose que des nombres, et même différents types de nombre. Ce sont les \"types\" des variables. La fonction typeof() permet d'obtenir le type d'une variable ou d'une constante. Il existe par exemple : "
   ]
  },
  {
   "cell_type": "markdown",
   "metadata": {},
   "source": [
    "D'autres types sont disponibles en Julia. Par exemple les booléens qui prennent la valeur VRAI ou FAUX et sur lesquels des opérations logiques peuvent être appliqués. "
   ]
  },
  {
   "cell_type": "markdown",
   "metadata": {},
   "source": [
    "**prendre 2 variables a et b valant true et false et calculer ( (a OR b) AND a ) XOR b**"
   ]
  },
  {
   "cell_type": "code",
   "execution_count": 4,
   "metadata": {},
   "outputs": [
    {
     "data": {
      "text/plain": [
       "true"
      ]
     },
     "execution_count": 4,
     "metadata": {},
     "output_type": "execute_result"
    }
   ],
   "source": [
    "a = true \n",
    "b = false \n",
    "\n",
    "((a || n) && a) ⊻  b "
   ]
  },
  {
   "cell_type": "markdown",
   "metadata": {},
   "source": [
    "On peut également manipuler des caractères et des chaînes de caractère -- généralement pour manipuler du texte. Un caractère est défini entre guillemets simples et les chaînes de caractères entre guillemets doubles."
   ]
  },
  {
   "cell_type": "markdown",
   "metadata": {},
   "source": [
    "**définir les variables carac, chaine comme un caractère seul et une chaîne puis vérifier les types de x, y, z, a, car et chaine en les affichant avec la fonction println()**"
   ]
  },
  {
   "cell_type": "code",
   "execution_count": 5,
   "metadata": {},
   "outputs": [
    {
     "name": "stdout",
     "output_type": "stream",
     "text": [
      "2\n",
      "3.14\n",
      "π\n",
      "true\n",
      "a\n",
      "bonjour\n"
     ]
    }
   ],
   "source": [
    "carac = 'a'\n",
    "chaine = \"bonjour\"\n",
    "println(x)\n",
    "println(y)\n",
    "println(z)\n",
    "println(a)\n",
    "println(carac)\n",
    "println(chaine)"
   ]
  },
  {
   "cell_type": "markdown",
   "metadata": {},
   "source": [
    "## Les vecteurs"
   ]
  },
  {
   "cell_type": "markdown",
   "metadata": {},
   "source": [
    "Pour manipuler plusieurs données plus simplement qu'en leur attribuant à toutes une variable différente, il est possible de les stocker dans un vecteur. "
   ]
  },
  {
   "cell_type": "markdown",
   "metadata": {},
   "source": [
    "**créer un vecteur v contenant 0.5, 1, -0.5.**"
   ]
  },
  {
   "cell_type": "code",
   "execution_count": 6,
   "metadata": {},
   "outputs": [
    {
     "data": {
      "text/plain": [
       "3-element Array{Float64,1}:\n",
       "  0.5\n",
       "  1.0\n",
       " -0.5"
      ]
     },
     "execution_count": 6,
     "metadata": {},
     "output_type": "execute_result"
    }
   ],
   "source": [
    "v = [0.5,1,-0.5]"
   ]
  },
  {
   "cell_type": "markdown",
   "metadata": {},
   "source": [
    "Pour accéder aux éléments du vecteur on utilise la notation v[k] pour accéder au k-ième élément de v."
   ]
  },
  {
   "cell_type": "markdown",
   "metadata": {},
   "source": [
    "**Tenter d'accéder au 4e élément d'un vecteur de taille 3 soulève une erreur de l'interpréteur.**"
   ]
  },
  {
   "cell_type": "code",
   "execution_count": 7,
   "metadata": {},
   "outputs": [
    {
     "ename": "LoadError",
     "evalue": "\u001b[91mBoundsError: attempt to access 3-element Array{Float64,1} at index [4]\u001b[39m",
     "output_type": "error",
     "traceback": [
      "\u001b[91mBoundsError: attempt to access 3-element Array{Float64,1} at index [4]\u001b[39m",
      "",
      "Stacktrace:",
      " [1] getindex(::Array{Float64,1}, ::Int64) at .\\array.jl:809",
      " [2] top-level scope at In[7]:1",
      " [3] include_string(::Function, ::Module, ::String, ::String) at .\\loading.jl:1091"
     ]
    }
   ],
   "source": [
    "v[4]"
   ]
  },
  {
   "cell_type": "markdown",
   "metadata": {},
   "source": [
    "**générer un vecteur r aleatoire de 10 éléments dont les valeurs entières sont entre 1 et 100**"
   ]
  },
  {
   "cell_type": "code",
   "execution_count": 31,
   "metadata": {},
   "outputs": [
    {
     "data": {
      "text/plain": [
       "10-element Array{Int64,1}:\n",
       "  1\n",
       "  7\n",
       "  1\n",
       "  7\n",
       "  2\n",
       "  2\n",
       " 10\n",
       "  7\n",
       " 10\n",
       "  2"
      ]
     },
     "execution_count": 31,
     "metadata": {},
     "output_type": "execute_result"
    }
   ],
   "source": [
    "r = rand(1:10, 10)"
   ]
  },
  {
   "cell_type": "markdown",
   "metadata": {},
   "source": [
    "**ajouter la valeur 11 comme 11ème élément**"
   ]
  },
  {
   "cell_type": "code",
   "execution_count": 21,
   "metadata": {},
   "outputs": [
    {
     "name": "stdout",
     "output_type": "stream",
     "text": [
      "11\n"
     ]
    }
   ],
   "source": [
    "push!(r,11)\n",
    "println(r[11])"
   ]
  },
  {
   "cell_type": "markdown",
   "metadata": {},
   "source": [
    "**créer un vecteur s de taille 5, de réels, initialisé avec des zéros**"
   ]
  },
  {
   "cell_type": "code",
   "execution_count": 22,
   "metadata": {},
   "outputs": [
    {
     "name": "stdout",
     "output_type": "stream",
     "text": [
      "0\n",
      "0\n",
      "0\n",
      "0\n",
      "0\n"
     ]
    }
   ],
   "source": [
    "s = []\n",
    "for i =1:5          \n",
    "    push!(s,0)\n",
    "    println(s[i])\n",
    "end"
   ]
  },
  {
   "cell_type": "markdown",
   "metadata": {},
   "source": [
    "### Quelques opérations élémentaires sur les vecteurs "
   ]
  },
  {
   "cell_type": "markdown",
   "metadata": {},
   "source": [
    "On peut sommer deux vecteurs de même taille : "
   ]
  },
  {
   "cell_type": "markdown",
   "metadata": {},
   "source": [
    "**générer 2 vecteurs v et w de 10 entiers et les additionner**"
   ]
  },
  {
   "cell_type": "code",
   "execution_count": 30,
   "metadata": {},
   "outputs": [
    {
     "name": "stdout",
     "output_type": "stream",
     "text": [
      "[9, 10, 7, 9, 13, 11, 6, 10, 10, 6]\n"
     ]
    }
   ],
   "source": [
    "v = rand(1:10, 10)\n",
    "w = rand(1:10, 10)\n",
    "z = v+w\n",
    "println(z)"
   ]
  },
  {
   "cell_type": "markdown",
   "metadata": {},
   "source": [
    "Le produit scalaire n'est pas accessible directement par le symbole *, il faut passer par la fonction dot."
   ]
  },
  {
   "cell_type": "markdown",
   "metadata": {},
   "source": [
    "**faire leur produit scalaire en utilisant le package LinearAlgebra et la fonction dot**"
   ]
  },
  {
   "cell_type": "code",
   "execution_count": 26,
   "metadata": {},
   "outputs": [
    {
     "data": {
      "text/plain": [
       "20"
      ]
     },
     "execution_count": 26,
     "metadata": {},
     "output_type": "execute_result"
    }
   ],
   "source": [
    "using LinearAlgebra\n",
    "dot(v,w)"
   ]
  },
  {
   "cell_type": "markdown",
   "metadata": {},
   "source": [
    "## Les structures de contrôle"
   ]
  },
  {
   "cell_type": "markdown",
   "metadata": {},
   "source": [
    "### La boucle for"
   ]
  },
  {
   "cell_type": "markdown",
   "metadata": {},
   "source": [
    "La syntaxe est la suivante : <br>\n",
    "for variable_de_parcours = structure_de_donnees_a_parcourir <br>\n",
    "&nbsp;&nbsp;&nbsp;&nbsp;&nbsp;&nbsp; BLOC d'INSTRUCTIONS <br>\n",
    "end\n"
   ]
  },
  {
   "cell_type": "markdown",
   "metadata": {},
   "source": [
    "**calculer le produit scalaire précédent en utilisant la multiplication élément par élément et une boucle for de sommation et vérifier l'égalité**"
   ]
  },
  {
   "cell_type": "code",
   "execution_count": 29,
   "metadata": {},
   "outputs": [
    {
     "name": "stdout",
     "output_type": "stream",
     "text": [
      "20\n"
     ]
    }
   ],
   "source": [
    "res = 0 \n",
    "for i =1:10          \n",
    "    res = res + v[i]*w[i]\n",
    "end\n",
    "\n",
    "println(res)"
   ]
  },
  {
   "cell_type": "markdown",
   "metadata": {},
   "source": [
    "**créer z, un vecteur d'entiers de taille 10 et mettre des nombres pairs aleatoires dedans**"
   ]
  },
  {
   "cell_type": "code",
   "execution_count": null,
   "metadata": {},
   "outputs": [],
   "source": [
    "z = []\n",
    "for i =1:10 \n",
    "    t = rand(1:100)\n",
    "    while t%2 =! 0 \n",
    "        push!(z,rand(1:100))\n",
    "    \n",
    "end"
   ]
  },
  {
   "cell_type": "markdown",
   "metadata": {},
   "source": [
    "### La structure conditionnelle (if) "
   ]
  },
  {
   "cell_type": "markdown",
   "metadata": {},
   "source": [
    "Pour qu'un bloc d'instructions ne soit exécuté que si une condition est respectée, on utilise la structure if. <br> \n",
    "La syntaxe est la suivante : <br>\n",
    "if condition <br>\n",
    "&nbsp;&nbsp;&nbsp;&nbsp;&nbsp;&nbsp; BLOC d'INSTRUCTIONS <br>\n",
    "end"
   ]
  },
  {
   "cell_type": "markdown",
   "metadata": {},
   "source": [
    "**dans le vecteur z précédent, n'afficher que les valeurs inférieures à 50**"
   ]
  },
  {
   "cell_type": "markdown",
   "metadata": {},
   "source": [
    "Des structures plus complexes peuvent être mises en place : le mot clé \"else\" permet d'exécuter un bloc d'instructions si la condition du if est fausse. Le mot clé \"else if\" permet de tester une autre condition. "
   ]
  },
  {
   "cell_type": "markdown",
   "metadata": {},
   "source": [
    "**parcourir le vecteur z et afficher: l'indice, la propriété testée, le calcul pour les propriétés suivantes:**\n",
    "\n",
    "**si valeur mutliple de 4, alors calcul: valeur modulo 3,**\n",
    "\n",
    "**sinon, si valeur inférieure à 50 , alors calcul: valeur au carré**\n",
    "\n",
    "**sinon, calcul: partie entière de 100(inverse de valeur)**"
   ]
  },
  {
   "cell_type": "markdown",
   "metadata": {},
   "source": [
    "### La boucle while "
   ]
  },
  {
   "cell_type": "markdown",
   "metadata": {},
   "source": [
    "Pour exécuter une opération tant qu'une condition est vérifiée on utilise la boucle while. La syntaxe est la suivante : <br>\n",
    "while condition <br>\n",
    "&nbsp;&nbsp;&nbsp;&nbsp;&nbsp;&nbsp; BLOC d'INSTRUCTIONS <br>\n",
    "end"
   ]
  },
  {
   "cell_type": "markdown",
   "metadata": {},
   "source": [
    "Typiquement, dans un alogorithme qui est censé converger, on teste la condition de boucle tant que la précision (tol) n'est pas atteinte en un nombre d'itérations maximal (itmax)."
   ]
  },
  {
   "cell_type": "markdown",
   "metadata": {},
   "source": [
    "**Calculer le nombre de termes nécessaires de la suite $(U_n)$ définie par $u_n=1/x^n, x > 1$ pour approcher zéro à epsilon prés. Prendre x aléatoire > 1, epsilon = 1e-4 et ne pas dépasser 20 itérations**"
   ]
  },
  {
   "cell_type": "markdown",
   "metadata": {},
   "source": [
    "## Les fonctions"
   ]
  },
  {
   "cell_type": "markdown",
   "metadata": {},
   "source": [
    "Pour réutiliser un morceau de code qui revient souvent, il est plus simple de stocker ce bloc d'instructions dans une fonction. Une fonction prend des arguments en entrée, effectue un bloc d'instructions et retourne éventuellement des valeurs en sortie. La syntaxe est : <br>\n",
    "<br>\n",
    "function nom_de_ma_fonction(argument1, argument2, ..., argument_k) <br>\n",
    "&nbsp;&nbsp;&nbsp;&nbsp;&nbsp;&nbsp; BLOC d'INSTRUCTIONS <br>\n",
    "end"
   ]
  },
  {
   "cell_type": "markdown",
   "metadata": {},
   "source": [
    "Fonctions simples: "
   ]
  },
  {
   "cell_type": "code",
   "execution_count": 6,
   "metadata": {},
   "outputs": [
    {
     "data": {
      "text/plain": [
       "f (generic function with 1 method)"
      ]
     },
     "execution_count": 6,
     "metadata": {},
     "output_type": "execute_result"
    }
   ],
   "source": [
    "# Déclaration de fonctions sous forme courte :\n",
    "f(x) = 42 * x^3"
   ]
  },
  {
   "cell_type": "code",
   "execution_count": 5,
   "metadata": {},
   "outputs": [
    {
     "data": {
      "text/plain": [
       "#3 (generic function with 1 method)"
      ]
     },
     "execution_count": 5,
     "metadata": {},
     "output_type": "execute_result"
    }
   ],
   "source": [
    "# Et même de lambdas :\n",
    "g = x -> 42 / x^6"
   ]
  },
  {
   "cell_type": "markdown",
   "metadata": {},
   "source": [
    "**calculer f(0) et g(1)**"
   ]
  },
  {
   "cell_type": "markdown",
   "metadata": {},
   "source": [
    "Fonctions plus élaborées (voir tuto)."
   ]
  },
  {
   "cell_type": "markdown",
   "metadata": {},
   "source": [
    "**programmer la résolution d'une équation du 2nd degré $ax^2+bx+c$**"
   ]
  },
  {
   "cell_type": "markdown",
   "metadata": {},
   "source": [
    "## Les matrices"
   ]
  },
  {
   "cell_type": "markdown",
   "metadata": {},
   "source": [
    "L'utilisation des matrices est semblable à celle des vecteurs. C'est une structure de données à deux dimensions contenant un type de variables précis. "
   ]
  },
  {
   "cell_type": "markdown",
   "metadata": {},
   "source": [
    "**initialiser la M matrice suivante**\n",
    "$$\\begin{bmatrix}\n",
    "1&2&0.5\\\\\n",
    "0&-2&3\\\\\n",
    "1&-4&-0.1\n",
    "\\end{bmatrix}$$"
   ]
  },
  {
   "cell_type": "markdown",
   "metadata": {},
   "source": [
    "**créer une matrice N de mêmes dimensions, remplie de '2'**"
   ]
  },
  {
   "cell_type": "markdown",
   "metadata": {},
   "source": [
    "**afficher la transposée M' de M**"
   ]
  },
  {
   "cell_type": "markdown",
   "metadata": {},
   "source": [
    "**afficher la 2ème ligne de M**"
   ]
  },
  {
   "cell_type": "markdown",
   "metadata": {},
   "source": [
    "### Algèbre linéaire élémentaire sur les matrices"
   ]
  },
  {
   "cell_type": "markdown",
   "metadata": {},
   "source": [
    "**ajouter M et N**"
   ]
  },
  {
   "cell_type": "markdown",
   "metadata": {},
   "source": [
    "**calculer le produit scalaire précédent de v et w en utilisant la multiplication d'un vecteur ligne par un vecteur colonne**"
   ]
  },
  {
   "cell_type": "markdown",
   "metadata": {},
   "source": [
    "**calculer d: le déterminant de M, invM: la matrice inverse de M le cas échéant et retrouver la matrice identité par multiplication de M et invM**"
   ]
  },
  {
   "cell_type": "markdown",
   "metadata": {},
   "source": [
    "## Les plots "
   ]
  },
  {
   "cell_type": "markdown",
   "metadata": {},
   "source": [
    "Pour afficher des courbes, on utilise la fonction plot. Sa syntaxe la plus basique est : plot(y) où y est un vecteur d'entiers/flottants. "
   ]
  },
  {
   "cell_type": "markdown",
   "metadata": {},
   "source": [
    "**vérifier les packages explicitement installés dans julia en utilisant \"using Pkg\" puis \"Pkg.status()\"**"
   ]
  },
  {
   "cell_type": "markdown",
   "metadata": {},
   "source": [
    "**si nécessaire, ajouter le package Plots avec Pkg.add(\"Plots\")** "
   ]
  },
  {
   "cell_type": "markdown",
   "metadata": {},
   "source": [
    "Ci-dessous un exemple plus complet qui montre : \n",
    "- comment rajouter des labels, des légendes\n",
    "- comment mettre plusieurs plots sur un même graphique \n",
    "- choisir la couleur, les marqueurs, le type de courbe "
   ]
  },
  {
   "cell_type": "code",
   "execution_count": 118,
   "metadata": {},
   "outputs": [
    {
     "data": {
      "image/svg+xml": [
       "<?xml version=\"1.0\" encoding=\"utf-8\"?>\n",
       "<svg xmlns=\"http://www.w3.org/2000/svg\" xmlns:xlink=\"http://www.w3.org/1999/xlink\" width=\"600\" height=\"400\" viewBox=\"0 0 2400 1600\">\n",
       "<defs>\n",
       "  <clipPath id=\"clip3900\">\n",
       "    <rect x=\"0\" y=\"0\" width=\"2400\" height=\"1600\"/>\n",
       "  </clipPath>\n",
       "</defs>\n",
       "<path clip-path=\"url(#clip3900)\" d=\"\n",
       "M0 1600 L2400 1600 L2400 0 L0 0  Z\n",
       "  \" fill=\"#ffffff\" fill-rule=\"evenodd\" fill-opacity=\"1\"/>\n",
       "<defs>\n",
       "  <clipPath id=\"clip3901\">\n",
       "    <rect x=\"480\" y=\"0\" width=\"1681\" height=\"1600\"/>\n",
       "  </clipPath>\n",
       "</defs>\n",
       "<path clip-path=\"url(#clip3900)\" d=\"\n",
       "M243.864 1425.62 L2352.76 1425.62 L2352.76 121.675 L243.864 121.675  Z\n",
       "  \" fill=\"#ffffff\" fill-rule=\"evenodd\" fill-opacity=\"1\"/>\n",
       "<defs>\n",
       "  <clipPath id=\"clip3902\">\n",
       "    <rect x=\"243\" y=\"121\" width=\"2110\" height=\"1305\"/>\n",
       "  </clipPath>\n",
       "</defs>\n",
       "<polyline clip-path=\"url(#clip3902)\" style=\"stroke:#000000; stroke-width:2; stroke-opacity:0.1; fill:none\" points=\"\n",
       "  303.55,1425.62 303.55,121.675 \n",
       "  \"/>\n",
       "<polyline clip-path=\"url(#clip3902)\" style=\"stroke:#000000; stroke-width:2; stroke-opacity:0.1; fill:none\" points=\"\n",
       "  800.93,1425.62 800.93,121.675 \n",
       "  \"/>\n",
       "<polyline clip-path=\"url(#clip3902)\" style=\"stroke:#000000; stroke-width:2; stroke-opacity:0.1; fill:none\" points=\"\n",
       "  1298.31,1425.62 1298.31,121.675 \n",
       "  \"/>\n",
       "<polyline clip-path=\"url(#clip3902)\" style=\"stroke:#000000; stroke-width:2; stroke-opacity:0.1; fill:none\" points=\"\n",
       "  1795.69,1425.62 1795.69,121.675 \n",
       "  \"/>\n",
       "<polyline clip-path=\"url(#clip3902)\" style=\"stroke:#000000; stroke-width:2; stroke-opacity:0.1; fill:none\" points=\"\n",
       "  2293.07,1425.62 2293.07,121.675 \n",
       "  \"/>\n",
       "<polyline clip-path=\"url(#clip3902)\" style=\"stroke:#000000; stroke-width:2; stroke-opacity:0.1; fill:none\" points=\"\n",
       "  243.864,1388.9 2352.76,1388.9 \n",
       "  \"/>\n",
       "<polyline clip-path=\"url(#clip3902)\" style=\"stroke:#000000; stroke-width:2; stroke-opacity:0.1; fill:none\" points=\"\n",
       "  243.864,1081.32 2352.76,1081.32 \n",
       "  \"/>\n",
       "<polyline clip-path=\"url(#clip3902)\" style=\"stroke:#000000; stroke-width:2; stroke-opacity:0.1; fill:none\" points=\"\n",
       "  243.864,773.739 2352.76,773.739 \n",
       "  \"/>\n",
       "<polyline clip-path=\"url(#clip3902)\" style=\"stroke:#000000; stroke-width:2; stroke-opacity:0.1; fill:none\" points=\"\n",
       "  243.864,466.159 2352.76,466.159 \n",
       "  \"/>\n",
       "<polyline clip-path=\"url(#clip3902)\" style=\"stroke:#000000; stroke-width:2; stroke-opacity:0.1; fill:none\" points=\"\n",
       "  243.864,158.579 2352.76,158.579 \n",
       "  \"/>\n",
       "<polyline clip-path=\"url(#clip3900)\" style=\"stroke:#000000; stroke-width:4; stroke-opacity:1; fill:none\" points=\"\n",
       "  243.864,1425.62 2352.76,1425.62 \n",
       "  \"/>\n",
       "<polyline clip-path=\"url(#clip3900)\" style=\"stroke:#000000; stroke-width:4; stroke-opacity:1; fill:none\" points=\"\n",
       "  243.864,1425.62 243.864,121.675 \n",
       "  \"/>\n",
       "<polyline clip-path=\"url(#clip3900)\" style=\"stroke:#000000; stroke-width:4; stroke-opacity:1; fill:none\" points=\"\n",
       "  303.55,1425.62 303.55,1409.97 \n",
       "  \"/>\n",
       "<polyline clip-path=\"url(#clip3900)\" style=\"stroke:#000000; stroke-width:4; stroke-opacity:1; fill:none\" points=\"\n",
       "  800.93,1425.62 800.93,1409.97 \n",
       "  \"/>\n",
       "<polyline clip-path=\"url(#clip3900)\" style=\"stroke:#000000; stroke-width:4; stroke-opacity:1; fill:none\" points=\"\n",
       "  1298.31,1425.62 1298.31,1409.97 \n",
       "  \"/>\n",
       "<polyline clip-path=\"url(#clip3900)\" style=\"stroke:#000000; stroke-width:4; stroke-opacity:1; fill:none\" points=\"\n",
       "  1795.69,1425.62 1795.69,1409.97 \n",
       "  \"/>\n",
       "<polyline clip-path=\"url(#clip3900)\" style=\"stroke:#000000; stroke-width:4; stroke-opacity:1; fill:none\" points=\"\n",
       "  2293.07,1425.62 2293.07,1409.97 \n",
       "  \"/>\n",
       "<polyline clip-path=\"url(#clip3900)\" style=\"stroke:#000000; stroke-width:4; stroke-opacity:1; fill:none\" points=\"\n",
       "  243.864,1388.9 269.171,1388.9 \n",
       "  \"/>\n",
       "<polyline clip-path=\"url(#clip3900)\" style=\"stroke:#000000; stroke-width:4; stroke-opacity:1; fill:none\" points=\"\n",
       "  243.864,1081.32 269.171,1081.32 \n",
       "  \"/>\n",
       "<polyline clip-path=\"url(#clip3900)\" style=\"stroke:#000000; stroke-width:4; stroke-opacity:1; fill:none\" points=\"\n",
       "  243.864,773.739 269.171,773.739 \n",
       "  \"/>\n",
       "<polyline clip-path=\"url(#clip3900)\" style=\"stroke:#000000; stroke-width:4; stroke-opacity:1; fill:none\" points=\"\n",
       "  243.864,466.159 269.171,466.159 \n",
       "  \"/>\n",
       "<polyline clip-path=\"url(#clip3900)\" style=\"stroke:#000000; stroke-width:4; stroke-opacity:1; fill:none\" points=\"\n",
       "  243.864,158.579 269.171,158.579 \n",
       "  \"/>\n",
       "<g clip-path=\"url(#clip3900)\">\n",
       "<text style=\"fill:#000000; fill-opacity:1; font-family:Arial,Helvetica Neue,Helvetica,sans-serif; font-size:48px; text-anchor:middle;\" transform=\"rotate(0, 303.55, 1479.62)\" x=\"303.55\" y=\"1479.62\">0.0</text>\n",
       "</g>\n",
       "<g clip-path=\"url(#clip3900)\">\n",
       "<text style=\"fill:#000000; fill-opacity:1; font-family:Arial,Helvetica Neue,Helvetica,sans-serif; font-size:48px; text-anchor:middle;\" transform=\"rotate(0, 800.93, 1479.62)\" x=\"800.93\" y=\"1479.62\">2.5</text>\n",
       "</g>\n",
       "<g clip-path=\"url(#clip3900)\">\n",
       "<text style=\"fill:#000000; fill-opacity:1; font-family:Arial,Helvetica Neue,Helvetica,sans-serif; font-size:48px; text-anchor:middle;\" transform=\"rotate(0, 1298.31, 1479.62)\" x=\"1298.31\" y=\"1479.62\">5.0</text>\n",
       "</g>\n",
       "<g clip-path=\"url(#clip3900)\">\n",
       "<text style=\"fill:#000000; fill-opacity:1; font-family:Arial,Helvetica Neue,Helvetica,sans-serif; font-size:48px; text-anchor:middle;\" transform=\"rotate(0, 1795.69, 1479.62)\" x=\"1795.69\" y=\"1479.62\">7.5</text>\n",
       "</g>\n",
       "<g clip-path=\"url(#clip3900)\">\n",
       "<text style=\"fill:#000000; fill-opacity:1; font-family:Arial,Helvetica Neue,Helvetica,sans-serif; font-size:48px; text-anchor:middle;\" transform=\"rotate(0, 2293.07, 1479.62)\" x=\"2293.07\" y=\"1479.62\">10.0</text>\n",
       "</g>\n",
       "<g clip-path=\"url(#clip3900)\">\n",
       "<text style=\"fill:#000000; fill-opacity:1; font-family:Arial,Helvetica Neue,Helvetica,sans-serif; font-size:48px; text-anchor:end;\" transform=\"rotate(0, 219.864, 1406.4)\" x=\"219.864\" y=\"1406.4\">-1.0</text>\n",
       "</g>\n",
       "<g clip-path=\"url(#clip3900)\">\n",
       "<text style=\"fill:#000000; fill-opacity:1; font-family:Arial,Helvetica Neue,Helvetica,sans-serif; font-size:48px; text-anchor:end;\" transform=\"rotate(0, 219.864, 1098.82)\" x=\"219.864\" y=\"1098.82\">-0.5</text>\n",
       "</g>\n",
       "<g clip-path=\"url(#clip3900)\">\n",
       "<text style=\"fill:#000000; fill-opacity:1; font-family:Arial,Helvetica Neue,Helvetica,sans-serif; font-size:48px; text-anchor:end;\" transform=\"rotate(0, 219.864, 791.239)\" x=\"219.864\" y=\"791.239\">0.0</text>\n",
       "</g>\n",
       "<g clip-path=\"url(#clip3900)\">\n",
       "<text style=\"fill:#000000; fill-opacity:1; font-family:Arial,Helvetica Neue,Helvetica,sans-serif; font-size:48px; text-anchor:end;\" transform=\"rotate(0, 219.864, 483.659)\" x=\"219.864\" y=\"483.659\">0.5</text>\n",
       "</g>\n",
       "<g clip-path=\"url(#clip3900)\">\n",
       "<text style=\"fill:#000000; fill-opacity:1; font-family:Arial,Helvetica Neue,Helvetica,sans-serif; font-size:48px; text-anchor:end;\" transform=\"rotate(0, 219.864, 176.079)\" x=\"219.864\" y=\"176.079\">1.0</text>\n",
       "</g>\n",
       "<g clip-path=\"url(#clip3900)\">\n",
       "<text style=\"fill:#000000; fill-opacity:1; font-family:Arial,Helvetica Neue,Helvetica,sans-serif; font-size:84px; text-anchor:middle;\" transform=\"rotate(0, 1298.31, 73.2)\" x=\"1298.31\" y=\"73.2\">Un joli titre</text>\n",
       "</g>\n",
       "<g clip-path=\"url(#clip3900)\">\n",
       "<text style=\"fill:#000000; fill-opacity:1; font-family:Arial,Helvetica Neue,Helvetica,sans-serif; font-size:66px; text-anchor:middle;\" transform=\"rotate(0, 1298.31, 1559.48)\" x=\"1298.31\" y=\"1559.48\">Valeur de l&apos;entrée</text>\n",
       "</g>\n",
       "<g clip-path=\"url(#clip3900)\">\n",
       "<text style=\"fill:#000000; fill-opacity:1; font-family:Arial,Helvetica Neue,Helvetica,sans-serif; font-size:66px; text-anchor:middle;\" transform=\"rotate(-90, 89.2861, 773.647)\" x=\"89.2861\" y=\"773.647\">Valeur de la fonction</text>\n",
       "</g>\n",
       "<polyline clip-path=\"url(#clip3902)\" style=\"stroke:#ff0000; stroke-width:20; stroke-opacity:1; fill:none\" points=\"\n",
       "  303.55,158.579 323.445,161.652 343.34,170.841 363.235,186.054 383.131,207.139 403.026,233.885 422.921,266.026 442.816,303.239 462.711,345.153 482.607,391.349 \n",
       "  502.502,441.367 522.397,494.705 542.292,550.831 562.187,609.184 582.083,669.182 601.978,730.224 621.873,791.701 641.768,852.999 661.663,913.504 681.559,972.614 \n",
       "  701.454,1029.74 721.349,1084.3 741.244,1135.76 761.14,1183.6 781.035,1227.35 800.93,1266.57 820.825,1300.86 840.72,1329.89 860.616,1353.36 880.511,1371.03 \n",
       "  900.406,1382.74 920.301,1388.37 940.196,1387.85 960.092,1381.2 979.987,1368.47 999.882,1349.81 1019.78,1325.39 1039.67,1295.46 1059.57,1260.31 1079.46,1220.3 \n",
       "  1099.36,1175.83 1119.25,1127.35 1139.15,1075.33 1159.04,1020.29 1178.94,962.798 1198.83,903.412 1218.73,842.731 1238.62,781.36 1258.52,719.913 1278.41,659.004 \n",
       "  1298.31,599.241 1318.21,541.222 1338.1,485.526 1358,432.71 1377.89,383.301 1397.79,337.794 1417.68,296.642 1437.58,260.257 1457.47,229.003 1477.37,203.192 \n",
       "  1497.26,183.081 1517.16,168.872 1537.05,160.706 1556.95,158.666 1576.84,162.772 1596.74,172.982 1616.63,189.194 1636.53,211.247 1656.42,238.921 1676.32,271.938 \n",
       "  1696.21,309.969 1716.11,352.633 1736,399.506 1755.9,450.117 1775.79,503.962 1795.69,560.503 1815.59,619.174 1835.48,679.389 1855.38,740.548 1875.27,802.037 \n",
       "  1895.17,863.245 1915.06,923.557 1934.96,982.373 1954.85,1039.1 1974.75,1093.18 1994.64,1144.07 2014.54,1191.26 2034.43,1234.28 2054.33,1272.69 2074.22,1306.12 \n",
       "  2094.12,1334.23 2114.01,1356.74 2133.91,1373.42 2153.8,1384.12 2173.7,1388.71 2193.59,1387.16 2213.49,1379.48 2233.38,1365.75 2253.28,1346.1 2273.18,1320.73 \n",
       "  2293.07,1289.9 \n",
       "  \"/>\n",
       "<polyline clip-path=\"url(#clip3902)\" style=\"stroke:#008000; stroke-width:4; stroke-opacity:1; fill:none\" stroke-dasharray=\"16, 10\" points=\"\n",
       "  303.55,773.739 355.906,613.717 408.261,464.713 460.617,336.986 512.973,239.331 565.329,178.472 617.685,158.6 670.04,181.081 722.396,244.369 774.752,344.106 \n",
       "  827.108,473.425 879.464,623.421 931.819,783.767 984.175,943.422 1036.53,1091.39 1088.89,1217.5 1141.24,1313.04 1193.6,1371.46 1245.95,1388.71 1298.31,1363.63 \n",
       "  \n",
       "  \"/>\n",
       "<polyline clip-path=\"url(#clip3902)\" style=\"stroke:#0000ff; stroke-width:4; stroke-opacity:1; fill:none\" points=\"\n",
       "  1298.31,814.089 1302.31,783.648 1306.31,752.807 1310.31,722.81 1314.31,694.863 1318.31,670.092 1322.3,649.495 1326.3,633.901 1330.3,623.937 1334.3,620.006 \n",
       "  1338.3,622.265 1342.3,630.624 1346.3,644.745 1350.3,664.061 1354.3,687.793 1358.3,714.985 1362.29,744.544 1366.29,775.278 1370.29,805.951 1374.29,835.326 \n",
       "  1378.29,862.221 1382.29,885.553 1386.29,904.383 1390.29,917.952 1394.29,925.715 1398.29,927.357 1402.28,922.814 1406.28,912.268 1410.28,896.143 1414.28,875.09 \n",
       "  1418.28,849.956 1422.28,821.753 1426.28,791.616 1430.28,760.759 1434.28,730.425 1438.28,701.836 1442.28,676.141 1446.27,654.377 1450.27,637.418 1454.27,625.95 \n",
       "  1458.27,620.432 1462.27,621.087 1466.27,627.889 1470.27,640.565 1474.27,658.602 1478.27,681.276 1482.27,707.674 1486.26,736.731 1490.26,767.279 1494.26,798.086 \n",
       "  1498.26,827.914 1502.26,855.56 1506.26,879.911 1510.26,899.987 1514.26,914.979 1518.26,924.284 1522.26,927.527 1526.26,924.577 1530.25,915.554 1534.25,900.82 \n",
       "  1538.25,880.969 1542.25,856.8 1546.25,829.286 1550.25,799.536 1554.25,768.746 1558.25,738.158 1562.25,709.003 1566.25,682.454 1570.24,659.581 1574.24,641.305 \n",
       "  1578.24,628.362 1582.24,621.273 1586.24,620.322 1590.24,625.55 1594.24,636.745 1598.24,653.456 1602.24,675.01 1606.24,700.541 1610.23,729.018 1614.23,759.296 \n",
       "  1618.23,790.156 1622.23,820.355 1626.23,848.677 1630.23,873.981 1634.23,895.249 1638.23,911.623 1642.23,922.446 1646.23,927.281 1650.23,925.933 1654.22,918.456 \n",
       "  1658.22,905.152 1662.22,886.557 1666.22,863.418 1670.22,836.669 1674.22,807.385 1678.22,776.747 1682.22,745.987 1686.22,716.345 1690.22,689.014 1694.21,665.095 \n",
       "  1698.21,645.551 1702.21,631.168 1706.21,622.526 1710.21,619.973 1714.21,623.612 1718.21,633.296 1722.21,648.635 1726.21,669.012 1730.21,693.606 1734.2,721.426 \n",
       "  1738.2,751.353 1742.2,782.182 1746.2,812.67 1750.2,841.591 1754.2,867.78 1758.2,890.182 1762.2,907.895 1766.2,920.206 1770.2,926.619 1774.2,926.876 \n",
       "  1778.19,920.967 1782.19,909.129 1786.19,891.839 1790.19,869.794 1794.19,843.881 1798.19,815.144 1802.19,784.739 1806.19,753.892 1810.19,723.843 1814.19,695.804 \n",
       "  1818.18,670.903 1822.18,650.143 1826.18,634.359 1830.18,624.189 1834.18,620.04 1838.18,622.08 1842.18,630.227 1846.18,644.153 1850.18,663.296 1854.18,686.888 \n",
       "  1858.18,713.976 1862.17,743.471 1866.17,774.184 1870.17,804.88 1874.17,834.322 1878.17,861.324 1882.17,884.799 1886.17,903.803 1890.17,917.569 1894.17,925.543 \n",
       "  1898.17,927.405 1902.16,923.079 1906.16,912.739 1910.16,896.803 1914.16,875.91 1918.16,850.904 1922.16,822.791 1926.16,792.702 1930.16,761.85 1934.16,731.476 \n",
       "  1938.16,702.804 1942.15,676.989 1946.15,655.069 1950.15,637.928 1954.15,626.256 1958.15,620.522 1962.15,620.958 1966.15,627.546 1970.15,640.021 1974.15,657.88 \n",
       "  1978.15,680.405 1982.15,706.687 1986.14,735.67 1990.14,766.186 1994.14,797.006 1998.14,826.889 2002.14,854.631 2006.14,879.117 2010.14,899.359 2014.14,914.543 \n",
       "  2018.14,924.057 2022.14,927.518 2026.13,924.787 2030.13,915.973 2034.13,901.433 2038.13,881.75 2042.13,857.718 2046.13,830.305 2050.13,800.613 2054.13,769.84 \n",
       "  2058.13,739.223 2062.13,709.997 2066.12,683.337 2070.12,660.317 2074.12,641.865 2078.12,628.722 2082.12,621.42 2086.12,620.25 2090.12,625.261 2094.12,636.251 \n",
       "  \n",
       "  \"/>\n",
       "<circle clip-path=\"url(#clip3902)\" cx=\"1298.31\" cy=\"814.089\" r=\"14\" fill=\"#0000ff\" fill-rule=\"evenodd\" fill-opacity=\"0.1\" stroke=\"#000000\" stroke-opacity=\"0.1\" stroke-width=\"3.2\"/>\n",
       "<circle clip-path=\"url(#clip3902)\" cx=\"1302.31\" cy=\"783.648\" r=\"14\" fill=\"#0000ff\" fill-rule=\"evenodd\" fill-opacity=\"0.1\" stroke=\"#000000\" stroke-opacity=\"0.1\" stroke-width=\"3.2\"/>\n",
       "<circle clip-path=\"url(#clip3902)\" cx=\"1306.31\" cy=\"752.807\" r=\"14\" fill=\"#0000ff\" fill-rule=\"evenodd\" fill-opacity=\"0.1\" stroke=\"#000000\" stroke-opacity=\"0.1\" stroke-width=\"3.2\"/>\n",
       "<circle clip-path=\"url(#clip3902)\" cx=\"1310.31\" cy=\"722.81\" r=\"14\" fill=\"#0000ff\" fill-rule=\"evenodd\" fill-opacity=\"0.1\" stroke=\"#000000\" stroke-opacity=\"0.1\" stroke-width=\"3.2\"/>\n",
       "<circle clip-path=\"url(#clip3902)\" cx=\"1314.31\" cy=\"694.863\" r=\"14\" fill=\"#0000ff\" fill-rule=\"evenodd\" fill-opacity=\"0.1\" stroke=\"#000000\" stroke-opacity=\"0.1\" stroke-width=\"3.2\"/>\n",
       "<circle clip-path=\"url(#clip3902)\" cx=\"1318.31\" cy=\"670.092\" r=\"14\" fill=\"#0000ff\" fill-rule=\"evenodd\" fill-opacity=\"0.1\" stroke=\"#000000\" stroke-opacity=\"0.1\" stroke-width=\"3.2\"/>\n",
       "<circle clip-path=\"url(#clip3902)\" cx=\"1322.3\" cy=\"649.495\" r=\"14\" fill=\"#0000ff\" fill-rule=\"evenodd\" fill-opacity=\"0.1\" stroke=\"#000000\" stroke-opacity=\"0.1\" stroke-width=\"3.2\"/>\n",
       "<circle clip-path=\"url(#clip3902)\" cx=\"1326.3\" cy=\"633.901\" r=\"14\" fill=\"#0000ff\" fill-rule=\"evenodd\" fill-opacity=\"0.1\" stroke=\"#000000\" stroke-opacity=\"0.1\" stroke-width=\"3.2\"/>\n",
       "<circle clip-path=\"url(#clip3902)\" cx=\"1330.3\" cy=\"623.937\" r=\"14\" fill=\"#0000ff\" fill-rule=\"evenodd\" fill-opacity=\"0.1\" stroke=\"#000000\" stroke-opacity=\"0.1\" stroke-width=\"3.2\"/>\n",
       "<circle clip-path=\"url(#clip3902)\" cx=\"1334.3\" cy=\"620.006\" r=\"14\" fill=\"#0000ff\" fill-rule=\"evenodd\" fill-opacity=\"0.1\" stroke=\"#000000\" stroke-opacity=\"0.1\" stroke-width=\"3.2\"/>\n",
       "<circle clip-path=\"url(#clip3902)\" cx=\"1338.3\" cy=\"622.265\" r=\"14\" fill=\"#0000ff\" fill-rule=\"evenodd\" fill-opacity=\"0.1\" stroke=\"#000000\" stroke-opacity=\"0.1\" stroke-width=\"3.2\"/>\n",
       "<circle clip-path=\"url(#clip3902)\" cx=\"1342.3\" cy=\"630.624\" r=\"14\" fill=\"#0000ff\" fill-rule=\"evenodd\" fill-opacity=\"0.1\" stroke=\"#000000\" stroke-opacity=\"0.1\" stroke-width=\"3.2\"/>\n",
       "<circle clip-path=\"url(#clip3902)\" cx=\"1346.3\" cy=\"644.745\" r=\"14\" fill=\"#0000ff\" fill-rule=\"evenodd\" fill-opacity=\"0.1\" stroke=\"#000000\" stroke-opacity=\"0.1\" stroke-width=\"3.2\"/>\n",
       "<circle clip-path=\"url(#clip3902)\" cx=\"1350.3\" cy=\"664.061\" r=\"14\" fill=\"#0000ff\" fill-rule=\"evenodd\" fill-opacity=\"0.1\" stroke=\"#000000\" stroke-opacity=\"0.1\" stroke-width=\"3.2\"/>\n",
       "<circle clip-path=\"url(#clip3902)\" cx=\"1354.3\" cy=\"687.793\" r=\"14\" fill=\"#0000ff\" fill-rule=\"evenodd\" fill-opacity=\"0.1\" stroke=\"#000000\" stroke-opacity=\"0.1\" stroke-width=\"3.2\"/>\n",
       "<circle clip-path=\"url(#clip3902)\" cx=\"1358.3\" cy=\"714.985\" r=\"14\" fill=\"#0000ff\" fill-rule=\"evenodd\" fill-opacity=\"0.1\" stroke=\"#000000\" stroke-opacity=\"0.1\" stroke-width=\"3.2\"/>\n",
       "<circle clip-path=\"url(#clip3902)\" cx=\"1362.29\" cy=\"744.544\" r=\"14\" fill=\"#0000ff\" fill-rule=\"evenodd\" fill-opacity=\"0.1\" stroke=\"#000000\" stroke-opacity=\"0.1\" stroke-width=\"3.2\"/>\n",
       "<circle clip-path=\"url(#clip3902)\" cx=\"1366.29\" cy=\"775.278\" r=\"14\" fill=\"#0000ff\" fill-rule=\"evenodd\" fill-opacity=\"0.1\" stroke=\"#000000\" stroke-opacity=\"0.1\" stroke-width=\"3.2\"/>\n",
       "<circle clip-path=\"url(#clip3902)\" cx=\"1370.29\" cy=\"805.951\" r=\"14\" fill=\"#0000ff\" fill-rule=\"evenodd\" fill-opacity=\"0.1\" stroke=\"#000000\" stroke-opacity=\"0.1\" stroke-width=\"3.2\"/>\n",
       "<circle clip-path=\"url(#clip3902)\" cx=\"1374.29\" cy=\"835.326\" r=\"14\" fill=\"#0000ff\" fill-rule=\"evenodd\" fill-opacity=\"0.1\" stroke=\"#000000\" stroke-opacity=\"0.1\" stroke-width=\"3.2\"/>\n",
       "<circle clip-path=\"url(#clip3902)\" cx=\"1378.29\" cy=\"862.221\" r=\"14\" fill=\"#0000ff\" fill-rule=\"evenodd\" fill-opacity=\"0.1\" stroke=\"#000000\" stroke-opacity=\"0.1\" stroke-width=\"3.2\"/>\n",
       "<circle clip-path=\"url(#clip3902)\" cx=\"1382.29\" cy=\"885.553\" r=\"14\" fill=\"#0000ff\" fill-rule=\"evenodd\" fill-opacity=\"0.1\" stroke=\"#000000\" stroke-opacity=\"0.1\" stroke-width=\"3.2\"/>\n",
       "<circle clip-path=\"url(#clip3902)\" cx=\"1386.29\" cy=\"904.383\" r=\"14\" fill=\"#0000ff\" fill-rule=\"evenodd\" fill-opacity=\"0.1\" stroke=\"#000000\" stroke-opacity=\"0.1\" stroke-width=\"3.2\"/>\n",
       "<circle clip-path=\"url(#clip3902)\" cx=\"1390.29\" cy=\"917.952\" r=\"14\" fill=\"#0000ff\" fill-rule=\"evenodd\" fill-opacity=\"0.1\" stroke=\"#000000\" stroke-opacity=\"0.1\" stroke-width=\"3.2\"/>\n",
       "<circle clip-path=\"url(#clip3902)\" cx=\"1394.29\" cy=\"925.715\" r=\"14\" fill=\"#0000ff\" fill-rule=\"evenodd\" fill-opacity=\"0.1\" stroke=\"#000000\" stroke-opacity=\"0.1\" stroke-width=\"3.2\"/>\n",
       "<circle clip-path=\"url(#clip3902)\" cx=\"1398.29\" cy=\"927.357\" r=\"14\" fill=\"#0000ff\" fill-rule=\"evenodd\" fill-opacity=\"0.1\" stroke=\"#000000\" stroke-opacity=\"0.1\" stroke-width=\"3.2\"/>\n",
       "<circle clip-path=\"url(#clip3902)\" cx=\"1402.28\" cy=\"922.814\" r=\"14\" fill=\"#0000ff\" fill-rule=\"evenodd\" fill-opacity=\"0.1\" stroke=\"#000000\" stroke-opacity=\"0.1\" stroke-width=\"3.2\"/>\n",
       "<circle clip-path=\"url(#clip3902)\" cx=\"1406.28\" cy=\"912.268\" r=\"14\" fill=\"#0000ff\" fill-rule=\"evenodd\" fill-opacity=\"0.1\" stroke=\"#000000\" stroke-opacity=\"0.1\" stroke-width=\"3.2\"/>\n",
       "<circle clip-path=\"url(#clip3902)\" cx=\"1410.28\" cy=\"896.143\" r=\"14\" fill=\"#0000ff\" fill-rule=\"evenodd\" fill-opacity=\"0.1\" stroke=\"#000000\" stroke-opacity=\"0.1\" stroke-width=\"3.2\"/>\n",
       "<circle clip-path=\"url(#clip3902)\" cx=\"1414.28\" cy=\"875.09\" r=\"14\" fill=\"#0000ff\" fill-rule=\"evenodd\" fill-opacity=\"0.1\" stroke=\"#000000\" stroke-opacity=\"0.1\" stroke-width=\"3.2\"/>\n",
       "<circle clip-path=\"url(#clip3902)\" cx=\"1418.28\" cy=\"849.956\" r=\"14\" fill=\"#0000ff\" fill-rule=\"evenodd\" fill-opacity=\"0.1\" stroke=\"#000000\" stroke-opacity=\"0.1\" stroke-width=\"3.2\"/>\n",
       "<circle clip-path=\"url(#clip3902)\" cx=\"1422.28\" cy=\"821.753\" r=\"14\" fill=\"#0000ff\" fill-rule=\"evenodd\" fill-opacity=\"0.1\" stroke=\"#000000\" stroke-opacity=\"0.1\" stroke-width=\"3.2\"/>\n",
       "<circle clip-path=\"url(#clip3902)\" cx=\"1426.28\" cy=\"791.616\" r=\"14\" fill=\"#0000ff\" fill-rule=\"evenodd\" fill-opacity=\"0.1\" stroke=\"#000000\" stroke-opacity=\"0.1\" stroke-width=\"3.2\"/>\n",
       "<circle clip-path=\"url(#clip3902)\" cx=\"1430.28\" cy=\"760.759\" r=\"14\" fill=\"#0000ff\" fill-rule=\"evenodd\" fill-opacity=\"0.1\" stroke=\"#000000\" stroke-opacity=\"0.1\" stroke-width=\"3.2\"/>\n",
       "<circle clip-path=\"url(#clip3902)\" cx=\"1434.28\" cy=\"730.425\" r=\"14\" fill=\"#0000ff\" fill-rule=\"evenodd\" fill-opacity=\"0.1\" stroke=\"#000000\" stroke-opacity=\"0.1\" stroke-width=\"3.2\"/>\n",
       "<circle clip-path=\"url(#clip3902)\" cx=\"1438.28\" cy=\"701.836\" r=\"14\" fill=\"#0000ff\" fill-rule=\"evenodd\" fill-opacity=\"0.1\" stroke=\"#000000\" stroke-opacity=\"0.1\" stroke-width=\"3.2\"/>\n",
       "<circle clip-path=\"url(#clip3902)\" cx=\"1442.28\" cy=\"676.141\" r=\"14\" fill=\"#0000ff\" fill-rule=\"evenodd\" fill-opacity=\"0.1\" stroke=\"#000000\" stroke-opacity=\"0.1\" stroke-width=\"3.2\"/>\n",
       "<circle clip-path=\"url(#clip3902)\" cx=\"1446.27\" cy=\"654.377\" r=\"14\" fill=\"#0000ff\" fill-rule=\"evenodd\" fill-opacity=\"0.1\" stroke=\"#000000\" stroke-opacity=\"0.1\" stroke-width=\"3.2\"/>\n",
       "<circle clip-path=\"url(#clip3902)\" cx=\"1450.27\" cy=\"637.418\" r=\"14\" fill=\"#0000ff\" fill-rule=\"evenodd\" fill-opacity=\"0.1\" stroke=\"#000000\" stroke-opacity=\"0.1\" stroke-width=\"3.2\"/>\n",
       "<circle clip-path=\"url(#clip3902)\" cx=\"1454.27\" cy=\"625.95\" r=\"14\" fill=\"#0000ff\" fill-rule=\"evenodd\" fill-opacity=\"0.1\" stroke=\"#000000\" stroke-opacity=\"0.1\" stroke-width=\"3.2\"/>\n",
       "<circle clip-path=\"url(#clip3902)\" cx=\"1458.27\" cy=\"620.432\" r=\"14\" fill=\"#0000ff\" fill-rule=\"evenodd\" fill-opacity=\"0.1\" stroke=\"#000000\" stroke-opacity=\"0.1\" stroke-width=\"3.2\"/>\n",
       "<circle clip-path=\"url(#clip3902)\" cx=\"1462.27\" cy=\"621.087\" r=\"14\" fill=\"#0000ff\" fill-rule=\"evenodd\" fill-opacity=\"0.1\" stroke=\"#000000\" stroke-opacity=\"0.1\" stroke-width=\"3.2\"/>\n",
       "<circle clip-path=\"url(#clip3902)\" cx=\"1466.27\" cy=\"627.889\" r=\"14\" fill=\"#0000ff\" fill-rule=\"evenodd\" fill-opacity=\"0.1\" stroke=\"#000000\" stroke-opacity=\"0.1\" stroke-width=\"3.2\"/>\n",
       "<circle clip-path=\"url(#clip3902)\" cx=\"1470.27\" cy=\"640.565\" r=\"14\" fill=\"#0000ff\" fill-rule=\"evenodd\" fill-opacity=\"0.1\" stroke=\"#000000\" stroke-opacity=\"0.1\" stroke-width=\"3.2\"/>\n",
       "<circle clip-path=\"url(#clip3902)\" cx=\"1474.27\" cy=\"658.602\" r=\"14\" fill=\"#0000ff\" fill-rule=\"evenodd\" fill-opacity=\"0.1\" stroke=\"#000000\" stroke-opacity=\"0.1\" stroke-width=\"3.2\"/>\n",
       "<circle clip-path=\"url(#clip3902)\" cx=\"1478.27\" cy=\"681.276\" r=\"14\" fill=\"#0000ff\" fill-rule=\"evenodd\" fill-opacity=\"0.1\" stroke=\"#000000\" stroke-opacity=\"0.1\" stroke-width=\"3.2\"/>\n",
       "<circle clip-path=\"url(#clip3902)\" cx=\"1482.27\" cy=\"707.674\" r=\"14\" fill=\"#0000ff\" fill-rule=\"evenodd\" fill-opacity=\"0.1\" stroke=\"#000000\" stroke-opacity=\"0.1\" stroke-width=\"3.2\"/>\n",
       "<circle clip-path=\"url(#clip3902)\" cx=\"1486.26\" cy=\"736.731\" r=\"14\" fill=\"#0000ff\" fill-rule=\"evenodd\" fill-opacity=\"0.1\" stroke=\"#000000\" stroke-opacity=\"0.1\" stroke-width=\"3.2\"/>\n",
       "<circle clip-path=\"url(#clip3902)\" cx=\"1490.26\" cy=\"767.279\" r=\"14\" fill=\"#0000ff\" fill-rule=\"evenodd\" fill-opacity=\"0.1\" stroke=\"#000000\" stroke-opacity=\"0.1\" stroke-width=\"3.2\"/>\n",
       "<circle clip-path=\"url(#clip3902)\" cx=\"1494.26\" cy=\"798.086\" r=\"14\" fill=\"#0000ff\" fill-rule=\"evenodd\" fill-opacity=\"0.1\" stroke=\"#000000\" stroke-opacity=\"0.1\" stroke-width=\"3.2\"/>\n",
       "<circle clip-path=\"url(#clip3902)\" cx=\"1498.26\" cy=\"827.914\" r=\"14\" fill=\"#0000ff\" fill-rule=\"evenodd\" fill-opacity=\"0.1\" stroke=\"#000000\" stroke-opacity=\"0.1\" stroke-width=\"3.2\"/>\n",
       "<circle clip-path=\"url(#clip3902)\" cx=\"1502.26\" cy=\"855.56\" r=\"14\" fill=\"#0000ff\" fill-rule=\"evenodd\" fill-opacity=\"0.1\" stroke=\"#000000\" stroke-opacity=\"0.1\" stroke-width=\"3.2\"/>\n",
       "<circle clip-path=\"url(#clip3902)\" cx=\"1506.26\" cy=\"879.911\" r=\"14\" fill=\"#0000ff\" fill-rule=\"evenodd\" fill-opacity=\"0.1\" stroke=\"#000000\" stroke-opacity=\"0.1\" stroke-width=\"3.2\"/>\n",
       "<circle clip-path=\"url(#clip3902)\" cx=\"1510.26\" cy=\"899.987\" r=\"14\" fill=\"#0000ff\" fill-rule=\"evenodd\" fill-opacity=\"0.1\" stroke=\"#000000\" stroke-opacity=\"0.1\" stroke-width=\"3.2\"/>\n",
       "<circle clip-path=\"url(#clip3902)\" cx=\"1514.26\" cy=\"914.979\" r=\"14\" fill=\"#0000ff\" fill-rule=\"evenodd\" fill-opacity=\"0.1\" stroke=\"#000000\" stroke-opacity=\"0.1\" stroke-width=\"3.2\"/>\n",
       "<circle clip-path=\"url(#clip3902)\" cx=\"1518.26\" cy=\"924.284\" r=\"14\" fill=\"#0000ff\" fill-rule=\"evenodd\" fill-opacity=\"0.1\" stroke=\"#000000\" stroke-opacity=\"0.1\" stroke-width=\"3.2\"/>\n",
       "<circle clip-path=\"url(#clip3902)\" cx=\"1522.26\" cy=\"927.527\" r=\"14\" fill=\"#0000ff\" fill-rule=\"evenodd\" fill-opacity=\"0.1\" stroke=\"#000000\" stroke-opacity=\"0.1\" stroke-width=\"3.2\"/>\n",
       "<circle clip-path=\"url(#clip3902)\" cx=\"1526.26\" cy=\"924.577\" r=\"14\" fill=\"#0000ff\" fill-rule=\"evenodd\" fill-opacity=\"0.1\" stroke=\"#000000\" stroke-opacity=\"0.1\" stroke-width=\"3.2\"/>\n",
       "<circle clip-path=\"url(#clip3902)\" cx=\"1530.25\" cy=\"915.554\" r=\"14\" fill=\"#0000ff\" fill-rule=\"evenodd\" fill-opacity=\"0.1\" stroke=\"#000000\" stroke-opacity=\"0.1\" stroke-width=\"3.2\"/>\n",
       "<circle clip-path=\"url(#clip3902)\" cx=\"1534.25\" cy=\"900.82\" r=\"14\" fill=\"#0000ff\" fill-rule=\"evenodd\" fill-opacity=\"0.1\" stroke=\"#000000\" stroke-opacity=\"0.1\" stroke-width=\"3.2\"/>\n",
       "<circle clip-path=\"url(#clip3902)\" cx=\"1538.25\" cy=\"880.969\" r=\"14\" fill=\"#0000ff\" fill-rule=\"evenodd\" fill-opacity=\"0.1\" stroke=\"#000000\" stroke-opacity=\"0.1\" stroke-width=\"3.2\"/>\n",
       "<circle clip-path=\"url(#clip3902)\" cx=\"1542.25\" cy=\"856.8\" r=\"14\" fill=\"#0000ff\" fill-rule=\"evenodd\" fill-opacity=\"0.1\" stroke=\"#000000\" stroke-opacity=\"0.1\" stroke-width=\"3.2\"/>\n",
       "<circle clip-path=\"url(#clip3902)\" cx=\"1546.25\" cy=\"829.286\" r=\"14\" fill=\"#0000ff\" fill-rule=\"evenodd\" fill-opacity=\"0.1\" stroke=\"#000000\" stroke-opacity=\"0.1\" stroke-width=\"3.2\"/>\n",
       "<circle clip-path=\"url(#clip3902)\" cx=\"1550.25\" cy=\"799.536\" r=\"14\" fill=\"#0000ff\" fill-rule=\"evenodd\" fill-opacity=\"0.1\" stroke=\"#000000\" stroke-opacity=\"0.1\" stroke-width=\"3.2\"/>\n",
       "<circle clip-path=\"url(#clip3902)\" cx=\"1554.25\" cy=\"768.746\" r=\"14\" fill=\"#0000ff\" fill-rule=\"evenodd\" fill-opacity=\"0.1\" stroke=\"#000000\" stroke-opacity=\"0.1\" stroke-width=\"3.2\"/>\n",
       "<circle clip-path=\"url(#clip3902)\" cx=\"1558.25\" cy=\"738.158\" r=\"14\" fill=\"#0000ff\" fill-rule=\"evenodd\" fill-opacity=\"0.1\" stroke=\"#000000\" stroke-opacity=\"0.1\" stroke-width=\"3.2\"/>\n",
       "<circle clip-path=\"url(#clip3902)\" cx=\"1562.25\" cy=\"709.003\" r=\"14\" fill=\"#0000ff\" fill-rule=\"evenodd\" fill-opacity=\"0.1\" stroke=\"#000000\" stroke-opacity=\"0.1\" stroke-width=\"3.2\"/>\n",
       "<circle clip-path=\"url(#clip3902)\" cx=\"1566.25\" cy=\"682.454\" r=\"14\" fill=\"#0000ff\" fill-rule=\"evenodd\" fill-opacity=\"0.1\" stroke=\"#000000\" stroke-opacity=\"0.1\" stroke-width=\"3.2\"/>\n",
       "<circle clip-path=\"url(#clip3902)\" cx=\"1570.24\" cy=\"659.581\" r=\"14\" fill=\"#0000ff\" fill-rule=\"evenodd\" fill-opacity=\"0.1\" stroke=\"#000000\" stroke-opacity=\"0.1\" stroke-width=\"3.2\"/>\n",
       "<circle clip-path=\"url(#clip3902)\" cx=\"1574.24\" cy=\"641.305\" r=\"14\" fill=\"#0000ff\" fill-rule=\"evenodd\" fill-opacity=\"0.1\" stroke=\"#000000\" stroke-opacity=\"0.1\" stroke-width=\"3.2\"/>\n",
       "<circle clip-path=\"url(#clip3902)\" cx=\"1578.24\" cy=\"628.362\" r=\"14\" fill=\"#0000ff\" fill-rule=\"evenodd\" fill-opacity=\"0.1\" stroke=\"#000000\" stroke-opacity=\"0.1\" stroke-width=\"3.2\"/>\n",
       "<circle clip-path=\"url(#clip3902)\" cx=\"1582.24\" cy=\"621.273\" r=\"14\" fill=\"#0000ff\" fill-rule=\"evenodd\" fill-opacity=\"0.1\" stroke=\"#000000\" stroke-opacity=\"0.1\" stroke-width=\"3.2\"/>\n",
       "<circle clip-path=\"url(#clip3902)\" cx=\"1586.24\" cy=\"620.322\" r=\"14\" fill=\"#0000ff\" fill-rule=\"evenodd\" fill-opacity=\"0.1\" stroke=\"#000000\" stroke-opacity=\"0.1\" stroke-width=\"3.2\"/>\n",
       "<circle clip-path=\"url(#clip3902)\" cx=\"1590.24\" cy=\"625.55\" r=\"14\" fill=\"#0000ff\" fill-rule=\"evenodd\" fill-opacity=\"0.1\" stroke=\"#000000\" stroke-opacity=\"0.1\" stroke-width=\"3.2\"/>\n",
       "<circle clip-path=\"url(#clip3902)\" cx=\"1594.24\" cy=\"636.745\" r=\"14\" fill=\"#0000ff\" fill-rule=\"evenodd\" fill-opacity=\"0.1\" stroke=\"#000000\" stroke-opacity=\"0.1\" stroke-width=\"3.2\"/>\n",
       "<circle clip-path=\"url(#clip3902)\" cx=\"1598.24\" cy=\"653.456\" r=\"14\" fill=\"#0000ff\" fill-rule=\"evenodd\" fill-opacity=\"0.1\" stroke=\"#000000\" stroke-opacity=\"0.1\" stroke-width=\"3.2\"/>\n",
       "<circle clip-path=\"url(#clip3902)\" cx=\"1602.24\" cy=\"675.01\" r=\"14\" fill=\"#0000ff\" fill-rule=\"evenodd\" fill-opacity=\"0.1\" stroke=\"#000000\" stroke-opacity=\"0.1\" stroke-width=\"3.2\"/>\n",
       "<circle clip-path=\"url(#clip3902)\" cx=\"1606.24\" cy=\"700.541\" r=\"14\" fill=\"#0000ff\" fill-rule=\"evenodd\" fill-opacity=\"0.1\" stroke=\"#000000\" stroke-opacity=\"0.1\" stroke-width=\"3.2\"/>\n",
       "<circle clip-path=\"url(#clip3902)\" cx=\"1610.23\" cy=\"729.018\" r=\"14\" fill=\"#0000ff\" fill-rule=\"evenodd\" fill-opacity=\"0.1\" stroke=\"#000000\" stroke-opacity=\"0.1\" stroke-width=\"3.2\"/>\n",
       "<circle clip-path=\"url(#clip3902)\" cx=\"1614.23\" cy=\"759.296\" r=\"14\" fill=\"#0000ff\" fill-rule=\"evenodd\" fill-opacity=\"0.1\" stroke=\"#000000\" stroke-opacity=\"0.1\" stroke-width=\"3.2\"/>\n",
       "<circle clip-path=\"url(#clip3902)\" cx=\"1618.23\" cy=\"790.156\" r=\"14\" fill=\"#0000ff\" fill-rule=\"evenodd\" fill-opacity=\"0.1\" stroke=\"#000000\" stroke-opacity=\"0.1\" stroke-width=\"3.2\"/>\n",
       "<circle clip-path=\"url(#clip3902)\" cx=\"1622.23\" cy=\"820.355\" r=\"14\" fill=\"#0000ff\" fill-rule=\"evenodd\" fill-opacity=\"0.1\" stroke=\"#000000\" stroke-opacity=\"0.1\" stroke-width=\"3.2\"/>\n",
       "<circle clip-path=\"url(#clip3902)\" cx=\"1626.23\" cy=\"848.677\" r=\"14\" fill=\"#0000ff\" fill-rule=\"evenodd\" fill-opacity=\"0.1\" stroke=\"#000000\" stroke-opacity=\"0.1\" stroke-width=\"3.2\"/>\n",
       "<circle clip-path=\"url(#clip3902)\" cx=\"1630.23\" cy=\"873.981\" r=\"14\" fill=\"#0000ff\" fill-rule=\"evenodd\" fill-opacity=\"0.1\" stroke=\"#000000\" stroke-opacity=\"0.1\" stroke-width=\"3.2\"/>\n",
       "<circle clip-path=\"url(#clip3902)\" cx=\"1634.23\" cy=\"895.249\" r=\"14\" fill=\"#0000ff\" fill-rule=\"evenodd\" fill-opacity=\"0.1\" stroke=\"#000000\" stroke-opacity=\"0.1\" stroke-width=\"3.2\"/>\n",
       "<circle clip-path=\"url(#clip3902)\" cx=\"1638.23\" cy=\"911.623\" r=\"14\" fill=\"#0000ff\" fill-rule=\"evenodd\" fill-opacity=\"0.1\" stroke=\"#000000\" stroke-opacity=\"0.1\" stroke-width=\"3.2\"/>\n",
       "<circle clip-path=\"url(#clip3902)\" cx=\"1642.23\" cy=\"922.446\" r=\"14\" fill=\"#0000ff\" fill-rule=\"evenodd\" fill-opacity=\"0.1\" stroke=\"#000000\" stroke-opacity=\"0.1\" stroke-width=\"3.2\"/>\n",
       "<circle clip-path=\"url(#clip3902)\" cx=\"1646.23\" cy=\"927.281\" r=\"14\" fill=\"#0000ff\" fill-rule=\"evenodd\" fill-opacity=\"0.1\" stroke=\"#000000\" stroke-opacity=\"0.1\" stroke-width=\"3.2\"/>\n",
       "<circle clip-path=\"url(#clip3902)\" cx=\"1650.23\" cy=\"925.933\" r=\"14\" fill=\"#0000ff\" fill-rule=\"evenodd\" fill-opacity=\"0.1\" stroke=\"#000000\" stroke-opacity=\"0.1\" stroke-width=\"3.2\"/>\n",
       "<circle clip-path=\"url(#clip3902)\" cx=\"1654.22\" cy=\"918.456\" r=\"14\" fill=\"#0000ff\" fill-rule=\"evenodd\" fill-opacity=\"0.1\" stroke=\"#000000\" stroke-opacity=\"0.1\" stroke-width=\"3.2\"/>\n",
       "<circle clip-path=\"url(#clip3902)\" cx=\"1658.22\" cy=\"905.152\" r=\"14\" fill=\"#0000ff\" fill-rule=\"evenodd\" fill-opacity=\"0.1\" stroke=\"#000000\" stroke-opacity=\"0.1\" stroke-width=\"3.2\"/>\n",
       "<circle clip-path=\"url(#clip3902)\" cx=\"1662.22\" cy=\"886.557\" r=\"14\" fill=\"#0000ff\" fill-rule=\"evenodd\" fill-opacity=\"0.1\" stroke=\"#000000\" stroke-opacity=\"0.1\" stroke-width=\"3.2\"/>\n",
       "<circle clip-path=\"url(#clip3902)\" cx=\"1666.22\" cy=\"863.418\" r=\"14\" fill=\"#0000ff\" fill-rule=\"evenodd\" fill-opacity=\"0.1\" stroke=\"#000000\" stroke-opacity=\"0.1\" stroke-width=\"3.2\"/>\n",
       "<circle clip-path=\"url(#clip3902)\" cx=\"1670.22\" cy=\"836.669\" r=\"14\" fill=\"#0000ff\" fill-rule=\"evenodd\" fill-opacity=\"0.1\" stroke=\"#000000\" stroke-opacity=\"0.1\" stroke-width=\"3.2\"/>\n",
       "<circle clip-path=\"url(#clip3902)\" cx=\"1674.22\" cy=\"807.385\" r=\"14\" fill=\"#0000ff\" fill-rule=\"evenodd\" fill-opacity=\"0.1\" stroke=\"#000000\" stroke-opacity=\"0.1\" stroke-width=\"3.2\"/>\n",
       "<circle clip-path=\"url(#clip3902)\" cx=\"1678.22\" cy=\"776.747\" r=\"14\" fill=\"#0000ff\" fill-rule=\"evenodd\" fill-opacity=\"0.1\" stroke=\"#000000\" stroke-opacity=\"0.1\" stroke-width=\"3.2\"/>\n",
       "<circle clip-path=\"url(#clip3902)\" cx=\"1682.22\" cy=\"745.987\" r=\"14\" fill=\"#0000ff\" fill-rule=\"evenodd\" fill-opacity=\"0.1\" stroke=\"#000000\" stroke-opacity=\"0.1\" stroke-width=\"3.2\"/>\n",
       "<circle clip-path=\"url(#clip3902)\" cx=\"1686.22\" cy=\"716.345\" r=\"14\" fill=\"#0000ff\" fill-rule=\"evenodd\" fill-opacity=\"0.1\" stroke=\"#000000\" stroke-opacity=\"0.1\" stroke-width=\"3.2\"/>\n",
       "<circle clip-path=\"url(#clip3902)\" cx=\"1690.22\" cy=\"689.014\" r=\"14\" fill=\"#0000ff\" fill-rule=\"evenodd\" fill-opacity=\"0.1\" stroke=\"#000000\" stroke-opacity=\"0.1\" stroke-width=\"3.2\"/>\n",
       "<circle clip-path=\"url(#clip3902)\" cx=\"1694.21\" cy=\"665.095\" r=\"14\" fill=\"#0000ff\" fill-rule=\"evenodd\" fill-opacity=\"0.1\" stroke=\"#000000\" stroke-opacity=\"0.1\" stroke-width=\"3.2\"/>\n",
       "<circle clip-path=\"url(#clip3902)\" cx=\"1698.21\" cy=\"645.551\" r=\"14\" fill=\"#0000ff\" fill-rule=\"evenodd\" fill-opacity=\"0.1\" stroke=\"#000000\" stroke-opacity=\"0.1\" stroke-width=\"3.2\"/>\n",
       "<circle clip-path=\"url(#clip3902)\" cx=\"1702.21\" cy=\"631.168\" r=\"14\" fill=\"#0000ff\" fill-rule=\"evenodd\" fill-opacity=\"0.1\" stroke=\"#000000\" stroke-opacity=\"0.1\" stroke-width=\"3.2\"/>\n",
       "<circle clip-path=\"url(#clip3902)\" cx=\"1706.21\" cy=\"622.526\" r=\"14\" fill=\"#0000ff\" fill-rule=\"evenodd\" fill-opacity=\"0.1\" stroke=\"#000000\" stroke-opacity=\"0.1\" stroke-width=\"3.2\"/>\n",
       "<circle clip-path=\"url(#clip3902)\" cx=\"1710.21\" cy=\"619.973\" r=\"14\" fill=\"#0000ff\" fill-rule=\"evenodd\" fill-opacity=\"0.1\" stroke=\"#000000\" stroke-opacity=\"0.1\" stroke-width=\"3.2\"/>\n",
       "<circle clip-path=\"url(#clip3902)\" cx=\"1714.21\" cy=\"623.612\" r=\"14\" fill=\"#0000ff\" fill-rule=\"evenodd\" fill-opacity=\"0.1\" stroke=\"#000000\" stroke-opacity=\"0.1\" stroke-width=\"3.2\"/>\n",
       "<circle clip-path=\"url(#clip3902)\" cx=\"1718.21\" cy=\"633.296\" r=\"14\" fill=\"#0000ff\" fill-rule=\"evenodd\" fill-opacity=\"0.1\" stroke=\"#000000\" stroke-opacity=\"0.1\" stroke-width=\"3.2\"/>\n",
       "<circle clip-path=\"url(#clip3902)\" cx=\"1722.21\" cy=\"648.635\" r=\"14\" fill=\"#0000ff\" fill-rule=\"evenodd\" fill-opacity=\"0.1\" stroke=\"#000000\" stroke-opacity=\"0.1\" stroke-width=\"3.2\"/>\n",
       "<circle clip-path=\"url(#clip3902)\" cx=\"1726.21\" cy=\"669.012\" r=\"14\" fill=\"#0000ff\" fill-rule=\"evenodd\" fill-opacity=\"0.1\" stroke=\"#000000\" stroke-opacity=\"0.1\" stroke-width=\"3.2\"/>\n",
       "<circle clip-path=\"url(#clip3902)\" cx=\"1730.21\" cy=\"693.606\" r=\"14\" fill=\"#0000ff\" fill-rule=\"evenodd\" fill-opacity=\"0.1\" stroke=\"#000000\" stroke-opacity=\"0.1\" stroke-width=\"3.2\"/>\n",
       "<circle clip-path=\"url(#clip3902)\" cx=\"1734.2\" cy=\"721.426\" r=\"14\" fill=\"#0000ff\" fill-rule=\"evenodd\" fill-opacity=\"0.1\" stroke=\"#000000\" stroke-opacity=\"0.1\" stroke-width=\"3.2\"/>\n",
       "<circle clip-path=\"url(#clip3902)\" cx=\"1738.2\" cy=\"751.353\" r=\"14\" fill=\"#0000ff\" fill-rule=\"evenodd\" fill-opacity=\"0.1\" stroke=\"#000000\" stroke-opacity=\"0.1\" stroke-width=\"3.2\"/>\n",
       "<circle clip-path=\"url(#clip3902)\" cx=\"1742.2\" cy=\"782.182\" r=\"14\" fill=\"#0000ff\" fill-rule=\"evenodd\" fill-opacity=\"0.1\" stroke=\"#000000\" stroke-opacity=\"0.1\" stroke-width=\"3.2\"/>\n",
       "<circle clip-path=\"url(#clip3902)\" cx=\"1746.2\" cy=\"812.67\" r=\"14\" fill=\"#0000ff\" fill-rule=\"evenodd\" fill-opacity=\"0.1\" stroke=\"#000000\" stroke-opacity=\"0.1\" stroke-width=\"3.2\"/>\n",
       "<circle clip-path=\"url(#clip3902)\" cx=\"1750.2\" cy=\"841.591\" r=\"14\" fill=\"#0000ff\" fill-rule=\"evenodd\" fill-opacity=\"0.1\" stroke=\"#000000\" stroke-opacity=\"0.1\" stroke-width=\"3.2\"/>\n",
       "<circle clip-path=\"url(#clip3902)\" cx=\"1754.2\" cy=\"867.78\" r=\"14\" fill=\"#0000ff\" fill-rule=\"evenodd\" fill-opacity=\"0.1\" stroke=\"#000000\" stroke-opacity=\"0.1\" stroke-width=\"3.2\"/>\n",
       "<circle clip-path=\"url(#clip3902)\" cx=\"1758.2\" cy=\"890.182\" r=\"14\" fill=\"#0000ff\" fill-rule=\"evenodd\" fill-opacity=\"0.1\" stroke=\"#000000\" stroke-opacity=\"0.1\" stroke-width=\"3.2\"/>\n",
       "<circle clip-path=\"url(#clip3902)\" cx=\"1762.2\" cy=\"907.895\" r=\"14\" fill=\"#0000ff\" fill-rule=\"evenodd\" fill-opacity=\"0.1\" stroke=\"#000000\" stroke-opacity=\"0.1\" stroke-width=\"3.2\"/>\n",
       "<circle clip-path=\"url(#clip3902)\" cx=\"1766.2\" cy=\"920.206\" r=\"14\" fill=\"#0000ff\" fill-rule=\"evenodd\" fill-opacity=\"0.1\" stroke=\"#000000\" stroke-opacity=\"0.1\" stroke-width=\"3.2\"/>\n",
       "<circle clip-path=\"url(#clip3902)\" cx=\"1770.2\" cy=\"926.619\" r=\"14\" fill=\"#0000ff\" fill-rule=\"evenodd\" fill-opacity=\"0.1\" stroke=\"#000000\" stroke-opacity=\"0.1\" stroke-width=\"3.2\"/>\n",
       "<circle clip-path=\"url(#clip3902)\" cx=\"1774.2\" cy=\"926.876\" r=\"14\" fill=\"#0000ff\" fill-rule=\"evenodd\" fill-opacity=\"0.1\" stroke=\"#000000\" stroke-opacity=\"0.1\" stroke-width=\"3.2\"/>\n",
       "<circle clip-path=\"url(#clip3902)\" cx=\"1778.19\" cy=\"920.967\" r=\"14\" fill=\"#0000ff\" fill-rule=\"evenodd\" fill-opacity=\"0.1\" stroke=\"#000000\" stroke-opacity=\"0.1\" stroke-width=\"3.2\"/>\n",
       "<circle clip-path=\"url(#clip3902)\" cx=\"1782.19\" cy=\"909.129\" r=\"14\" fill=\"#0000ff\" fill-rule=\"evenodd\" fill-opacity=\"0.1\" stroke=\"#000000\" stroke-opacity=\"0.1\" stroke-width=\"3.2\"/>\n",
       "<circle clip-path=\"url(#clip3902)\" cx=\"1786.19\" cy=\"891.839\" r=\"14\" fill=\"#0000ff\" fill-rule=\"evenodd\" fill-opacity=\"0.1\" stroke=\"#000000\" stroke-opacity=\"0.1\" stroke-width=\"3.2\"/>\n",
       "<circle clip-path=\"url(#clip3902)\" cx=\"1790.19\" cy=\"869.794\" r=\"14\" fill=\"#0000ff\" fill-rule=\"evenodd\" fill-opacity=\"0.1\" stroke=\"#000000\" stroke-opacity=\"0.1\" stroke-width=\"3.2\"/>\n",
       "<circle clip-path=\"url(#clip3902)\" cx=\"1794.19\" cy=\"843.881\" r=\"14\" fill=\"#0000ff\" fill-rule=\"evenodd\" fill-opacity=\"0.1\" stroke=\"#000000\" stroke-opacity=\"0.1\" stroke-width=\"3.2\"/>\n",
       "<circle clip-path=\"url(#clip3902)\" cx=\"1798.19\" cy=\"815.144\" r=\"14\" fill=\"#0000ff\" fill-rule=\"evenodd\" fill-opacity=\"0.1\" stroke=\"#000000\" stroke-opacity=\"0.1\" stroke-width=\"3.2\"/>\n",
       "<circle clip-path=\"url(#clip3902)\" cx=\"1802.19\" cy=\"784.739\" r=\"14\" fill=\"#0000ff\" fill-rule=\"evenodd\" fill-opacity=\"0.1\" stroke=\"#000000\" stroke-opacity=\"0.1\" stroke-width=\"3.2\"/>\n",
       "<circle clip-path=\"url(#clip3902)\" cx=\"1806.19\" cy=\"753.892\" r=\"14\" fill=\"#0000ff\" fill-rule=\"evenodd\" fill-opacity=\"0.1\" stroke=\"#000000\" stroke-opacity=\"0.1\" stroke-width=\"3.2\"/>\n",
       "<circle clip-path=\"url(#clip3902)\" cx=\"1810.19\" cy=\"723.843\" r=\"14\" fill=\"#0000ff\" fill-rule=\"evenodd\" fill-opacity=\"0.1\" stroke=\"#000000\" stroke-opacity=\"0.1\" stroke-width=\"3.2\"/>\n",
       "<circle clip-path=\"url(#clip3902)\" cx=\"1814.19\" cy=\"695.804\" r=\"14\" fill=\"#0000ff\" fill-rule=\"evenodd\" fill-opacity=\"0.1\" stroke=\"#000000\" stroke-opacity=\"0.1\" stroke-width=\"3.2\"/>\n",
       "<circle clip-path=\"url(#clip3902)\" cx=\"1818.18\" cy=\"670.903\" r=\"14\" fill=\"#0000ff\" fill-rule=\"evenodd\" fill-opacity=\"0.1\" stroke=\"#000000\" stroke-opacity=\"0.1\" stroke-width=\"3.2\"/>\n",
       "<circle clip-path=\"url(#clip3902)\" cx=\"1822.18\" cy=\"650.143\" r=\"14\" fill=\"#0000ff\" fill-rule=\"evenodd\" fill-opacity=\"0.1\" stroke=\"#000000\" stroke-opacity=\"0.1\" stroke-width=\"3.2\"/>\n",
       "<circle clip-path=\"url(#clip3902)\" cx=\"1826.18\" cy=\"634.359\" r=\"14\" fill=\"#0000ff\" fill-rule=\"evenodd\" fill-opacity=\"0.1\" stroke=\"#000000\" stroke-opacity=\"0.1\" stroke-width=\"3.2\"/>\n",
       "<circle clip-path=\"url(#clip3902)\" cx=\"1830.18\" cy=\"624.189\" r=\"14\" fill=\"#0000ff\" fill-rule=\"evenodd\" fill-opacity=\"0.1\" stroke=\"#000000\" stroke-opacity=\"0.1\" stroke-width=\"3.2\"/>\n",
       "<circle clip-path=\"url(#clip3902)\" cx=\"1834.18\" cy=\"620.04\" r=\"14\" fill=\"#0000ff\" fill-rule=\"evenodd\" fill-opacity=\"0.1\" stroke=\"#000000\" stroke-opacity=\"0.1\" stroke-width=\"3.2\"/>\n",
       "<circle clip-path=\"url(#clip3902)\" cx=\"1838.18\" cy=\"622.08\" r=\"14\" fill=\"#0000ff\" fill-rule=\"evenodd\" fill-opacity=\"0.1\" stroke=\"#000000\" stroke-opacity=\"0.1\" stroke-width=\"3.2\"/>\n",
       "<circle clip-path=\"url(#clip3902)\" cx=\"1842.18\" cy=\"630.227\" r=\"14\" fill=\"#0000ff\" fill-rule=\"evenodd\" fill-opacity=\"0.1\" stroke=\"#000000\" stroke-opacity=\"0.1\" stroke-width=\"3.2\"/>\n",
       "<circle clip-path=\"url(#clip3902)\" cx=\"1846.18\" cy=\"644.153\" r=\"14\" fill=\"#0000ff\" fill-rule=\"evenodd\" fill-opacity=\"0.1\" stroke=\"#000000\" stroke-opacity=\"0.1\" stroke-width=\"3.2\"/>\n",
       "<circle clip-path=\"url(#clip3902)\" cx=\"1850.18\" cy=\"663.296\" r=\"14\" fill=\"#0000ff\" fill-rule=\"evenodd\" fill-opacity=\"0.1\" stroke=\"#000000\" stroke-opacity=\"0.1\" stroke-width=\"3.2\"/>\n",
       "<circle clip-path=\"url(#clip3902)\" cx=\"1854.18\" cy=\"686.888\" r=\"14\" fill=\"#0000ff\" fill-rule=\"evenodd\" fill-opacity=\"0.1\" stroke=\"#000000\" stroke-opacity=\"0.1\" stroke-width=\"3.2\"/>\n",
       "<circle clip-path=\"url(#clip3902)\" cx=\"1858.18\" cy=\"713.976\" r=\"14\" fill=\"#0000ff\" fill-rule=\"evenodd\" fill-opacity=\"0.1\" stroke=\"#000000\" stroke-opacity=\"0.1\" stroke-width=\"3.2\"/>\n",
       "<circle clip-path=\"url(#clip3902)\" cx=\"1862.17\" cy=\"743.471\" r=\"14\" fill=\"#0000ff\" fill-rule=\"evenodd\" fill-opacity=\"0.1\" stroke=\"#000000\" stroke-opacity=\"0.1\" stroke-width=\"3.2\"/>\n",
       "<circle clip-path=\"url(#clip3902)\" cx=\"1866.17\" cy=\"774.184\" r=\"14\" fill=\"#0000ff\" fill-rule=\"evenodd\" fill-opacity=\"0.1\" stroke=\"#000000\" stroke-opacity=\"0.1\" stroke-width=\"3.2\"/>\n",
       "<circle clip-path=\"url(#clip3902)\" cx=\"1870.17\" cy=\"804.88\" r=\"14\" fill=\"#0000ff\" fill-rule=\"evenodd\" fill-opacity=\"0.1\" stroke=\"#000000\" stroke-opacity=\"0.1\" stroke-width=\"3.2\"/>\n",
       "<circle clip-path=\"url(#clip3902)\" cx=\"1874.17\" cy=\"834.322\" r=\"14\" fill=\"#0000ff\" fill-rule=\"evenodd\" fill-opacity=\"0.1\" stroke=\"#000000\" stroke-opacity=\"0.1\" stroke-width=\"3.2\"/>\n",
       "<circle clip-path=\"url(#clip3902)\" cx=\"1878.17\" cy=\"861.324\" r=\"14\" fill=\"#0000ff\" fill-rule=\"evenodd\" fill-opacity=\"0.1\" stroke=\"#000000\" stroke-opacity=\"0.1\" stroke-width=\"3.2\"/>\n",
       "<circle clip-path=\"url(#clip3902)\" cx=\"1882.17\" cy=\"884.799\" r=\"14\" fill=\"#0000ff\" fill-rule=\"evenodd\" fill-opacity=\"0.1\" stroke=\"#000000\" stroke-opacity=\"0.1\" stroke-width=\"3.2\"/>\n",
       "<circle clip-path=\"url(#clip3902)\" cx=\"1886.17\" cy=\"903.803\" r=\"14\" fill=\"#0000ff\" fill-rule=\"evenodd\" fill-opacity=\"0.1\" stroke=\"#000000\" stroke-opacity=\"0.1\" stroke-width=\"3.2\"/>\n",
       "<circle clip-path=\"url(#clip3902)\" cx=\"1890.17\" cy=\"917.569\" r=\"14\" fill=\"#0000ff\" fill-rule=\"evenodd\" fill-opacity=\"0.1\" stroke=\"#000000\" stroke-opacity=\"0.1\" stroke-width=\"3.2\"/>\n",
       "<circle clip-path=\"url(#clip3902)\" cx=\"1894.17\" cy=\"925.543\" r=\"14\" fill=\"#0000ff\" fill-rule=\"evenodd\" fill-opacity=\"0.1\" stroke=\"#000000\" stroke-opacity=\"0.1\" stroke-width=\"3.2\"/>\n",
       "<circle clip-path=\"url(#clip3902)\" cx=\"1898.17\" cy=\"927.405\" r=\"14\" fill=\"#0000ff\" fill-rule=\"evenodd\" fill-opacity=\"0.1\" stroke=\"#000000\" stroke-opacity=\"0.1\" stroke-width=\"3.2\"/>\n",
       "<circle clip-path=\"url(#clip3902)\" cx=\"1902.16\" cy=\"923.079\" r=\"14\" fill=\"#0000ff\" fill-rule=\"evenodd\" fill-opacity=\"0.1\" stroke=\"#000000\" stroke-opacity=\"0.1\" stroke-width=\"3.2\"/>\n",
       "<circle clip-path=\"url(#clip3902)\" cx=\"1906.16\" cy=\"912.739\" r=\"14\" fill=\"#0000ff\" fill-rule=\"evenodd\" fill-opacity=\"0.1\" stroke=\"#000000\" stroke-opacity=\"0.1\" stroke-width=\"3.2\"/>\n",
       "<circle clip-path=\"url(#clip3902)\" cx=\"1910.16\" cy=\"896.803\" r=\"14\" fill=\"#0000ff\" fill-rule=\"evenodd\" fill-opacity=\"0.1\" stroke=\"#000000\" stroke-opacity=\"0.1\" stroke-width=\"3.2\"/>\n",
       "<circle clip-path=\"url(#clip3902)\" cx=\"1914.16\" cy=\"875.91\" r=\"14\" fill=\"#0000ff\" fill-rule=\"evenodd\" fill-opacity=\"0.1\" stroke=\"#000000\" stroke-opacity=\"0.1\" stroke-width=\"3.2\"/>\n",
       "<circle clip-path=\"url(#clip3902)\" cx=\"1918.16\" cy=\"850.904\" r=\"14\" fill=\"#0000ff\" fill-rule=\"evenodd\" fill-opacity=\"0.1\" stroke=\"#000000\" stroke-opacity=\"0.1\" stroke-width=\"3.2\"/>\n",
       "<circle clip-path=\"url(#clip3902)\" cx=\"1922.16\" cy=\"822.791\" r=\"14\" fill=\"#0000ff\" fill-rule=\"evenodd\" fill-opacity=\"0.1\" stroke=\"#000000\" stroke-opacity=\"0.1\" stroke-width=\"3.2\"/>\n",
       "<circle clip-path=\"url(#clip3902)\" cx=\"1926.16\" cy=\"792.702\" r=\"14\" fill=\"#0000ff\" fill-rule=\"evenodd\" fill-opacity=\"0.1\" stroke=\"#000000\" stroke-opacity=\"0.1\" stroke-width=\"3.2\"/>\n",
       "<circle clip-path=\"url(#clip3902)\" cx=\"1930.16\" cy=\"761.85\" r=\"14\" fill=\"#0000ff\" fill-rule=\"evenodd\" fill-opacity=\"0.1\" stroke=\"#000000\" stroke-opacity=\"0.1\" stroke-width=\"3.2\"/>\n",
       "<circle clip-path=\"url(#clip3902)\" cx=\"1934.16\" cy=\"731.476\" r=\"14\" fill=\"#0000ff\" fill-rule=\"evenodd\" fill-opacity=\"0.1\" stroke=\"#000000\" stroke-opacity=\"0.1\" stroke-width=\"3.2\"/>\n",
       "<circle clip-path=\"url(#clip3902)\" cx=\"1938.16\" cy=\"702.804\" r=\"14\" fill=\"#0000ff\" fill-rule=\"evenodd\" fill-opacity=\"0.1\" stroke=\"#000000\" stroke-opacity=\"0.1\" stroke-width=\"3.2\"/>\n",
       "<circle clip-path=\"url(#clip3902)\" cx=\"1942.15\" cy=\"676.989\" r=\"14\" fill=\"#0000ff\" fill-rule=\"evenodd\" fill-opacity=\"0.1\" stroke=\"#000000\" stroke-opacity=\"0.1\" stroke-width=\"3.2\"/>\n",
       "<circle clip-path=\"url(#clip3902)\" cx=\"1946.15\" cy=\"655.069\" r=\"14\" fill=\"#0000ff\" fill-rule=\"evenodd\" fill-opacity=\"0.1\" stroke=\"#000000\" stroke-opacity=\"0.1\" stroke-width=\"3.2\"/>\n",
       "<circle clip-path=\"url(#clip3902)\" cx=\"1950.15\" cy=\"637.928\" r=\"14\" fill=\"#0000ff\" fill-rule=\"evenodd\" fill-opacity=\"0.1\" stroke=\"#000000\" stroke-opacity=\"0.1\" stroke-width=\"3.2\"/>\n",
       "<circle clip-path=\"url(#clip3902)\" cx=\"1954.15\" cy=\"626.256\" r=\"14\" fill=\"#0000ff\" fill-rule=\"evenodd\" fill-opacity=\"0.1\" stroke=\"#000000\" stroke-opacity=\"0.1\" stroke-width=\"3.2\"/>\n",
       "<circle clip-path=\"url(#clip3902)\" cx=\"1958.15\" cy=\"620.522\" r=\"14\" fill=\"#0000ff\" fill-rule=\"evenodd\" fill-opacity=\"0.1\" stroke=\"#000000\" stroke-opacity=\"0.1\" stroke-width=\"3.2\"/>\n",
       "<circle clip-path=\"url(#clip3902)\" cx=\"1962.15\" cy=\"620.958\" r=\"14\" fill=\"#0000ff\" fill-rule=\"evenodd\" fill-opacity=\"0.1\" stroke=\"#000000\" stroke-opacity=\"0.1\" stroke-width=\"3.2\"/>\n",
       "<circle clip-path=\"url(#clip3902)\" cx=\"1966.15\" cy=\"627.546\" r=\"14\" fill=\"#0000ff\" fill-rule=\"evenodd\" fill-opacity=\"0.1\" stroke=\"#000000\" stroke-opacity=\"0.1\" stroke-width=\"3.2\"/>\n",
       "<circle clip-path=\"url(#clip3902)\" cx=\"1970.15\" cy=\"640.021\" r=\"14\" fill=\"#0000ff\" fill-rule=\"evenodd\" fill-opacity=\"0.1\" stroke=\"#000000\" stroke-opacity=\"0.1\" stroke-width=\"3.2\"/>\n",
       "<circle clip-path=\"url(#clip3902)\" cx=\"1974.15\" cy=\"657.88\" r=\"14\" fill=\"#0000ff\" fill-rule=\"evenodd\" fill-opacity=\"0.1\" stroke=\"#000000\" stroke-opacity=\"0.1\" stroke-width=\"3.2\"/>\n",
       "<circle clip-path=\"url(#clip3902)\" cx=\"1978.15\" cy=\"680.405\" r=\"14\" fill=\"#0000ff\" fill-rule=\"evenodd\" fill-opacity=\"0.1\" stroke=\"#000000\" stroke-opacity=\"0.1\" stroke-width=\"3.2\"/>\n",
       "<circle clip-path=\"url(#clip3902)\" cx=\"1982.15\" cy=\"706.687\" r=\"14\" fill=\"#0000ff\" fill-rule=\"evenodd\" fill-opacity=\"0.1\" stroke=\"#000000\" stroke-opacity=\"0.1\" stroke-width=\"3.2\"/>\n",
       "<circle clip-path=\"url(#clip3902)\" cx=\"1986.14\" cy=\"735.67\" r=\"14\" fill=\"#0000ff\" fill-rule=\"evenodd\" fill-opacity=\"0.1\" stroke=\"#000000\" stroke-opacity=\"0.1\" stroke-width=\"3.2\"/>\n",
       "<circle clip-path=\"url(#clip3902)\" cx=\"1990.14\" cy=\"766.186\" r=\"14\" fill=\"#0000ff\" fill-rule=\"evenodd\" fill-opacity=\"0.1\" stroke=\"#000000\" stroke-opacity=\"0.1\" stroke-width=\"3.2\"/>\n",
       "<circle clip-path=\"url(#clip3902)\" cx=\"1994.14\" cy=\"797.006\" r=\"14\" fill=\"#0000ff\" fill-rule=\"evenodd\" fill-opacity=\"0.1\" stroke=\"#000000\" stroke-opacity=\"0.1\" stroke-width=\"3.2\"/>\n",
       "<circle clip-path=\"url(#clip3902)\" cx=\"1998.14\" cy=\"826.889\" r=\"14\" fill=\"#0000ff\" fill-rule=\"evenodd\" fill-opacity=\"0.1\" stroke=\"#000000\" stroke-opacity=\"0.1\" stroke-width=\"3.2\"/>\n",
       "<circle clip-path=\"url(#clip3902)\" cx=\"2002.14\" cy=\"854.631\" r=\"14\" fill=\"#0000ff\" fill-rule=\"evenodd\" fill-opacity=\"0.1\" stroke=\"#000000\" stroke-opacity=\"0.1\" stroke-width=\"3.2\"/>\n",
       "<circle clip-path=\"url(#clip3902)\" cx=\"2006.14\" cy=\"879.117\" r=\"14\" fill=\"#0000ff\" fill-rule=\"evenodd\" fill-opacity=\"0.1\" stroke=\"#000000\" stroke-opacity=\"0.1\" stroke-width=\"3.2\"/>\n",
       "<circle clip-path=\"url(#clip3902)\" cx=\"2010.14\" cy=\"899.359\" r=\"14\" fill=\"#0000ff\" fill-rule=\"evenodd\" fill-opacity=\"0.1\" stroke=\"#000000\" stroke-opacity=\"0.1\" stroke-width=\"3.2\"/>\n",
       "<circle clip-path=\"url(#clip3902)\" cx=\"2014.14\" cy=\"914.543\" r=\"14\" fill=\"#0000ff\" fill-rule=\"evenodd\" fill-opacity=\"0.1\" stroke=\"#000000\" stroke-opacity=\"0.1\" stroke-width=\"3.2\"/>\n",
       "<circle clip-path=\"url(#clip3902)\" cx=\"2018.14\" cy=\"924.057\" r=\"14\" fill=\"#0000ff\" fill-rule=\"evenodd\" fill-opacity=\"0.1\" stroke=\"#000000\" stroke-opacity=\"0.1\" stroke-width=\"3.2\"/>\n",
       "<circle clip-path=\"url(#clip3902)\" cx=\"2022.14\" cy=\"927.518\" r=\"14\" fill=\"#0000ff\" fill-rule=\"evenodd\" fill-opacity=\"0.1\" stroke=\"#000000\" stroke-opacity=\"0.1\" stroke-width=\"3.2\"/>\n",
       "<circle clip-path=\"url(#clip3902)\" cx=\"2026.13\" cy=\"924.787\" r=\"14\" fill=\"#0000ff\" fill-rule=\"evenodd\" fill-opacity=\"0.1\" stroke=\"#000000\" stroke-opacity=\"0.1\" stroke-width=\"3.2\"/>\n",
       "<circle clip-path=\"url(#clip3902)\" cx=\"2030.13\" cy=\"915.973\" r=\"14\" fill=\"#0000ff\" fill-rule=\"evenodd\" fill-opacity=\"0.1\" stroke=\"#000000\" stroke-opacity=\"0.1\" stroke-width=\"3.2\"/>\n",
       "<circle clip-path=\"url(#clip3902)\" cx=\"2034.13\" cy=\"901.433\" r=\"14\" fill=\"#0000ff\" fill-rule=\"evenodd\" fill-opacity=\"0.1\" stroke=\"#000000\" stroke-opacity=\"0.1\" stroke-width=\"3.2\"/>\n",
       "<circle clip-path=\"url(#clip3902)\" cx=\"2038.13\" cy=\"881.75\" r=\"14\" fill=\"#0000ff\" fill-rule=\"evenodd\" fill-opacity=\"0.1\" stroke=\"#000000\" stroke-opacity=\"0.1\" stroke-width=\"3.2\"/>\n",
       "<circle clip-path=\"url(#clip3902)\" cx=\"2042.13\" cy=\"857.718\" r=\"14\" fill=\"#0000ff\" fill-rule=\"evenodd\" fill-opacity=\"0.1\" stroke=\"#000000\" stroke-opacity=\"0.1\" stroke-width=\"3.2\"/>\n",
       "<circle clip-path=\"url(#clip3902)\" cx=\"2046.13\" cy=\"830.305\" r=\"14\" fill=\"#0000ff\" fill-rule=\"evenodd\" fill-opacity=\"0.1\" stroke=\"#000000\" stroke-opacity=\"0.1\" stroke-width=\"3.2\"/>\n",
       "<circle clip-path=\"url(#clip3902)\" cx=\"2050.13\" cy=\"800.613\" r=\"14\" fill=\"#0000ff\" fill-rule=\"evenodd\" fill-opacity=\"0.1\" stroke=\"#000000\" stroke-opacity=\"0.1\" stroke-width=\"3.2\"/>\n",
       "<circle clip-path=\"url(#clip3902)\" cx=\"2054.13\" cy=\"769.84\" r=\"14\" fill=\"#0000ff\" fill-rule=\"evenodd\" fill-opacity=\"0.1\" stroke=\"#000000\" stroke-opacity=\"0.1\" stroke-width=\"3.2\"/>\n",
       "<circle clip-path=\"url(#clip3902)\" cx=\"2058.13\" cy=\"739.223\" r=\"14\" fill=\"#0000ff\" fill-rule=\"evenodd\" fill-opacity=\"0.1\" stroke=\"#000000\" stroke-opacity=\"0.1\" stroke-width=\"3.2\"/>\n",
       "<circle clip-path=\"url(#clip3902)\" cx=\"2062.13\" cy=\"709.997\" r=\"14\" fill=\"#0000ff\" fill-rule=\"evenodd\" fill-opacity=\"0.1\" stroke=\"#000000\" stroke-opacity=\"0.1\" stroke-width=\"3.2\"/>\n",
       "<circle clip-path=\"url(#clip3902)\" cx=\"2066.12\" cy=\"683.337\" r=\"14\" fill=\"#0000ff\" fill-rule=\"evenodd\" fill-opacity=\"0.1\" stroke=\"#000000\" stroke-opacity=\"0.1\" stroke-width=\"3.2\"/>\n",
       "<circle clip-path=\"url(#clip3902)\" cx=\"2070.12\" cy=\"660.317\" r=\"14\" fill=\"#0000ff\" fill-rule=\"evenodd\" fill-opacity=\"0.1\" stroke=\"#000000\" stroke-opacity=\"0.1\" stroke-width=\"3.2\"/>\n",
       "<circle clip-path=\"url(#clip3902)\" cx=\"2074.12\" cy=\"641.865\" r=\"14\" fill=\"#0000ff\" fill-rule=\"evenodd\" fill-opacity=\"0.1\" stroke=\"#000000\" stroke-opacity=\"0.1\" stroke-width=\"3.2\"/>\n",
       "<circle clip-path=\"url(#clip3902)\" cx=\"2078.12\" cy=\"628.722\" r=\"14\" fill=\"#0000ff\" fill-rule=\"evenodd\" fill-opacity=\"0.1\" stroke=\"#000000\" stroke-opacity=\"0.1\" stroke-width=\"3.2\"/>\n",
       "<circle clip-path=\"url(#clip3902)\" cx=\"2082.12\" cy=\"621.42\" r=\"14\" fill=\"#0000ff\" fill-rule=\"evenodd\" fill-opacity=\"0.1\" stroke=\"#000000\" stroke-opacity=\"0.1\" stroke-width=\"3.2\"/>\n",
       "<circle clip-path=\"url(#clip3902)\" cx=\"2086.12\" cy=\"620.25\" r=\"14\" fill=\"#0000ff\" fill-rule=\"evenodd\" fill-opacity=\"0.1\" stroke=\"#000000\" stroke-opacity=\"0.1\" stroke-width=\"3.2\"/>\n",
       "<circle clip-path=\"url(#clip3902)\" cx=\"2090.12\" cy=\"625.261\" r=\"14\" fill=\"#0000ff\" fill-rule=\"evenodd\" fill-opacity=\"0.1\" stroke=\"#000000\" stroke-opacity=\"0.1\" stroke-width=\"3.2\"/>\n",
       "<circle clip-path=\"url(#clip3902)\" cx=\"2094.12\" cy=\"636.251\" r=\"14\" fill=\"#0000ff\" fill-rule=\"evenodd\" fill-opacity=\"0.1\" stroke=\"#000000\" stroke-opacity=\"0.1\" stroke-width=\"3.2\"/>\n",
       "<path clip-path=\"url(#clip3900)\" d=\"\n",
       "M1527.07 447.115 L2280.76 447.115 L2280.76 205.195 L1527.07 205.195  Z\n",
       "  \" fill=\"#ffffff\" fill-rule=\"evenodd\" fill-opacity=\"1\"/>\n",
       "<polyline clip-path=\"url(#clip3900)\" style=\"stroke:#000000; stroke-width:4; stroke-opacity:1; fill:none\" points=\"\n",
       "  1527.07,447.115 2280.76,447.115 2280.76,205.195 1527.07,205.195 1527.07,447.115 \n",
       "  \"/>\n",
       "<polyline clip-path=\"url(#clip3900)\" style=\"stroke:#ff0000; stroke-width:20; stroke-opacity:1; fill:none\" points=\"\n",
       "  1551.07,265.675 1695.07,265.675 \n",
       "  \"/>\n",
       "<g clip-path=\"url(#clip3900)\">\n",
       "<text style=\"fill:#000000; fill-opacity:1; font-family:Arial,Helvetica Neue,Helvetica,sans-serif; font-size:48px; text-anchor:start;\" transform=\"rotate(0, 1719.07, 283.175)\" x=\"1719.07\" y=\"283.175\">Fonction cos</text>\n",
       "</g>\n",
       "<polyline clip-path=\"url(#clip3900)\" style=\"stroke:#008000; stroke-width:4; stroke-opacity:1; fill:none\" stroke-dasharray=\"16, 10\" points=\"\n",
       "  1551.07,326.155 1695.07,326.155 \n",
       "  \"/>\n",
       "<g clip-path=\"url(#clip3900)\">\n",
       "<text style=\"fill:#000000; fill-opacity:1; font-family:Arial,Helvetica Neue,Helvetica,sans-serif; font-size:48px; text-anchor:start;\" transform=\"rotate(0, 1719.07, 343.655)\" x=\"1719.07\" y=\"343.655\">Fonction sinus</text>\n",
       "</g>\n",
       "<polyline clip-path=\"url(#clip3900)\" style=\"stroke:#0000ff; stroke-width:4; stroke-opacity:1; fill:none\" points=\"\n",
       "  1551.07,386.635 1695.07,386.635 \n",
       "  \"/>\n",
       "<circle clip-path=\"url(#clip3900)\" cx=\"1635.07\" cy=\"386.635\" r=\"21\" fill=\"#0000ff\" fill-rule=\"evenodd\" fill-opacity=\"0.1\" stroke=\"#000000\" stroke-opacity=\"0.1\" stroke-width=\"3.2\"/>\n",
       "<g clip-path=\"url(#clip3900)\">\n",
       "<text style=\"fill:#000000; fill-opacity:1; font-family:Arial,Helvetica Neue,Helvetica,sans-serif; font-size:48px; text-anchor:start;\" transform=\"rotate(0, 1719.07, 404.135)\" x=\"1719.07\" y=\"404.135\">Pas d&apos;idée pour ce label</text>\n",
       "</g>\n",
       "</svg>\n"
      ]
     },
     "execution_count": 118,
     "metadata": {},
     "output_type": "execute_result"
    }
   ],
   "source": [
    "using Plots\n",
    "\n",
    "x = collect(range(0,stop=10,length=101));\n",
    "y = cos.(x); # notez le . devant le cos pour appliquer la fonction élément par élément\n",
    "\n",
    "x1 = collect(range(0,stop=5,length=20));\n",
    "z = sin.(x1);\n",
    "\n",
    "x2 = collect(range(5,stop=9,length=200));\n",
    "w = 0.25*sin.(10*x2);\n",
    "\n",
    "p = plot(x, y, label=\"Fonction cos\", ylabel = \"Valeur de la fonction\", xlabel = \"Valeur de l'entrée\", \n",
    "    title=\"Un joli titre\", color=:red, linewidth=5)\n",
    "\n",
    "plot!(p, x1, z, color=:green, label=\"Fonction sinus\", linewidth = 1, linestyle = :dash)\n",
    "\n",
    "plot!(p, x2, w, marker=:circle, markeralpha=0.1, color=:blue, label=\"Pas d'idée pour ce label\")"
   ]
  },
  {
   "cell_type": "markdown",
   "metadata": {},
   "source": [
    "# <center>TP0: Mon NoteBook Julia <center>"
   ]
  },
  {
   "cell_type": "markdown",
   "metadata": {},
   "source": [
    "## Opérations arithmétiques de base"
   ]
  },
  {
   "cell_type": "markdown",
   "metadata": {},
   "source": [
    "Le langage Julia est avant tout une grosse calculatrice. On peut effectuer toutes les opérations arithmétiques élémentaires : "
   ]
  },
  {
   "cell_type": "markdown",
   "metadata": {},
   "source": [
    "**calculer 237 Modulo 17**"
   ]
  },
  {
   "cell_type": "code",
   "execution_count": 3,
   "metadata": {},
   "outputs": [
    {
     "data": {
      "text/plain": [
       "16"
      ]
     },
     "execution_count": 3,
     "metadata": {},
     "output_type": "execute_result"
    }
   ],
   "source": [
    "floor(237%17)"
   ]
  },
  {
   "cell_type": "markdown",
   "metadata": {},
   "source": [
    "**vérifier que c'est juste en utilisant la fonction floor(), c'est à dire, partie entière**"
   ]
  },
  {
   "cell_type": "markdown",
   "metadata": {},
   "source": [
    "## Les variables"
   ]
  },
  {
   "cell_type": "markdown",
   "metadata": {},
   "source": [
    "Pour effectuer des calculs plus complexes et plus génériques, on peut stocker des valeurs dans des variables et réaliser des opérations sur ces mêmes variables sans connaître nécessairement leur valeur au moment de l'exécution."
   ]
  },
  {
   "cell_type": "markdown",
   "metadata": {},
   "source": [
    "**affecter aux 3 variables x, y z les valeurs 2, 3.14 et pi**"
   ]
  },
  {
   "cell_type": "code",
   "execution_count": 4,
   "metadata": {},
   "outputs": [
    {
     "ename": "LoadError",
     "evalue": "\u001b[91mUndefVarError: Pi not defined\u001b[39m",
     "output_type": "error",
     "traceback": [
      "\u001b[91mUndefVarError: Pi not defined\u001b[39m",
      "",
      "Stacktrace:",
      " [1] top-level scope at In[4]:3",
      " [2] include_string(::Function, ::Module, ::String, ::String) at .\\loading.jl:1091"
     ]
    }
   ],
   "source": [
    "x = 2\n",
    "y = 3.14\n",
    "z = Pi "
   ]
  },
  {
   "cell_type": "markdown",
   "metadata": {},
   "source": [
    "## Les types"
   ]
  },
  {
   "cell_type": "markdown",
   "metadata": {},
   "source": [
    "En Julia il est possible de manipuler autre chose que des nombres, et même différents types de nombre. Ce sont les \"types\" des variables. La fonction typeof() permet d'obtenir le type d'une variable ou d'une constante. Il existe par exemple : "
   ]
  },
  {
   "cell_type": "markdown",
   "metadata": {},
   "source": [
    "D'autres types sont disponibles en Julia. Par exemple les booléens qui prennent la valeur VRAI ou FAUX et sur lesquels des opérations logiques peuvent être appliqués. "
   ]
  },
  {
   "cell_type": "markdown",
   "metadata": {},
   "source": [
    "**prendre 2 variables a et b valant true et false et calculer ( (a OR b) AND a ) XOR b**"
   ]
  },
  {
   "cell_type": "markdown",
   "metadata": {},
   "source": [
    "On peut également manipuler des caractères et des chaînes de caractère -- généralement pour manipuler du texte. Un caractère est défini entre guillemets simples et les chaînes de caractères entre guillemets doubles."
   ]
  },
  {
   "cell_type": "markdown",
   "metadata": {},
   "source": [
    "**définir les variables carac, chaine comme un caractère seul et une chaîne puis vérifier les types de x, y, z, a, car et chaine en les affichant avec la fonction println()**"
   ]
  },
  {
   "cell_type": "markdown",
   "metadata": {},
   "source": [
    "## Les vecteurs"
   ]
  },
  {
   "cell_type": "markdown",
   "metadata": {},
   "source": [
    "Pour manipuler plusieurs données plus simplement qu'en leur attribuant à toutes une variable différente, il est possible de les stocker dans un vecteur. "
   ]
  },
  {
   "cell_type": "markdown",
   "metadata": {},
   "source": [
    "**créer un vecteur v contenant 0.5, 1, -0.5.**"
   ]
  },
  {
   "cell_type": "markdown",
   "metadata": {},
   "source": [
    "Pour accéder aux éléments du vecteur on utilise la notation v[k] pour accéder au k-ième élément de v."
   ]
  },
  {
   "cell_type": "markdown",
   "metadata": {},
   "source": [
    "**Tenter d'accéder au 4e élément d'un vecteur de taille 3 soulève une erreur de l'interpréteur.**"
   ]
  },
  {
   "cell_type": "markdown",
   "metadata": {},
   "source": [
    "**générer un vecteur r aleatoire de 10 éléments dont les valeurs entières sont entre 1 et 100**"
   ]
  },
  {
   "cell_type": "markdown",
   "metadata": {},
   "source": [
    "**ajouter la valeur 11 comme 11ème élément**"
   ]
  },
  {
   "cell_type": "markdown",
   "metadata": {},
   "source": [
    "**créer un vecteur s de taille 5, de réels, initialisé avec des zéros**"
   ]
  },
  {
   "cell_type": "markdown",
   "metadata": {},
   "source": [
    "### Quelques opérations élémentaires sur les vecteurs "
   ]
  },
  {
   "cell_type": "markdown",
   "metadata": {},
   "source": [
    "On peut sommer deux vecteurs de même taille : "
   ]
  },
  {
   "cell_type": "markdown",
   "metadata": {},
   "source": [
    "**générer 2 vecteurs v et w de 10 entiers et les additionner**"
   ]
  },
  {
   "cell_type": "markdown",
   "metadata": {},
   "source": [
    "Le produit scalaire n'est pas accessible directement par le symbole *, il faut passer par la fonction dot."
   ]
  },
  {
   "cell_type": "markdown",
   "metadata": {},
   "source": [
    "**faire leur produit scalaire en utilisant le package LinearAlgebra et la fonction dot**"
   ]
  },
  {
   "cell_type": "markdown",
   "metadata": {},
   "source": [
    "## Les structures de contrôle"
   ]
  },
  {
   "cell_type": "markdown",
   "metadata": {},
   "source": [
    "### La boucle for"
   ]
  },
  {
   "cell_type": "markdown",
   "metadata": {},
   "source": [
    "La syntaxe est la suivante : <br>\n",
    "for variable_de_parcours = structure_de_donnees_a_parcourir <br>\n",
    "&nbsp;&nbsp;&nbsp;&nbsp;&nbsp;&nbsp; BLOC d'INSTRUCTIONS <br>\n",
    "end\n"
   ]
  },
  {
   "cell_type": "markdown",
   "metadata": {},
   "source": [
    "**calculer le produit scalaire précédent en utilisant la multiplication élément par élément et une boucle for de sommation et vérifier l'égalité**"
   ]
  },
  {
   "cell_type": "markdown",
   "metadata": {},
   "source": [
    "**créer z, un vecteur d'entiers de taille 10 et mettre des nombres pairs aleatoires dedans**"
   ]
  },
  {
   "cell_type": "markdown",
   "metadata": {},
   "source": [
    "### La structure conditionnelle (if) "
   ]
  },
  {
   "cell_type": "markdown",
   "metadata": {},
   "source": [
    "Pour qu'un bloc d'instructions ne soit exécuté que si une condition est respectée, on utilise la structure if. <br> \n",
    "La syntaxe est la suivante : <br>\n",
    "if condition <br>\n",
    "&nbsp;&nbsp;&nbsp;&nbsp;&nbsp;&nbsp; BLOC d'INSTRUCTIONS <br>\n",
    "end"
   ]
  },
  {
   "cell_type": "markdown",
   "metadata": {},
   "source": [
    "**dans le vecteur z précédent, n'afficher que les valeurs inférieures à 50**"
   ]
  },
  {
   "cell_type": "markdown",
   "metadata": {},
   "source": [
    "Des structures plus complexes peuvent être mises en place : le mot clé \"else\" permet d'exécuter un bloc d'instructions si la condition du if est fausse. Le mot clé \"else if\" permet de tester une autre condition. "
   ]
  },
  {
   "cell_type": "markdown",
   "metadata": {},
   "source": [
    "**parcourir le vecteur z et afficher: l'indice, la propriété testée, le calcul pour les propriétés suivantes:**\n",
    "\n",
    "**si valeur mutliple de 4, alors calcul: valeur modulo 3,**\n",
    "\n",
    "**sinon, si valeur inférieure à 50 , alors calcul: valeur au carré**\n",
    "\n",
    "**sinon, calcul: partie entière de 100(inverse de valeur)**"
   ]
  },
  {
   "cell_type": "markdown",
   "metadata": {},
   "source": [
    "### La boucle while "
   ]
  },
  {
   "cell_type": "markdown",
   "metadata": {},
   "source": [
    "Pour exécuter une opération tant qu'une condition est vérifiée on utilise la boucle while. La syntaxe est la suivante : <br>\n",
    "while condition <br>\n",
    "&nbsp;&nbsp;&nbsp;&nbsp;&nbsp;&nbsp; BLOC d'INSTRUCTIONS <br>\n",
    "end"
   ]
  },
  {
   "cell_type": "markdown",
   "metadata": {},
   "source": [
    "Typiquement, dans un alogorithme qui est censé converger, on teste la condition de boucle tant que la précision (tol) n'est pas atteinte en un nombre d'itérations maximal (itmax)."
   ]
  },
  {
   "cell_type": "markdown",
   "metadata": {},
   "source": [
    "**Calculer le nombre de termes nécessaires de la suite $(U_n)$ définie par $u_n=1/x^n, x > 1$ pour approcher zéro à epsilon prés. Prendre x aléatoire > 1, epsilon = 1e-4 et ne pas dépasser 20 itérations**"
   ]
  },
  {
   "cell_type": "markdown",
   "metadata": {},
   "source": [
    "## Les fonctions"
   ]
  },
  {
   "cell_type": "markdown",
   "metadata": {},
   "source": [
    "Pour réutiliser un morceau de code qui revient souvent, il est plus simple de stocker ce bloc d'instructions dans une fonction. Une fonction prend des arguments en entrée, effectue un bloc d'instructions et retourne éventuellement des valeurs en sortie. La syntaxe est : <br>\n",
    "<br>\n",
    "function nom_de_ma_fonction(argument1, argument2, ..., argument_k) <br>\n",
    "&nbsp;&nbsp;&nbsp;&nbsp;&nbsp;&nbsp; BLOC d'INSTRUCTIONS <br>\n",
    "end"
   ]
  },
  {
   "cell_type": "markdown",
   "metadata": {},
   "source": [
    "Fonctions simples: "
   ]
  },
  {
   "cell_type": "code",
   "execution_count": 6,
   "metadata": {},
   "outputs": [
    {
     "data": {
      "text/plain": [
       "f (generic function with 1 method)"
      ]
     },
     "execution_count": 6,
     "metadata": {},
     "output_type": "execute_result"
    }
   ],
   "source": [
    "# Déclaration de fonctions sous forme courte :\n",
    "f(x) = 42 * x^3"
   ]
  },
  {
   "cell_type": "code",
   "execution_count": 5,
   "metadata": {},
   "outputs": [
    {
     "data": {
      "text/plain": [
       "#3 (generic function with 1 method)"
      ]
     },
     "execution_count": 5,
     "metadata": {},
     "output_type": "execute_result"
    }
   ],
   "source": [
    "# Et même de lambdas :\n",
    "g = x -> 42 / x^6"
   ]
  },
  {
   "cell_type": "markdown",
   "metadata": {},
   "source": [
    "**calculer f(0) et g(1)**"
   ]
  },
  {
   "cell_type": "markdown",
   "metadata": {},
   "source": [
    "Fonctions plus élaborées (voir tuto)."
   ]
  },
  {
   "cell_type": "markdown",
   "metadata": {},
   "source": [
    "**programmer la résolution d'une équation du 2nd degré $ax^2+bx+c$**"
   ]
  },
  {
   "cell_type": "markdown",
   "metadata": {},
   "source": [
    "## Les matrices"
   ]
  },
  {
   "cell_type": "markdown",
   "metadata": {},
   "source": [
    "L'utilisation des matrices est semblable à celle des vecteurs. C'est une structure de données à deux dimensions contenant un type de variables précis. "
   ]
  },
  {
   "cell_type": "markdown",
   "metadata": {},
   "source": [
    "**initialiser la M matrice suivante**\n",
    "$$\\begin{bmatrix}\n",
    "1&2&0.5\\\\\n",
    "0&-2&3\\\\\n",
    "1&-4&-0.1\n",
    "\\end{bmatrix}$$"
   ]
  },
  {
   "cell_type": "markdown",
   "metadata": {},
   "source": [
    "**créer une matrice N de mêmes dimensions, remplie de '2'**"
   ]
  },
  {
   "cell_type": "markdown",
   "metadata": {},
   "source": [
    "**afficher la transposée M' de M**"
   ]
  },
  {
   "cell_type": "markdown",
   "metadata": {},
   "source": [
    "**afficher la 2ème ligne de M**"
   ]
  },
  {
   "cell_type": "markdown",
   "metadata": {},
   "source": [
    "### Algèbre linéaire élémentaire sur les matrices"
   ]
  },
  {
   "cell_type": "markdown",
   "metadata": {},
   "source": [
    "**ajouter M et N**"
   ]
  },
  {
   "cell_type": "markdown",
   "metadata": {},
   "source": [
    "**calculer le produit scalaire précédent de v et w en utilisant la multiplication d'un vecteur ligne par un vecteur colonne**"
   ]
  },
  {
   "cell_type": "markdown",
   "metadata": {},
   "source": [
    "**calculer d: le déterminant de M, invM: la matrice inverse de M le cas échéant et retrouver la matrice identité par multiplication de M et invM**"
   ]
  },
  {
   "cell_type": "markdown",
   "metadata": {},
   "source": [
    "## Les plots "
   ]
  },
  {
   "cell_type": "markdown",
   "metadata": {},
   "source": [
    "Pour afficher des courbes, on utilise la fonction plot. Sa syntaxe la plus basique est : plot(y) où y est un vecteur d'entiers/flottants. "
   ]
  },
  {
   "cell_type": "markdown",
   "metadata": {},
   "source": [
    "**vérifier les packages explicitement installés dans julia en utilisant \"using Pkg\" puis \"Pkg.status()\"**"
   ]
  },
  {
   "cell_type": "markdown",
   "metadata": {},
   "source": [
    "**si nécessaire, ajouter le package Plots avec Pkg.add(\"Plots\")** "
   ]
  },
  {
   "cell_type": "markdown",
   "metadata": {},
   "source": [
    "Ci-dessous un exemple plus complet qui montre : \n",
    "- comment rajouter des labels, des légendes\n",
    "- comment mettre plusieurs plots sur un même graphique \n",
    "- choisir la couleur, les marqueurs, le type de courbe "
   ]
  },
  {
   "cell_type": "code",
   "execution_count": 118,
   "metadata": {},
   "outputs": [
    {
     "data": {
      "image/svg+xml": [
       "<?xml version=\"1.0\" encoding=\"utf-8\"?>\n",
       "<svg xmlns=\"http://www.w3.org/2000/svg\" xmlns:xlink=\"http://www.w3.org/1999/xlink\" width=\"600\" height=\"400\" viewBox=\"0 0 2400 1600\">\n",
       "<defs>\n",
       "  <clipPath id=\"clip3900\">\n",
       "    <rect x=\"0\" y=\"0\" width=\"2400\" height=\"1600\"/>\n",
       "  </clipPath>\n",
       "</defs>\n",
       "<path clip-path=\"url(#clip3900)\" d=\"\n",
       "M0 1600 L2400 1600 L2400 0 L0 0  Z\n",
       "  \" fill=\"#ffffff\" fill-rule=\"evenodd\" fill-opacity=\"1\"/>\n",
       "<defs>\n",
       "  <clipPath id=\"clip3901\">\n",
       "    <rect x=\"480\" y=\"0\" width=\"1681\" height=\"1600\"/>\n",
       "  </clipPath>\n",
       "</defs>\n",
       "<path clip-path=\"url(#clip3900)\" d=\"\n",
       "M243.864 1425.62 L2352.76 1425.62 L2352.76 121.675 L243.864 121.675  Z\n",
       "  \" fill=\"#ffffff\" fill-rule=\"evenodd\" fill-opacity=\"1\"/>\n",
       "<defs>\n",
       "  <clipPath id=\"clip3902\">\n",
       "    <rect x=\"243\" y=\"121\" width=\"2110\" height=\"1305\"/>\n",
       "  </clipPath>\n",
       "</defs>\n",
       "<polyline clip-path=\"url(#clip3902)\" style=\"stroke:#000000; stroke-width:2; stroke-opacity:0.1; fill:none\" points=\"\n",
       "  303.55,1425.62 303.55,121.675 \n",
       "  \"/>\n",
       "<polyline clip-path=\"url(#clip3902)\" style=\"stroke:#000000; stroke-width:2; stroke-opacity:0.1; fill:none\" points=\"\n",
       "  800.93,1425.62 800.93,121.675 \n",
       "  \"/>\n",
       "<polyline clip-path=\"url(#clip3902)\" style=\"stroke:#000000; stroke-width:2; stroke-opacity:0.1; fill:none\" points=\"\n",
       "  1298.31,1425.62 1298.31,121.675 \n",
       "  \"/>\n",
       "<polyline clip-path=\"url(#clip3902)\" style=\"stroke:#000000; stroke-width:2; stroke-opacity:0.1; fill:none\" points=\"\n",
       "  1795.69,1425.62 1795.69,121.675 \n",
       "  \"/>\n",
       "<polyline clip-path=\"url(#clip3902)\" style=\"stroke:#000000; stroke-width:2; stroke-opacity:0.1; fill:none\" points=\"\n",
       "  2293.07,1425.62 2293.07,121.675 \n",
       "  \"/>\n",
       "<polyline clip-path=\"url(#clip3902)\" style=\"stroke:#000000; stroke-width:2; stroke-opacity:0.1; fill:none\" points=\"\n",
       "  243.864,1388.9 2352.76,1388.9 \n",
       "  \"/>\n",
       "<polyline clip-path=\"url(#clip3902)\" style=\"stroke:#000000; stroke-width:2; stroke-opacity:0.1; fill:none\" points=\"\n",
       "  243.864,1081.32 2352.76,1081.32 \n",
       "  \"/>\n",
       "<polyline clip-path=\"url(#clip3902)\" style=\"stroke:#000000; stroke-width:2; stroke-opacity:0.1; fill:none\" points=\"\n",
       "  243.864,773.739 2352.76,773.739 \n",
       "  \"/>\n",
       "<polyline clip-path=\"url(#clip3902)\" style=\"stroke:#000000; stroke-width:2; stroke-opacity:0.1; fill:none\" points=\"\n",
       "  243.864,466.159 2352.76,466.159 \n",
       "  \"/>\n",
       "<polyline clip-path=\"url(#clip3902)\" style=\"stroke:#000000; stroke-width:2; stroke-opacity:0.1; fill:none\" points=\"\n",
       "  243.864,158.579 2352.76,158.579 \n",
       "  \"/>\n",
       "<polyline clip-path=\"url(#clip3900)\" style=\"stroke:#000000; stroke-width:4; stroke-opacity:1; fill:none\" points=\"\n",
       "  243.864,1425.62 2352.76,1425.62 \n",
       "  \"/>\n",
       "<polyline clip-path=\"url(#clip3900)\" style=\"stroke:#000000; stroke-width:4; stroke-opacity:1; fill:none\" points=\"\n",
       "  243.864,1425.62 243.864,121.675 \n",
       "  \"/>\n",
       "<polyline clip-path=\"url(#clip3900)\" style=\"stroke:#000000; stroke-width:4; stroke-opacity:1; fill:none\" points=\"\n",
       "  303.55,1425.62 303.55,1409.97 \n",
       "  \"/>\n",
       "<polyline clip-path=\"url(#clip3900)\" style=\"stroke:#000000; stroke-width:4; stroke-opacity:1; fill:none\" points=\"\n",
       "  800.93,1425.62 800.93,1409.97 \n",
       "  \"/>\n",
       "<polyline clip-path=\"url(#clip3900)\" style=\"stroke:#000000; stroke-width:4; stroke-opacity:1; fill:none\" points=\"\n",
       "  1298.31,1425.62 1298.31,1409.97 \n",
       "  \"/>\n",
       "<polyline clip-path=\"url(#clip3900)\" style=\"stroke:#000000; stroke-width:4; stroke-opacity:1; fill:none\" points=\"\n",
       "  1795.69,1425.62 1795.69,1409.97 \n",
       "  \"/>\n",
       "<polyline clip-path=\"url(#clip3900)\" style=\"stroke:#000000; stroke-width:4; stroke-opacity:1; fill:none\" points=\"\n",
       "  2293.07,1425.62 2293.07,1409.97 \n",
       "  \"/>\n",
       "<polyline clip-path=\"url(#clip3900)\" style=\"stroke:#000000; stroke-width:4; stroke-opacity:1; fill:none\" points=\"\n",
       "  243.864,1388.9 269.171,1388.9 \n",
       "  \"/>\n",
       "<polyline clip-path=\"url(#clip3900)\" style=\"stroke:#000000; stroke-width:4; stroke-opacity:1; fill:none\" points=\"\n",
       "  243.864,1081.32 269.171,1081.32 \n",
       "  \"/>\n",
       "<polyline clip-path=\"url(#clip3900)\" style=\"stroke:#000000; stroke-width:4; stroke-opacity:1; fill:none\" points=\"\n",
       "  243.864,773.739 269.171,773.739 \n",
       "  \"/>\n",
       "<polyline clip-path=\"url(#clip3900)\" style=\"stroke:#000000; stroke-width:4; stroke-opacity:1; fill:none\" points=\"\n",
       "  243.864,466.159 269.171,466.159 \n",
       "  \"/>\n",
       "<polyline clip-path=\"url(#clip3900)\" style=\"stroke:#000000; stroke-width:4; stroke-opacity:1; fill:none\" points=\"\n",
       "  243.864,158.579 269.171,158.579 \n",
       "  \"/>\n",
       "<g clip-path=\"url(#clip3900)\">\n",
       "<text style=\"fill:#000000; fill-opacity:1; font-family:Arial,Helvetica Neue,Helvetica,sans-serif; font-size:48px; text-anchor:middle;\" transform=\"rotate(0, 303.55, 1479.62)\" x=\"303.55\" y=\"1479.62\">0.0</text>\n",
       "</g>\n",
       "<g clip-path=\"url(#clip3900)\">\n",
       "<text style=\"fill:#000000; fill-opacity:1; font-family:Arial,Helvetica Neue,Helvetica,sans-serif; font-size:48px; text-anchor:middle;\" transform=\"rotate(0, 800.93, 1479.62)\" x=\"800.93\" y=\"1479.62\">2.5</text>\n",
       "</g>\n",
       "<g clip-path=\"url(#clip3900)\">\n",
       "<text style=\"fill:#000000; fill-opacity:1; font-family:Arial,Helvetica Neue,Helvetica,sans-serif; font-size:48px; text-anchor:middle;\" transform=\"rotate(0, 1298.31, 1479.62)\" x=\"1298.31\" y=\"1479.62\">5.0</text>\n",
       "</g>\n",
       "<g clip-path=\"url(#clip3900)\">\n",
       "<text style=\"fill:#000000; fill-opacity:1; font-family:Arial,Helvetica Neue,Helvetica,sans-serif; font-size:48px; text-anchor:middle;\" transform=\"rotate(0, 1795.69, 1479.62)\" x=\"1795.69\" y=\"1479.62\">7.5</text>\n",
       "</g>\n",
       "<g clip-path=\"url(#clip3900)\">\n",
       "<text style=\"fill:#000000; fill-opacity:1; font-family:Arial,Helvetica Neue,Helvetica,sans-serif; font-size:48px; text-anchor:middle;\" transform=\"rotate(0, 2293.07, 1479.62)\" x=\"2293.07\" y=\"1479.62\">10.0</text>\n",
       "</g>\n",
       "<g clip-path=\"url(#clip3900)\">\n",
       "<text style=\"fill:#000000; fill-opacity:1; font-family:Arial,Helvetica Neue,Helvetica,sans-serif; font-size:48px; text-anchor:end;\" transform=\"rotate(0, 219.864, 1406.4)\" x=\"219.864\" y=\"1406.4\">-1.0</text>\n",
       "</g>\n",
       "<g clip-path=\"url(#clip3900)\">\n",
       "<text style=\"fill:#000000; fill-opacity:1; font-family:Arial,Helvetica Neue,Helvetica,sans-serif; font-size:48px; text-anchor:end;\" transform=\"rotate(0, 219.864, 1098.82)\" x=\"219.864\" y=\"1098.82\">-0.5</text>\n",
       "</g>\n",
       "<g clip-path=\"url(#clip3900)\">\n",
       "<text style=\"fill:#000000; fill-opacity:1; font-family:Arial,Helvetica Neue,Helvetica,sans-serif; font-size:48px; text-anchor:end;\" transform=\"rotate(0, 219.864, 791.239)\" x=\"219.864\" y=\"791.239\">0.0</text>\n",
       "</g>\n",
       "<g clip-path=\"url(#clip3900)\">\n",
       "<text style=\"fill:#000000; fill-opacity:1; font-family:Arial,Helvetica Neue,Helvetica,sans-serif; font-size:48px; text-anchor:end;\" transform=\"rotate(0, 219.864, 483.659)\" x=\"219.864\" y=\"483.659\">0.5</text>\n",
       "</g>\n",
       "<g clip-path=\"url(#clip3900)\">\n",
       "<text style=\"fill:#000000; fill-opacity:1; font-family:Arial,Helvetica Neue,Helvetica,sans-serif; font-size:48px; text-anchor:end;\" transform=\"rotate(0, 219.864, 176.079)\" x=\"219.864\" y=\"176.079\">1.0</text>\n",
       "</g>\n",
       "<g clip-path=\"url(#clip3900)\">\n",
       "<text style=\"fill:#000000; fill-opacity:1; font-family:Arial,Helvetica Neue,Helvetica,sans-serif; font-size:84px; text-anchor:middle;\" transform=\"rotate(0, 1298.31, 73.2)\" x=\"1298.31\" y=\"73.2\">Un joli titre</text>\n",
       "</g>\n",
       "<g clip-path=\"url(#clip3900)\">\n",
       "<text style=\"fill:#000000; fill-opacity:1; font-family:Arial,Helvetica Neue,Helvetica,sans-serif; font-size:66px; text-anchor:middle;\" transform=\"rotate(0, 1298.31, 1559.48)\" x=\"1298.31\" y=\"1559.48\">Valeur de l&apos;entrée</text>\n",
       "</g>\n",
       "<g clip-path=\"url(#clip3900)\">\n",
       "<text style=\"fill:#000000; fill-opacity:1; font-family:Arial,Helvetica Neue,Helvetica,sans-serif; font-size:66px; text-anchor:middle;\" transform=\"rotate(-90, 89.2861, 773.647)\" x=\"89.2861\" y=\"773.647\">Valeur de la fonction</text>\n",
       "</g>\n",
       "<polyline clip-path=\"url(#clip3902)\" style=\"stroke:#ff0000; stroke-width:20; stroke-opacity:1; fill:none\" points=\"\n",
       "  303.55,158.579 323.445,161.652 343.34,170.841 363.235,186.054 383.131,207.139 403.026,233.885 422.921,266.026 442.816,303.239 462.711,345.153 482.607,391.349 \n",
       "  502.502,441.367 522.397,494.705 542.292,550.831 562.187,609.184 582.083,669.182 601.978,730.224 621.873,791.701 641.768,852.999 661.663,913.504 681.559,972.614 \n",
       "  701.454,1029.74 721.349,1084.3 741.244,1135.76 761.14,1183.6 781.035,1227.35 800.93,1266.57 820.825,1300.86 840.72,1329.89 860.616,1353.36 880.511,1371.03 \n",
       "  900.406,1382.74 920.301,1388.37 940.196,1387.85 960.092,1381.2 979.987,1368.47 999.882,1349.81 1019.78,1325.39 1039.67,1295.46 1059.57,1260.31 1079.46,1220.3 \n",
       "  1099.36,1175.83 1119.25,1127.35 1139.15,1075.33 1159.04,1020.29 1178.94,962.798 1198.83,903.412 1218.73,842.731 1238.62,781.36 1258.52,719.913 1278.41,659.004 \n",
       "  1298.31,599.241 1318.21,541.222 1338.1,485.526 1358,432.71 1377.89,383.301 1397.79,337.794 1417.68,296.642 1437.58,260.257 1457.47,229.003 1477.37,203.192 \n",
       "  1497.26,183.081 1517.16,168.872 1537.05,160.706 1556.95,158.666 1576.84,162.772 1596.74,172.982 1616.63,189.194 1636.53,211.247 1656.42,238.921 1676.32,271.938 \n",
       "  1696.21,309.969 1716.11,352.633 1736,399.506 1755.9,450.117 1775.79,503.962 1795.69,560.503 1815.59,619.174 1835.48,679.389 1855.38,740.548 1875.27,802.037 \n",
       "  1895.17,863.245 1915.06,923.557 1934.96,982.373 1954.85,1039.1 1974.75,1093.18 1994.64,1144.07 2014.54,1191.26 2034.43,1234.28 2054.33,1272.69 2074.22,1306.12 \n",
       "  2094.12,1334.23 2114.01,1356.74 2133.91,1373.42 2153.8,1384.12 2173.7,1388.71 2193.59,1387.16 2213.49,1379.48 2233.38,1365.75 2253.28,1346.1 2273.18,1320.73 \n",
       "  2293.07,1289.9 \n",
       "  \"/>\n",
       "<polyline clip-path=\"url(#clip3902)\" style=\"stroke:#008000; stroke-width:4; stroke-opacity:1; fill:none\" stroke-dasharray=\"16, 10\" points=\"\n",
       "  303.55,773.739 355.906,613.717 408.261,464.713 460.617,336.986 512.973,239.331 565.329,178.472 617.685,158.6 670.04,181.081 722.396,244.369 774.752,344.106 \n",
       "  827.108,473.425 879.464,623.421 931.819,783.767 984.175,943.422 1036.53,1091.39 1088.89,1217.5 1141.24,1313.04 1193.6,1371.46 1245.95,1388.71 1298.31,1363.63 \n",
       "  \n",
       "  \"/>\n",
       "<polyline clip-path=\"url(#clip3902)\" style=\"stroke:#0000ff; stroke-width:4; stroke-opacity:1; fill:none\" points=\"\n",
       "  1298.31,814.089 1302.31,783.648 1306.31,752.807 1310.31,722.81 1314.31,694.863 1318.31,670.092 1322.3,649.495 1326.3,633.901 1330.3,623.937 1334.3,620.006 \n",
       "  1338.3,622.265 1342.3,630.624 1346.3,644.745 1350.3,664.061 1354.3,687.793 1358.3,714.985 1362.29,744.544 1366.29,775.278 1370.29,805.951 1374.29,835.326 \n",
       "  1378.29,862.221 1382.29,885.553 1386.29,904.383 1390.29,917.952 1394.29,925.715 1398.29,927.357 1402.28,922.814 1406.28,912.268 1410.28,896.143 1414.28,875.09 \n",
       "  1418.28,849.956 1422.28,821.753 1426.28,791.616 1430.28,760.759 1434.28,730.425 1438.28,701.836 1442.28,676.141 1446.27,654.377 1450.27,637.418 1454.27,625.95 \n",
       "  1458.27,620.432 1462.27,621.087 1466.27,627.889 1470.27,640.565 1474.27,658.602 1478.27,681.276 1482.27,707.674 1486.26,736.731 1490.26,767.279 1494.26,798.086 \n",
       "  1498.26,827.914 1502.26,855.56 1506.26,879.911 1510.26,899.987 1514.26,914.979 1518.26,924.284 1522.26,927.527 1526.26,924.577 1530.25,915.554 1534.25,900.82 \n",
       "  1538.25,880.969 1542.25,856.8 1546.25,829.286 1550.25,799.536 1554.25,768.746 1558.25,738.158 1562.25,709.003 1566.25,682.454 1570.24,659.581 1574.24,641.305 \n",
       "  1578.24,628.362 1582.24,621.273 1586.24,620.322 1590.24,625.55 1594.24,636.745 1598.24,653.456 1602.24,675.01 1606.24,700.541 1610.23,729.018 1614.23,759.296 \n",
       "  1618.23,790.156 1622.23,820.355 1626.23,848.677 1630.23,873.981 1634.23,895.249 1638.23,911.623 1642.23,922.446 1646.23,927.281 1650.23,925.933 1654.22,918.456 \n",
       "  1658.22,905.152 1662.22,886.557 1666.22,863.418 1670.22,836.669 1674.22,807.385 1678.22,776.747 1682.22,745.987 1686.22,716.345 1690.22,689.014 1694.21,665.095 \n",
       "  1698.21,645.551 1702.21,631.168 1706.21,622.526 1710.21,619.973 1714.21,623.612 1718.21,633.296 1722.21,648.635 1726.21,669.012 1730.21,693.606 1734.2,721.426 \n",
       "  1738.2,751.353 1742.2,782.182 1746.2,812.67 1750.2,841.591 1754.2,867.78 1758.2,890.182 1762.2,907.895 1766.2,920.206 1770.2,926.619 1774.2,926.876 \n",
       "  1778.19,920.967 1782.19,909.129 1786.19,891.839 1790.19,869.794 1794.19,843.881 1798.19,815.144 1802.19,784.739 1806.19,753.892 1810.19,723.843 1814.19,695.804 \n",
       "  1818.18,670.903 1822.18,650.143 1826.18,634.359 1830.18,624.189 1834.18,620.04 1838.18,622.08 1842.18,630.227 1846.18,644.153 1850.18,663.296 1854.18,686.888 \n",
       "  1858.18,713.976 1862.17,743.471 1866.17,774.184 1870.17,804.88 1874.17,834.322 1878.17,861.324 1882.17,884.799 1886.17,903.803 1890.17,917.569 1894.17,925.543 \n",
       "  1898.17,927.405 1902.16,923.079 1906.16,912.739 1910.16,896.803 1914.16,875.91 1918.16,850.904 1922.16,822.791 1926.16,792.702 1930.16,761.85 1934.16,731.476 \n",
       "  1938.16,702.804 1942.15,676.989 1946.15,655.069 1950.15,637.928 1954.15,626.256 1958.15,620.522 1962.15,620.958 1966.15,627.546 1970.15,640.021 1974.15,657.88 \n",
       "  1978.15,680.405 1982.15,706.687 1986.14,735.67 1990.14,766.186 1994.14,797.006 1998.14,826.889 2002.14,854.631 2006.14,879.117 2010.14,899.359 2014.14,914.543 \n",
       "  2018.14,924.057 2022.14,927.518 2026.13,924.787 2030.13,915.973 2034.13,901.433 2038.13,881.75 2042.13,857.718 2046.13,830.305 2050.13,800.613 2054.13,769.84 \n",
       "  2058.13,739.223 2062.13,709.997 2066.12,683.337 2070.12,660.317 2074.12,641.865 2078.12,628.722 2082.12,621.42 2086.12,620.25 2090.12,625.261 2094.12,636.251 \n",
       "  \n",
       "  \"/>\n",
       "<circle clip-path=\"url(#clip3902)\" cx=\"1298.31\" cy=\"814.089\" r=\"14\" fill=\"#0000ff\" fill-rule=\"evenodd\" fill-opacity=\"0.1\" stroke=\"#000000\" stroke-opacity=\"0.1\" stroke-width=\"3.2\"/>\n",
       "<circle clip-path=\"url(#clip3902)\" cx=\"1302.31\" cy=\"783.648\" r=\"14\" fill=\"#0000ff\" fill-rule=\"evenodd\" fill-opacity=\"0.1\" stroke=\"#000000\" stroke-opacity=\"0.1\" stroke-width=\"3.2\"/>\n",
       "<circle clip-path=\"url(#clip3902)\" cx=\"1306.31\" cy=\"752.807\" r=\"14\" fill=\"#0000ff\" fill-rule=\"evenodd\" fill-opacity=\"0.1\" stroke=\"#000000\" stroke-opacity=\"0.1\" stroke-width=\"3.2\"/>\n",
       "<circle clip-path=\"url(#clip3902)\" cx=\"1310.31\" cy=\"722.81\" r=\"14\" fill=\"#0000ff\" fill-rule=\"evenodd\" fill-opacity=\"0.1\" stroke=\"#000000\" stroke-opacity=\"0.1\" stroke-width=\"3.2\"/>\n",
       "<circle clip-path=\"url(#clip3902)\" cx=\"1314.31\" cy=\"694.863\" r=\"14\" fill=\"#0000ff\" fill-rule=\"evenodd\" fill-opacity=\"0.1\" stroke=\"#000000\" stroke-opacity=\"0.1\" stroke-width=\"3.2\"/>\n",
       "<circle clip-path=\"url(#clip3902)\" cx=\"1318.31\" cy=\"670.092\" r=\"14\" fill=\"#0000ff\" fill-rule=\"evenodd\" fill-opacity=\"0.1\" stroke=\"#000000\" stroke-opacity=\"0.1\" stroke-width=\"3.2\"/>\n",
       "<circle clip-path=\"url(#clip3902)\" cx=\"1322.3\" cy=\"649.495\" r=\"14\" fill=\"#0000ff\" fill-rule=\"evenodd\" fill-opacity=\"0.1\" stroke=\"#000000\" stroke-opacity=\"0.1\" stroke-width=\"3.2\"/>\n",
       "<circle clip-path=\"url(#clip3902)\" cx=\"1326.3\" cy=\"633.901\" r=\"14\" fill=\"#0000ff\" fill-rule=\"evenodd\" fill-opacity=\"0.1\" stroke=\"#000000\" stroke-opacity=\"0.1\" stroke-width=\"3.2\"/>\n",
       "<circle clip-path=\"url(#clip3902)\" cx=\"1330.3\" cy=\"623.937\" r=\"14\" fill=\"#0000ff\" fill-rule=\"evenodd\" fill-opacity=\"0.1\" stroke=\"#000000\" stroke-opacity=\"0.1\" stroke-width=\"3.2\"/>\n",
       "<circle clip-path=\"url(#clip3902)\" cx=\"1334.3\" cy=\"620.006\" r=\"14\" fill=\"#0000ff\" fill-rule=\"evenodd\" fill-opacity=\"0.1\" stroke=\"#000000\" stroke-opacity=\"0.1\" stroke-width=\"3.2\"/>\n",
       "<circle clip-path=\"url(#clip3902)\" cx=\"1338.3\" cy=\"622.265\" r=\"14\" fill=\"#0000ff\" fill-rule=\"evenodd\" fill-opacity=\"0.1\" stroke=\"#000000\" stroke-opacity=\"0.1\" stroke-width=\"3.2\"/>\n",
       "<circle clip-path=\"url(#clip3902)\" cx=\"1342.3\" cy=\"630.624\" r=\"14\" fill=\"#0000ff\" fill-rule=\"evenodd\" fill-opacity=\"0.1\" stroke=\"#000000\" stroke-opacity=\"0.1\" stroke-width=\"3.2\"/>\n",
       "<circle clip-path=\"url(#clip3902)\" cx=\"1346.3\" cy=\"644.745\" r=\"14\" fill=\"#0000ff\" fill-rule=\"evenodd\" fill-opacity=\"0.1\" stroke=\"#000000\" stroke-opacity=\"0.1\" stroke-width=\"3.2\"/>\n",
       "<circle clip-path=\"url(#clip3902)\" cx=\"1350.3\" cy=\"664.061\" r=\"14\" fill=\"#0000ff\" fill-rule=\"evenodd\" fill-opacity=\"0.1\" stroke=\"#000000\" stroke-opacity=\"0.1\" stroke-width=\"3.2\"/>\n",
       "<circle clip-path=\"url(#clip3902)\" cx=\"1354.3\" cy=\"687.793\" r=\"14\" fill=\"#0000ff\" fill-rule=\"evenodd\" fill-opacity=\"0.1\" stroke=\"#000000\" stroke-opacity=\"0.1\" stroke-width=\"3.2\"/>\n",
       "<circle clip-path=\"url(#clip3902)\" cx=\"1358.3\" cy=\"714.985\" r=\"14\" fill=\"#0000ff\" fill-rule=\"evenodd\" fill-opacity=\"0.1\" stroke=\"#000000\" stroke-opacity=\"0.1\" stroke-width=\"3.2\"/>\n",
       "<circle clip-path=\"url(#clip3902)\" cx=\"1362.29\" cy=\"744.544\" r=\"14\" fill=\"#0000ff\" fill-rule=\"evenodd\" fill-opacity=\"0.1\" stroke=\"#000000\" stroke-opacity=\"0.1\" stroke-width=\"3.2\"/>\n",
       "<circle clip-path=\"url(#clip3902)\" cx=\"1366.29\" cy=\"775.278\" r=\"14\" fill=\"#0000ff\" fill-rule=\"evenodd\" fill-opacity=\"0.1\" stroke=\"#000000\" stroke-opacity=\"0.1\" stroke-width=\"3.2\"/>\n",
       "<circle clip-path=\"url(#clip3902)\" cx=\"1370.29\" cy=\"805.951\" r=\"14\" fill=\"#0000ff\" fill-rule=\"evenodd\" fill-opacity=\"0.1\" stroke=\"#000000\" stroke-opacity=\"0.1\" stroke-width=\"3.2\"/>\n",
       "<circle clip-path=\"url(#clip3902)\" cx=\"1374.29\" cy=\"835.326\" r=\"14\" fill=\"#0000ff\" fill-rule=\"evenodd\" fill-opacity=\"0.1\" stroke=\"#000000\" stroke-opacity=\"0.1\" stroke-width=\"3.2\"/>\n",
       "<circle clip-path=\"url(#clip3902)\" cx=\"1378.29\" cy=\"862.221\" r=\"14\" fill=\"#0000ff\" fill-rule=\"evenodd\" fill-opacity=\"0.1\" stroke=\"#000000\" stroke-opacity=\"0.1\" stroke-width=\"3.2\"/>\n",
       "<circle clip-path=\"url(#clip3902)\" cx=\"1382.29\" cy=\"885.553\" r=\"14\" fill=\"#0000ff\" fill-rule=\"evenodd\" fill-opacity=\"0.1\" stroke=\"#000000\" stroke-opacity=\"0.1\" stroke-width=\"3.2\"/>\n",
       "<circle clip-path=\"url(#clip3902)\" cx=\"1386.29\" cy=\"904.383\" r=\"14\" fill=\"#0000ff\" fill-rule=\"evenodd\" fill-opacity=\"0.1\" stroke=\"#000000\" stroke-opacity=\"0.1\" stroke-width=\"3.2\"/>\n",
       "<circle clip-path=\"url(#clip3902)\" cx=\"1390.29\" cy=\"917.952\" r=\"14\" fill=\"#0000ff\" fill-rule=\"evenodd\" fill-opacity=\"0.1\" stroke=\"#000000\" stroke-opacity=\"0.1\" stroke-width=\"3.2\"/>\n",
       "<circle clip-path=\"url(#clip3902)\" cx=\"1394.29\" cy=\"925.715\" r=\"14\" fill=\"#0000ff\" fill-rule=\"evenodd\" fill-opacity=\"0.1\" stroke=\"#000000\" stroke-opacity=\"0.1\" stroke-width=\"3.2\"/>\n",
       "<circle clip-path=\"url(#clip3902)\" cx=\"1398.29\" cy=\"927.357\" r=\"14\" fill=\"#0000ff\" fill-rule=\"evenodd\" fill-opacity=\"0.1\" stroke=\"#000000\" stroke-opacity=\"0.1\" stroke-width=\"3.2\"/>\n",
       "<circle clip-path=\"url(#clip3902)\" cx=\"1402.28\" cy=\"922.814\" r=\"14\" fill=\"#0000ff\" fill-rule=\"evenodd\" fill-opacity=\"0.1\" stroke=\"#000000\" stroke-opacity=\"0.1\" stroke-width=\"3.2\"/>\n",
       "<circle clip-path=\"url(#clip3902)\" cx=\"1406.28\" cy=\"912.268\" r=\"14\" fill=\"#0000ff\" fill-rule=\"evenodd\" fill-opacity=\"0.1\" stroke=\"#000000\" stroke-opacity=\"0.1\" stroke-width=\"3.2\"/>\n",
       "<circle clip-path=\"url(#clip3902)\" cx=\"1410.28\" cy=\"896.143\" r=\"14\" fill=\"#0000ff\" fill-rule=\"evenodd\" fill-opacity=\"0.1\" stroke=\"#000000\" stroke-opacity=\"0.1\" stroke-width=\"3.2\"/>\n",
       "<circle clip-path=\"url(#clip3902)\" cx=\"1414.28\" cy=\"875.09\" r=\"14\" fill=\"#0000ff\" fill-rule=\"evenodd\" fill-opacity=\"0.1\" stroke=\"#000000\" stroke-opacity=\"0.1\" stroke-width=\"3.2\"/>\n",
       "<circle clip-path=\"url(#clip3902)\" cx=\"1418.28\" cy=\"849.956\" r=\"14\" fill=\"#0000ff\" fill-rule=\"evenodd\" fill-opacity=\"0.1\" stroke=\"#000000\" stroke-opacity=\"0.1\" stroke-width=\"3.2\"/>\n",
       "<circle clip-path=\"url(#clip3902)\" cx=\"1422.28\" cy=\"821.753\" r=\"14\" fill=\"#0000ff\" fill-rule=\"evenodd\" fill-opacity=\"0.1\" stroke=\"#000000\" stroke-opacity=\"0.1\" stroke-width=\"3.2\"/>\n",
       "<circle clip-path=\"url(#clip3902)\" cx=\"1426.28\" cy=\"791.616\" r=\"14\" fill=\"#0000ff\" fill-rule=\"evenodd\" fill-opacity=\"0.1\" stroke=\"#000000\" stroke-opacity=\"0.1\" stroke-width=\"3.2\"/>\n",
       "<circle clip-path=\"url(#clip3902)\" cx=\"1430.28\" cy=\"760.759\" r=\"14\" fill=\"#0000ff\" fill-rule=\"evenodd\" fill-opacity=\"0.1\" stroke=\"#000000\" stroke-opacity=\"0.1\" stroke-width=\"3.2\"/>\n",
       "<circle clip-path=\"url(#clip3902)\" cx=\"1434.28\" cy=\"730.425\" r=\"14\" fill=\"#0000ff\" fill-rule=\"evenodd\" fill-opacity=\"0.1\" stroke=\"#000000\" stroke-opacity=\"0.1\" stroke-width=\"3.2\"/>\n",
       "<circle clip-path=\"url(#clip3902)\" cx=\"1438.28\" cy=\"701.836\" r=\"14\" fill=\"#0000ff\" fill-rule=\"evenodd\" fill-opacity=\"0.1\" stroke=\"#000000\" stroke-opacity=\"0.1\" stroke-width=\"3.2\"/>\n",
       "<circle clip-path=\"url(#clip3902)\" cx=\"1442.28\" cy=\"676.141\" r=\"14\" fill=\"#0000ff\" fill-rule=\"evenodd\" fill-opacity=\"0.1\" stroke=\"#000000\" stroke-opacity=\"0.1\" stroke-width=\"3.2\"/>\n",
       "<circle clip-path=\"url(#clip3902)\" cx=\"1446.27\" cy=\"654.377\" r=\"14\" fill=\"#0000ff\" fill-rule=\"evenodd\" fill-opacity=\"0.1\" stroke=\"#000000\" stroke-opacity=\"0.1\" stroke-width=\"3.2\"/>\n",
       "<circle clip-path=\"url(#clip3902)\" cx=\"1450.27\" cy=\"637.418\" r=\"14\" fill=\"#0000ff\" fill-rule=\"evenodd\" fill-opacity=\"0.1\" stroke=\"#000000\" stroke-opacity=\"0.1\" stroke-width=\"3.2\"/>\n",
       "<circle clip-path=\"url(#clip3902)\" cx=\"1454.27\" cy=\"625.95\" r=\"14\" fill=\"#0000ff\" fill-rule=\"evenodd\" fill-opacity=\"0.1\" stroke=\"#000000\" stroke-opacity=\"0.1\" stroke-width=\"3.2\"/>\n",
       "<circle clip-path=\"url(#clip3902)\" cx=\"1458.27\" cy=\"620.432\" r=\"14\" fill=\"#0000ff\" fill-rule=\"evenodd\" fill-opacity=\"0.1\" stroke=\"#000000\" stroke-opacity=\"0.1\" stroke-width=\"3.2\"/>\n",
       "<circle clip-path=\"url(#clip3902)\" cx=\"1462.27\" cy=\"621.087\" r=\"14\" fill=\"#0000ff\" fill-rule=\"evenodd\" fill-opacity=\"0.1\" stroke=\"#000000\" stroke-opacity=\"0.1\" stroke-width=\"3.2\"/>\n",
       "<circle clip-path=\"url(#clip3902)\" cx=\"1466.27\" cy=\"627.889\" r=\"14\" fill=\"#0000ff\" fill-rule=\"evenodd\" fill-opacity=\"0.1\" stroke=\"#000000\" stroke-opacity=\"0.1\" stroke-width=\"3.2\"/>\n",
       "<circle clip-path=\"url(#clip3902)\" cx=\"1470.27\" cy=\"640.565\" r=\"14\" fill=\"#0000ff\" fill-rule=\"evenodd\" fill-opacity=\"0.1\" stroke=\"#000000\" stroke-opacity=\"0.1\" stroke-width=\"3.2\"/>\n",
       "<circle clip-path=\"url(#clip3902)\" cx=\"1474.27\" cy=\"658.602\" r=\"14\" fill=\"#0000ff\" fill-rule=\"evenodd\" fill-opacity=\"0.1\" stroke=\"#000000\" stroke-opacity=\"0.1\" stroke-width=\"3.2\"/>\n",
       "<circle clip-path=\"url(#clip3902)\" cx=\"1478.27\" cy=\"681.276\" r=\"14\" fill=\"#0000ff\" fill-rule=\"evenodd\" fill-opacity=\"0.1\" stroke=\"#000000\" stroke-opacity=\"0.1\" stroke-width=\"3.2\"/>\n",
       "<circle clip-path=\"url(#clip3902)\" cx=\"1482.27\" cy=\"707.674\" r=\"14\" fill=\"#0000ff\" fill-rule=\"evenodd\" fill-opacity=\"0.1\" stroke=\"#000000\" stroke-opacity=\"0.1\" stroke-width=\"3.2\"/>\n",
       "<circle clip-path=\"url(#clip3902)\" cx=\"1486.26\" cy=\"736.731\" r=\"14\" fill=\"#0000ff\" fill-rule=\"evenodd\" fill-opacity=\"0.1\" stroke=\"#000000\" stroke-opacity=\"0.1\" stroke-width=\"3.2\"/>\n",
       "<circle clip-path=\"url(#clip3902)\" cx=\"1490.26\" cy=\"767.279\" r=\"14\" fill=\"#0000ff\" fill-rule=\"evenodd\" fill-opacity=\"0.1\" stroke=\"#000000\" stroke-opacity=\"0.1\" stroke-width=\"3.2\"/>\n",
       "<circle clip-path=\"url(#clip3902)\" cx=\"1494.26\" cy=\"798.086\" r=\"14\" fill=\"#0000ff\" fill-rule=\"evenodd\" fill-opacity=\"0.1\" stroke=\"#000000\" stroke-opacity=\"0.1\" stroke-width=\"3.2\"/>\n",
       "<circle clip-path=\"url(#clip3902)\" cx=\"1498.26\" cy=\"827.914\" r=\"14\" fill=\"#0000ff\" fill-rule=\"evenodd\" fill-opacity=\"0.1\" stroke=\"#000000\" stroke-opacity=\"0.1\" stroke-width=\"3.2\"/>\n",
       "<circle clip-path=\"url(#clip3902)\" cx=\"1502.26\" cy=\"855.56\" r=\"14\" fill=\"#0000ff\" fill-rule=\"evenodd\" fill-opacity=\"0.1\" stroke=\"#000000\" stroke-opacity=\"0.1\" stroke-width=\"3.2\"/>\n",
       "<circle clip-path=\"url(#clip3902)\" cx=\"1506.26\" cy=\"879.911\" r=\"14\" fill=\"#0000ff\" fill-rule=\"evenodd\" fill-opacity=\"0.1\" stroke=\"#000000\" stroke-opacity=\"0.1\" stroke-width=\"3.2\"/>\n",
       "<circle clip-path=\"url(#clip3902)\" cx=\"1510.26\" cy=\"899.987\" r=\"14\" fill=\"#0000ff\" fill-rule=\"evenodd\" fill-opacity=\"0.1\" stroke=\"#000000\" stroke-opacity=\"0.1\" stroke-width=\"3.2\"/>\n",
       "<circle clip-path=\"url(#clip3902)\" cx=\"1514.26\" cy=\"914.979\" r=\"14\" fill=\"#0000ff\" fill-rule=\"evenodd\" fill-opacity=\"0.1\" stroke=\"#000000\" stroke-opacity=\"0.1\" stroke-width=\"3.2\"/>\n",
       "<circle clip-path=\"url(#clip3902)\" cx=\"1518.26\" cy=\"924.284\" r=\"14\" fill=\"#0000ff\" fill-rule=\"evenodd\" fill-opacity=\"0.1\" stroke=\"#000000\" stroke-opacity=\"0.1\" stroke-width=\"3.2\"/>\n",
       "<circle clip-path=\"url(#clip3902)\" cx=\"1522.26\" cy=\"927.527\" r=\"14\" fill=\"#0000ff\" fill-rule=\"evenodd\" fill-opacity=\"0.1\" stroke=\"#000000\" stroke-opacity=\"0.1\" stroke-width=\"3.2\"/>\n",
       "<circle clip-path=\"url(#clip3902)\" cx=\"1526.26\" cy=\"924.577\" r=\"14\" fill=\"#0000ff\" fill-rule=\"evenodd\" fill-opacity=\"0.1\" stroke=\"#000000\" stroke-opacity=\"0.1\" stroke-width=\"3.2\"/>\n",
       "<circle clip-path=\"url(#clip3902)\" cx=\"1530.25\" cy=\"915.554\" r=\"14\" fill=\"#0000ff\" fill-rule=\"evenodd\" fill-opacity=\"0.1\" stroke=\"#000000\" stroke-opacity=\"0.1\" stroke-width=\"3.2\"/>\n",
       "<circle clip-path=\"url(#clip3902)\" cx=\"1534.25\" cy=\"900.82\" r=\"14\" fill=\"#0000ff\" fill-rule=\"evenodd\" fill-opacity=\"0.1\" stroke=\"#000000\" stroke-opacity=\"0.1\" stroke-width=\"3.2\"/>\n",
       "<circle clip-path=\"url(#clip3902)\" cx=\"1538.25\" cy=\"880.969\" r=\"14\" fill=\"#0000ff\" fill-rule=\"evenodd\" fill-opacity=\"0.1\" stroke=\"#000000\" stroke-opacity=\"0.1\" stroke-width=\"3.2\"/>\n",
       "<circle clip-path=\"url(#clip3902)\" cx=\"1542.25\" cy=\"856.8\" r=\"14\" fill=\"#0000ff\" fill-rule=\"evenodd\" fill-opacity=\"0.1\" stroke=\"#000000\" stroke-opacity=\"0.1\" stroke-width=\"3.2\"/>\n",
       "<circle clip-path=\"url(#clip3902)\" cx=\"1546.25\" cy=\"829.286\" r=\"14\" fill=\"#0000ff\" fill-rule=\"evenodd\" fill-opacity=\"0.1\" stroke=\"#000000\" stroke-opacity=\"0.1\" stroke-width=\"3.2\"/>\n",
       "<circle clip-path=\"url(#clip3902)\" cx=\"1550.25\" cy=\"799.536\" r=\"14\" fill=\"#0000ff\" fill-rule=\"evenodd\" fill-opacity=\"0.1\" stroke=\"#000000\" stroke-opacity=\"0.1\" stroke-width=\"3.2\"/>\n",
       "<circle clip-path=\"url(#clip3902)\" cx=\"1554.25\" cy=\"768.746\" r=\"14\" fill=\"#0000ff\" fill-rule=\"evenodd\" fill-opacity=\"0.1\" stroke=\"#000000\" stroke-opacity=\"0.1\" stroke-width=\"3.2\"/>\n",
       "<circle clip-path=\"url(#clip3902)\" cx=\"1558.25\" cy=\"738.158\" r=\"14\" fill=\"#0000ff\" fill-rule=\"evenodd\" fill-opacity=\"0.1\" stroke=\"#000000\" stroke-opacity=\"0.1\" stroke-width=\"3.2\"/>\n",
       "<circle clip-path=\"url(#clip3902)\" cx=\"1562.25\" cy=\"709.003\" r=\"14\" fill=\"#0000ff\" fill-rule=\"evenodd\" fill-opacity=\"0.1\" stroke=\"#000000\" stroke-opacity=\"0.1\" stroke-width=\"3.2\"/>\n",
       "<circle clip-path=\"url(#clip3902)\" cx=\"1566.25\" cy=\"682.454\" r=\"14\" fill=\"#0000ff\" fill-rule=\"evenodd\" fill-opacity=\"0.1\" stroke=\"#000000\" stroke-opacity=\"0.1\" stroke-width=\"3.2\"/>\n",
       "<circle clip-path=\"url(#clip3902)\" cx=\"1570.24\" cy=\"659.581\" r=\"14\" fill=\"#0000ff\" fill-rule=\"evenodd\" fill-opacity=\"0.1\" stroke=\"#000000\" stroke-opacity=\"0.1\" stroke-width=\"3.2\"/>\n",
       "<circle clip-path=\"url(#clip3902)\" cx=\"1574.24\" cy=\"641.305\" r=\"14\" fill=\"#0000ff\" fill-rule=\"evenodd\" fill-opacity=\"0.1\" stroke=\"#000000\" stroke-opacity=\"0.1\" stroke-width=\"3.2\"/>\n",
       "<circle clip-path=\"url(#clip3902)\" cx=\"1578.24\" cy=\"628.362\" r=\"14\" fill=\"#0000ff\" fill-rule=\"evenodd\" fill-opacity=\"0.1\" stroke=\"#000000\" stroke-opacity=\"0.1\" stroke-width=\"3.2\"/>\n",
       "<circle clip-path=\"url(#clip3902)\" cx=\"1582.24\" cy=\"621.273\" r=\"14\" fill=\"#0000ff\" fill-rule=\"evenodd\" fill-opacity=\"0.1\" stroke=\"#000000\" stroke-opacity=\"0.1\" stroke-width=\"3.2\"/>\n",
       "<circle clip-path=\"url(#clip3902)\" cx=\"1586.24\" cy=\"620.322\" r=\"14\" fill=\"#0000ff\" fill-rule=\"evenodd\" fill-opacity=\"0.1\" stroke=\"#000000\" stroke-opacity=\"0.1\" stroke-width=\"3.2\"/>\n",
       "<circle clip-path=\"url(#clip3902)\" cx=\"1590.24\" cy=\"625.55\" r=\"14\" fill=\"#0000ff\" fill-rule=\"evenodd\" fill-opacity=\"0.1\" stroke=\"#000000\" stroke-opacity=\"0.1\" stroke-width=\"3.2\"/>\n",
       "<circle clip-path=\"url(#clip3902)\" cx=\"1594.24\" cy=\"636.745\" r=\"14\" fill=\"#0000ff\" fill-rule=\"evenodd\" fill-opacity=\"0.1\" stroke=\"#000000\" stroke-opacity=\"0.1\" stroke-width=\"3.2\"/>\n",
       "<circle clip-path=\"url(#clip3902)\" cx=\"1598.24\" cy=\"653.456\" r=\"14\" fill=\"#0000ff\" fill-rule=\"evenodd\" fill-opacity=\"0.1\" stroke=\"#000000\" stroke-opacity=\"0.1\" stroke-width=\"3.2\"/>\n",
       "<circle clip-path=\"url(#clip3902)\" cx=\"1602.24\" cy=\"675.01\" r=\"14\" fill=\"#0000ff\" fill-rule=\"evenodd\" fill-opacity=\"0.1\" stroke=\"#000000\" stroke-opacity=\"0.1\" stroke-width=\"3.2\"/>\n",
       "<circle clip-path=\"url(#clip3902)\" cx=\"1606.24\" cy=\"700.541\" r=\"14\" fill=\"#0000ff\" fill-rule=\"evenodd\" fill-opacity=\"0.1\" stroke=\"#000000\" stroke-opacity=\"0.1\" stroke-width=\"3.2\"/>\n",
       "<circle clip-path=\"url(#clip3902)\" cx=\"1610.23\" cy=\"729.018\" r=\"14\" fill=\"#0000ff\" fill-rule=\"evenodd\" fill-opacity=\"0.1\" stroke=\"#000000\" stroke-opacity=\"0.1\" stroke-width=\"3.2\"/>\n",
       "<circle clip-path=\"url(#clip3902)\" cx=\"1614.23\" cy=\"759.296\" r=\"14\" fill=\"#0000ff\" fill-rule=\"evenodd\" fill-opacity=\"0.1\" stroke=\"#000000\" stroke-opacity=\"0.1\" stroke-width=\"3.2\"/>\n",
       "<circle clip-path=\"url(#clip3902)\" cx=\"1618.23\" cy=\"790.156\" r=\"14\" fill=\"#0000ff\" fill-rule=\"evenodd\" fill-opacity=\"0.1\" stroke=\"#000000\" stroke-opacity=\"0.1\" stroke-width=\"3.2\"/>\n",
       "<circle clip-path=\"url(#clip3902)\" cx=\"1622.23\" cy=\"820.355\" r=\"14\" fill=\"#0000ff\" fill-rule=\"evenodd\" fill-opacity=\"0.1\" stroke=\"#000000\" stroke-opacity=\"0.1\" stroke-width=\"3.2\"/>\n",
       "<circle clip-path=\"url(#clip3902)\" cx=\"1626.23\" cy=\"848.677\" r=\"14\" fill=\"#0000ff\" fill-rule=\"evenodd\" fill-opacity=\"0.1\" stroke=\"#000000\" stroke-opacity=\"0.1\" stroke-width=\"3.2\"/>\n",
       "<circle clip-path=\"url(#clip3902)\" cx=\"1630.23\" cy=\"873.981\" r=\"14\" fill=\"#0000ff\" fill-rule=\"evenodd\" fill-opacity=\"0.1\" stroke=\"#000000\" stroke-opacity=\"0.1\" stroke-width=\"3.2\"/>\n",
       "<circle clip-path=\"url(#clip3902)\" cx=\"1634.23\" cy=\"895.249\" r=\"14\" fill=\"#0000ff\" fill-rule=\"evenodd\" fill-opacity=\"0.1\" stroke=\"#000000\" stroke-opacity=\"0.1\" stroke-width=\"3.2\"/>\n",
       "<circle clip-path=\"url(#clip3902)\" cx=\"1638.23\" cy=\"911.623\" r=\"14\" fill=\"#0000ff\" fill-rule=\"evenodd\" fill-opacity=\"0.1\" stroke=\"#000000\" stroke-opacity=\"0.1\" stroke-width=\"3.2\"/>\n",
       "<circle clip-path=\"url(#clip3902)\" cx=\"1642.23\" cy=\"922.446\" r=\"14\" fill=\"#0000ff\" fill-rule=\"evenodd\" fill-opacity=\"0.1\" stroke=\"#000000\" stroke-opacity=\"0.1\" stroke-width=\"3.2\"/>\n",
       "<circle clip-path=\"url(#clip3902)\" cx=\"1646.23\" cy=\"927.281\" r=\"14\" fill=\"#0000ff\" fill-rule=\"evenodd\" fill-opacity=\"0.1\" stroke=\"#000000\" stroke-opacity=\"0.1\" stroke-width=\"3.2\"/>\n",
       "<circle clip-path=\"url(#clip3902)\" cx=\"1650.23\" cy=\"925.933\" r=\"14\" fill=\"#0000ff\" fill-rule=\"evenodd\" fill-opacity=\"0.1\" stroke=\"#000000\" stroke-opacity=\"0.1\" stroke-width=\"3.2\"/>\n",
       "<circle clip-path=\"url(#clip3902)\" cx=\"1654.22\" cy=\"918.456\" r=\"14\" fill=\"#0000ff\" fill-rule=\"evenodd\" fill-opacity=\"0.1\" stroke=\"#000000\" stroke-opacity=\"0.1\" stroke-width=\"3.2\"/>\n",
       "<circle clip-path=\"url(#clip3902)\" cx=\"1658.22\" cy=\"905.152\" r=\"14\" fill=\"#0000ff\" fill-rule=\"evenodd\" fill-opacity=\"0.1\" stroke=\"#000000\" stroke-opacity=\"0.1\" stroke-width=\"3.2\"/>\n",
       "<circle clip-path=\"url(#clip3902)\" cx=\"1662.22\" cy=\"886.557\" r=\"14\" fill=\"#0000ff\" fill-rule=\"evenodd\" fill-opacity=\"0.1\" stroke=\"#000000\" stroke-opacity=\"0.1\" stroke-width=\"3.2\"/>\n",
       "<circle clip-path=\"url(#clip3902)\" cx=\"1666.22\" cy=\"863.418\" r=\"14\" fill=\"#0000ff\" fill-rule=\"evenodd\" fill-opacity=\"0.1\" stroke=\"#000000\" stroke-opacity=\"0.1\" stroke-width=\"3.2\"/>\n",
       "<circle clip-path=\"url(#clip3902)\" cx=\"1670.22\" cy=\"836.669\" r=\"14\" fill=\"#0000ff\" fill-rule=\"evenodd\" fill-opacity=\"0.1\" stroke=\"#000000\" stroke-opacity=\"0.1\" stroke-width=\"3.2\"/>\n",
       "<circle clip-path=\"url(#clip3902)\" cx=\"1674.22\" cy=\"807.385\" r=\"14\" fill=\"#0000ff\" fill-rule=\"evenodd\" fill-opacity=\"0.1\" stroke=\"#000000\" stroke-opacity=\"0.1\" stroke-width=\"3.2\"/>\n",
       "<circle clip-path=\"url(#clip3902)\" cx=\"1678.22\" cy=\"776.747\" r=\"14\" fill=\"#0000ff\" fill-rule=\"evenodd\" fill-opacity=\"0.1\" stroke=\"#000000\" stroke-opacity=\"0.1\" stroke-width=\"3.2\"/>\n",
       "<circle clip-path=\"url(#clip3902)\" cx=\"1682.22\" cy=\"745.987\" r=\"14\" fill=\"#0000ff\" fill-rule=\"evenodd\" fill-opacity=\"0.1\" stroke=\"#000000\" stroke-opacity=\"0.1\" stroke-width=\"3.2\"/>\n",
       "<circle clip-path=\"url(#clip3902)\" cx=\"1686.22\" cy=\"716.345\" r=\"14\" fill=\"#0000ff\" fill-rule=\"evenodd\" fill-opacity=\"0.1\" stroke=\"#000000\" stroke-opacity=\"0.1\" stroke-width=\"3.2\"/>\n",
       "<circle clip-path=\"url(#clip3902)\" cx=\"1690.22\" cy=\"689.014\" r=\"14\" fill=\"#0000ff\" fill-rule=\"evenodd\" fill-opacity=\"0.1\" stroke=\"#000000\" stroke-opacity=\"0.1\" stroke-width=\"3.2\"/>\n",
       "<circle clip-path=\"url(#clip3902)\" cx=\"1694.21\" cy=\"665.095\" r=\"14\" fill=\"#0000ff\" fill-rule=\"evenodd\" fill-opacity=\"0.1\" stroke=\"#000000\" stroke-opacity=\"0.1\" stroke-width=\"3.2\"/>\n",
       "<circle clip-path=\"url(#clip3902)\" cx=\"1698.21\" cy=\"645.551\" r=\"14\" fill=\"#0000ff\" fill-rule=\"evenodd\" fill-opacity=\"0.1\" stroke=\"#000000\" stroke-opacity=\"0.1\" stroke-width=\"3.2\"/>\n",
       "<circle clip-path=\"url(#clip3902)\" cx=\"1702.21\" cy=\"631.168\" r=\"14\" fill=\"#0000ff\" fill-rule=\"evenodd\" fill-opacity=\"0.1\" stroke=\"#000000\" stroke-opacity=\"0.1\" stroke-width=\"3.2\"/>\n",
       "<circle clip-path=\"url(#clip3902)\" cx=\"1706.21\" cy=\"622.526\" r=\"14\" fill=\"#0000ff\" fill-rule=\"evenodd\" fill-opacity=\"0.1\" stroke=\"#000000\" stroke-opacity=\"0.1\" stroke-width=\"3.2\"/>\n",
       "<circle clip-path=\"url(#clip3902)\" cx=\"1710.21\" cy=\"619.973\" r=\"14\" fill=\"#0000ff\" fill-rule=\"evenodd\" fill-opacity=\"0.1\" stroke=\"#000000\" stroke-opacity=\"0.1\" stroke-width=\"3.2\"/>\n",
       "<circle clip-path=\"url(#clip3902)\" cx=\"1714.21\" cy=\"623.612\" r=\"14\" fill=\"#0000ff\" fill-rule=\"evenodd\" fill-opacity=\"0.1\" stroke=\"#000000\" stroke-opacity=\"0.1\" stroke-width=\"3.2\"/>\n",
       "<circle clip-path=\"url(#clip3902)\" cx=\"1718.21\" cy=\"633.296\" r=\"14\" fill=\"#0000ff\" fill-rule=\"evenodd\" fill-opacity=\"0.1\" stroke=\"#000000\" stroke-opacity=\"0.1\" stroke-width=\"3.2\"/>\n",
       "<circle clip-path=\"url(#clip3902)\" cx=\"1722.21\" cy=\"648.635\" r=\"14\" fill=\"#0000ff\" fill-rule=\"evenodd\" fill-opacity=\"0.1\" stroke=\"#000000\" stroke-opacity=\"0.1\" stroke-width=\"3.2\"/>\n",
       "<circle clip-path=\"url(#clip3902)\" cx=\"1726.21\" cy=\"669.012\" r=\"14\" fill=\"#0000ff\" fill-rule=\"evenodd\" fill-opacity=\"0.1\" stroke=\"#000000\" stroke-opacity=\"0.1\" stroke-width=\"3.2\"/>\n",
       "<circle clip-path=\"url(#clip3902)\" cx=\"1730.21\" cy=\"693.606\" r=\"14\" fill=\"#0000ff\" fill-rule=\"evenodd\" fill-opacity=\"0.1\" stroke=\"#000000\" stroke-opacity=\"0.1\" stroke-width=\"3.2\"/>\n",
       "<circle clip-path=\"url(#clip3902)\" cx=\"1734.2\" cy=\"721.426\" r=\"14\" fill=\"#0000ff\" fill-rule=\"evenodd\" fill-opacity=\"0.1\" stroke=\"#000000\" stroke-opacity=\"0.1\" stroke-width=\"3.2\"/>\n",
       "<circle clip-path=\"url(#clip3902)\" cx=\"1738.2\" cy=\"751.353\" r=\"14\" fill=\"#0000ff\" fill-rule=\"evenodd\" fill-opacity=\"0.1\" stroke=\"#000000\" stroke-opacity=\"0.1\" stroke-width=\"3.2\"/>\n",
       "<circle clip-path=\"url(#clip3902)\" cx=\"1742.2\" cy=\"782.182\" r=\"14\" fill=\"#0000ff\" fill-rule=\"evenodd\" fill-opacity=\"0.1\" stroke=\"#000000\" stroke-opacity=\"0.1\" stroke-width=\"3.2\"/>\n",
       "<circle clip-path=\"url(#clip3902)\" cx=\"1746.2\" cy=\"812.67\" r=\"14\" fill=\"#0000ff\" fill-rule=\"evenodd\" fill-opacity=\"0.1\" stroke=\"#000000\" stroke-opacity=\"0.1\" stroke-width=\"3.2\"/>\n",
       "<circle clip-path=\"url(#clip3902)\" cx=\"1750.2\" cy=\"841.591\" r=\"14\" fill=\"#0000ff\" fill-rule=\"evenodd\" fill-opacity=\"0.1\" stroke=\"#000000\" stroke-opacity=\"0.1\" stroke-width=\"3.2\"/>\n",
       "<circle clip-path=\"url(#clip3902)\" cx=\"1754.2\" cy=\"867.78\" r=\"14\" fill=\"#0000ff\" fill-rule=\"evenodd\" fill-opacity=\"0.1\" stroke=\"#000000\" stroke-opacity=\"0.1\" stroke-width=\"3.2\"/>\n",
       "<circle clip-path=\"url(#clip3902)\" cx=\"1758.2\" cy=\"890.182\" r=\"14\" fill=\"#0000ff\" fill-rule=\"evenodd\" fill-opacity=\"0.1\" stroke=\"#000000\" stroke-opacity=\"0.1\" stroke-width=\"3.2\"/>\n",
       "<circle clip-path=\"url(#clip3902)\" cx=\"1762.2\" cy=\"907.895\" r=\"14\" fill=\"#0000ff\" fill-rule=\"evenodd\" fill-opacity=\"0.1\" stroke=\"#000000\" stroke-opacity=\"0.1\" stroke-width=\"3.2\"/>\n",
       "<circle clip-path=\"url(#clip3902)\" cx=\"1766.2\" cy=\"920.206\" r=\"14\" fill=\"#0000ff\" fill-rule=\"evenodd\" fill-opacity=\"0.1\" stroke=\"#000000\" stroke-opacity=\"0.1\" stroke-width=\"3.2\"/>\n",
       "<circle clip-path=\"url(#clip3902)\" cx=\"1770.2\" cy=\"926.619\" r=\"14\" fill=\"#0000ff\" fill-rule=\"evenodd\" fill-opacity=\"0.1\" stroke=\"#000000\" stroke-opacity=\"0.1\" stroke-width=\"3.2\"/>\n",
       "<circle clip-path=\"url(#clip3902)\" cx=\"1774.2\" cy=\"926.876\" r=\"14\" fill=\"#0000ff\" fill-rule=\"evenodd\" fill-opacity=\"0.1\" stroke=\"#000000\" stroke-opacity=\"0.1\" stroke-width=\"3.2\"/>\n",
       "<circle clip-path=\"url(#clip3902)\" cx=\"1778.19\" cy=\"920.967\" r=\"14\" fill=\"#0000ff\" fill-rule=\"evenodd\" fill-opacity=\"0.1\" stroke=\"#000000\" stroke-opacity=\"0.1\" stroke-width=\"3.2\"/>\n",
       "<circle clip-path=\"url(#clip3902)\" cx=\"1782.19\" cy=\"909.129\" r=\"14\" fill=\"#0000ff\" fill-rule=\"evenodd\" fill-opacity=\"0.1\" stroke=\"#000000\" stroke-opacity=\"0.1\" stroke-width=\"3.2\"/>\n",
       "<circle clip-path=\"url(#clip3902)\" cx=\"1786.19\" cy=\"891.839\" r=\"14\" fill=\"#0000ff\" fill-rule=\"evenodd\" fill-opacity=\"0.1\" stroke=\"#000000\" stroke-opacity=\"0.1\" stroke-width=\"3.2\"/>\n",
       "<circle clip-path=\"url(#clip3902)\" cx=\"1790.19\" cy=\"869.794\" r=\"14\" fill=\"#0000ff\" fill-rule=\"evenodd\" fill-opacity=\"0.1\" stroke=\"#000000\" stroke-opacity=\"0.1\" stroke-width=\"3.2\"/>\n",
       "<circle clip-path=\"url(#clip3902)\" cx=\"1794.19\" cy=\"843.881\" r=\"14\" fill=\"#0000ff\" fill-rule=\"evenodd\" fill-opacity=\"0.1\" stroke=\"#000000\" stroke-opacity=\"0.1\" stroke-width=\"3.2\"/>\n",
       "<circle clip-path=\"url(#clip3902)\" cx=\"1798.19\" cy=\"815.144\" r=\"14\" fill=\"#0000ff\" fill-rule=\"evenodd\" fill-opacity=\"0.1\" stroke=\"#000000\" stroke-opacity=\"0.1\" stroke-width=\"3.2\"/>\n",
       "<circle clip-path=\"url(#clip3902)\" cx=\"1802.19\" cy=\"784.739\" r=\"14\" fill=\"#0000ff\" fill-rule=\"evenodd\" fill-opacity=\"0.1\" stroke=\"#000000\" stroke-opacity=\"0.1\" stroke-width=\"3.2\"/>\n",
       "<circle clip-path=\"url(#clip3902)\" cx=\"1806.19\" cy=\"753.892\" r=\"14\" fill=\"#0000ff\" fill-rule=\"evenodd\" fill-opacity=\"0.1\" stroke=\"#000000\" stroke-opacity=\"0.1\" stroke-width=\"3.2\"/>\n",
       "<circle clip-path=\"url(#clip3902)\" cx=\"1810.19\" cy=\"723.843\" r=\"14\" fill=\"#0000ff\" fill-rule=\"evenodd\" fill-opacity=\"0.1\" stroke=\"#000000\" stroke-opacity=\"0.1\" stroke-width=\"3.2\"/>\n",
       "<circle clip-path=\"url(#clip3902)\" cx=\"1814.19\" cy=\"695.804\" r=\"14\" fill=\"#0000ff\" fill-rule=\"evenodd\" fill-opacity=\"0.1\" stroke=\"#000000\" stroke-opacity=\"0.1\" stroke-width=\"3.2\"/>\n",
       "<circle clip-path=\"url(#clip3902)\" cx=\"1818.18\" cy=\"670.903\" r=\"14\" fill=\"#0000ff\" fill-rule=\"evenodd\" fill-opacity=\"0.1\" stroke=\"#000000\" stroke-opacity=\"0.1\" stroke-width=\"3.2\"/>\n",
       "<circle clip-path=\"url(#clip3902)\" cx=\"1822.18\" cy=\"650.143\" r=\"14\" fill=\"#0000ff\" fill-rule=\"evenodd\" fill-opacity=\"0.1\" stroke=\"#000000\" stroke-opacity=\"0.1\" stroke-width=\"3.2\"/>\n",
       "<circle clip-path=\"url(#clip3902)\" cx=\"1826.18\" cy=\"634.359\" r=\"14\" fill=\"#0000ff\" fill-rule=\"evenodd\" fill-opacity=\"0.1\" stroke=\"#000000\" stroke-opacity=\"0.1\" stroke-width=\"3.2\"/>\n",
       "<circle clip-path=\"url(#clip3902)\" cx=\"1830.18\" cy=\"624.189\" r=\"14\" fill=\"#0000ff\" fill-rule=\"evenodd\" fill-opacity=\"0.1\" stroke=\"#000000\" stroke-opacity=\"0.1\" stroke-width=\"3.2\"/>\n",
       "<circle clip-path=\"url(#clip3902)\" cx=\"1834.18\" cy=\"620.04\" r=\"14\" fill=\"#0000ff\" fill-rule=\"evenodd\" fill-opacity=\"0.1\" stroke=\"#000000\" stroke-opacity=\"0.1\" stroke-width=\"3.2\"/>\n",
       "<circle clip-path=\"url(#clip3902)\" cx=\"1838.18\" cy=\"622.08\" r=\"14\" fill=\"#0000ff\" fill-rule=\"evenodd\" fill-opacity=\"0.1\" stroke=\"#000000\" stroke-opacity=\"0.1\" stroke-width=\"3.2\"/>\n",
       "<circle clip-path=\"url(#clip3902)\" cx=\"1842.18\" cy=\"630.227\" r=\"14\" fill=\"#0000ff\" fill-rule=\"evenodd\" fill-opacity=\"0.1\" stroke=\"#000000\" stroke-opacity=\"0.1\" stroke-width=\"3.2\"/>\n",
       "<circle clip-path=\"url(#clip3902)\" cx=\"1846.18\" cy=\"644.153\" r=\"14\" fill=\"#0000ff\" fill-rule=\"evenodd\" fill-opacity=\"0.1\" stroke=\"#000000\" stroke-opacity=\"0.1\" stroke-width=\"3.2\"/>\n",
       "<circle clip-path=\"url(#clip3902)\" cx=\"1850.18\" cy=\"663.296\" r=\"14\" fill=\"#0000ff\" fill-rule=\"evenodd\" fill-opacity=\"0.1\" stroke=\"#000000\" stroke-opacity=\"0.1\" stroke-width=\"3.2\"/>\n",
       "<circle clip-path=\"url(#clip3902)\" cx=\"1854.18\" cy=\"686.888\" r=\"14\" fill=\"#0000ff\" fill-rule=\"evenodd\" fill-opacity=\"0.1\" stroke=\"#000000\" stroke-opacity=\"0.1\" stroke-width=\"3.2\"/>\n",
       "<circle clip-path=\"url(#clip3902)\" cx=\"1858.18\" cy=\"713.976\" r=\"14\" fill=\"#0000ff\" fill-rule=\"evenodd\" fill-opacity=\"0.1\" stroke=\"#000000\" stroke-opacity=\"0.1\" stroke-width=\"3.2\"/>\n",
       "<circle clip-path=\"url(#clip3902)\" cx=\"1862.17\" cy=\"743.471\" r=\"14\" fill=\"#0000ff\" fill-rule=\"evenodd\" fill-opacity=\"0.1\" stroke=\"#000000\" stroke-opacity=\"0.1\" stroke-width=\"3.2\"/>\n",
       "<circle clip-path=\"url(#clip3902)\" cx=\"1866.17\" cy=\"774.184\" r=\"14\" fill=\"#0000ff\" fill-rule=\"evenodd\" fill-opacity=\"0.1\" stroke=\"#000000\" stroke-opacity=\"0.1\" stroke-width=\"3.2\"/>\n",
       "<circle clip-path=\"url(#clip3902)\" cx=\"1870.17\" cy=\"804.88\" r=\"14\" fill=\"#0000ff\" fill-rule=\"evenodd\" fill-opacity=\"0.1\" stroke=\"#000000\" stroke-opacity=\"0.1\" stroke-width=\"3.2\"/>\n",
       "<circle clip-path=\"url(#clip3902)\" cx=\"1874.17\" cy=\"834.322\" r=\"14\" fill=\"#0000ff\" fill-rule=\"evenodd\" fill-opacity=\"0.1\" stroke=\"#000000\" stroke-opacity=\"0.1\" stroke-width=\"3.2\"/>\n",
       "<circle clip-path=\"url(#clip3902)\" cx=\"1878.17\" cy=\"861.324\" r=\"14\" fill=\"#0000ff\" fill-rule=\"evenodd\" fill-opacity=\"0.1\" stroke=\"#000000\" stroke-opacity=\"0.1\" stroke-width=\"3.2\"/>\n",
       "<circle clip-path=\"url(#clip3902)\" cx=\"1882.17\" cy=\"884.799\" r=\"14\" fill=\"#0000ff\" fill-rule=\"evenodd\" fill-opacity=\"0.1\" stroke=\"#000000\" stroke-opacity=\"0.1\" stroke-width=\"3.2\"/>\n",
       "<circle clip-path=\"url(#clip3902)\" cx=\"1886.17\" cy=\"903.803\" r=\"14\" fill=\"#0000ff\" fill-rule=\"evenodd\" fill-opacity=\"0.1\" stroke=\"#000000\" stroke-opacity=\"0.1\" stroke-width=\"3.2\"/>\n",
       "<circle clip-path=\"url(#clip3902)\" cx=\"1890.17\" cy=\"917.569\" r=\"14\" fill=\"#0000ff\" fill-rule=\"evenodd\" fill-opacity=\"0.1\" stroke=\"#000000\" stroke-opacity=\"0.1\" stroke-width=\"3.2\"/>\n",
       "<circle clip-path=\"url(#clip3902)\" cx=\"1894.17\" cy=\"925.543\" r=\"14\" fill=\"#0000ff\" fill-rule=\"evenodd\" fill-opacity=\"0.1\" stroke=\"#000000\" stroke-opacity=\"0.1\" stroke-width=\"3.2\"/>\n",
       "<circle clip-path=\"url(#clip3902)\" cx=\"1898.17\" cy=\"927.405\" r=\"14\" fill=\"#0000ff\" fill-rule=\"evenodd\" fill-opacity=\"0.1\" stroke=\"#000000\" stroke-opacity=\"0.1\" stroke-width=\"3.2\"/>\n",
       "<circle clip-path=\"url(#clip3902)\" cx=\"1902.16\" cy=\"923.079\" r=\"14\" fill=\"#0000ff\" fill-rule=\"evenodd\" fill-opacity=\"0.1\" stroke=\"#000000\" stroke-opacity=\"0.1\" stroke-width=\"3.2\"/>\n",
       "<circle clip-path=\"url(#clip3902)\" cx=\"1906.16\" cy=\"912.739\" r=\"14\" fill=\"#0000ff\" fill-rule=\"evenodd\" fill-opacity=\"0.1\" stroke=\"#000000\" stroke-opacity=\"0.1\" stroke-width=\"3.2\"/>\n",
       "<circle clip-path=\"url(#clip3902)\" cx=\"1910.16\" cy=\"896.803\" r=\"14\" fill=\"#0000ff\" fill-rule=\"evenodd\" fill-opacity=\"0.1\" stroke=\"#000000\" stroke-opacity=\"0.1\" stroke-width=\"3.2\"/>\n",
       "<circle clip-path=\"url(#clip3902)\" cx=\"1914.16\" cy=\"875.91\" r=\"14\" fill=\"#0000ff\" fill-rule=\"evenodd\" fill-opacity=\"0.1\" stroke=\"#000000\" stroke-opacity=\"0.1\" stroke-width=\"3.2\"/>\n",
       "<circle clip-path=\"url(#clip3902)\" cx=\"1918.16\" cy=\"850.904\" r=\"14\" fill=\"#0000ff\" fill-rule=\"evenodd\" fill-opacity=\"0.1\" stroke=\"#000000\" stroke-opacity=\"0.1\" stroke-width=\"3.2\"/>\n",
       "<circle clip-path=\"url(#clip3902)\" cx=\"1922.16\" cy=\"822.791\" r=\"14\" fill=\"#0000ff\" fill-rule=\"evenodd\" fill-opacity=\"0.1\" stroke=\"#000000\" stroke-opacity=\"0.1\" stroke-width=\"3.2\"/>\n",
       "<circle clip-path=\"url(#clip3902)\" cx=\"1926.16\" cy=\"792.702\" r=\"14\" fill=\"#0000ff\" fill-rule=\"evenodd\" fill-opacity=\"0.1\" stroke=\"#000000\" stroke-opacity=\"0.1\" stroke-width=\"3.2\"/>\n",
       "<circle clip-path=\"url(#clip3902)\" cx=\"1930.16\" cy=\"761.85\" r=\"14\" fill=\"#0000ff\" fill-rule=\"evenodd\" fill-opacity=\"0.1\" stroke=\"#000000\" stroke-opacity=\"0.1\" stroke-width=\"3.2\"/>\n",
       "<circle clip-path=\"url(#clip3902)\" cx=\"1934.16\" cy=\"731.476\" r=\"14\" fill=\"#0000ff\" fill-rule=\"evenodd\" fill-opacity=\"0.1\" stroke=\"#000000\" stroke-opacity=\"0.1\" stroke-width=\"3.2\"/>\n",
       "<circle clip-path=\"url(#clip3902)\" cx=\"1938.16\" cy=\"702.804\" r=\"14\" fill=\"#0000ff\" fill-rule=\"evenodd\" fill-opacity=\"0.1\" stroke=\"#000000\" stroke-opacity=\"0.1\" stroke-width=\"3.2\"/>\n",
       "<circle clip-path=\"url(#clip3902)\" cx=\"1942.15\" cy=\"676.989\" r=\"14\" fill=\"#0000ff\" fill-rule=\"evenodd\" fill-opacity=\"0.1\" stroke=\"#000000\" stroke-opacity=\"0.1\" stroke-width=\"3.2\"/>\n",
       "<circle clip-path=\"url(#clip3902)\" cx=\"1946.15\" cy=\"655.069\" r=\"14\" fill=\"#0000ff\" fill-rule=\"evenodd\" fill-opacity=\"0.1\" stroke=\"#000000\" stroke-opacity=\"0.1\" stroke-width=\"3.2\"/>\n",
       "<circle clip-path=\"url(#clip3902)\" cx=\"1950.15\" cy=\"637.928\" r=\"14\" fill=\"#0000ff\" fill-rule=\"evenodd\" fill-opacity=\"0.1\" stroke=\"#000000\" stroke-opacity=\"0.1\" stroke-width=\"3.2\"/>\n",
       "<circle clip-path=\"url(#clip3902)\" cx=\"1954.15\" cy=\"626.256\" r=\"14\" fill=\"#0000ff\" fill-rule=\"evenodd\" fill-opacity=\"0.1\" stroke=\"#000000\" stroke-opacity=\"0.1\" stroke-width=\"3.2\"/>\n",
       "<circle clip-path=\"url(#clip3902)\" cx=\"1958.15\" cy=\"620.522\" r=\"14\" fill=\"#0000ff\" fill-rule=\"evenodd\" fill-opacity=\"0.1\" stroke=\"#000000\" stroke-opacity=\"0.1\" stroke-width=\"3.2\"/>\n",
       "<circle clip-path=\"url(#clip3902)\" cx=\"1962.15\" cy=\"620.958\" r=\"14\" fill=\"#0000ff\" fill-rule=\"evenodd\" fill-opacity=\"0.1\" stroke=\"#000000\" stroke-opacity=\"0.1\" stroke-width=\"3.2\"/>\n",
       "<circle clip-path=\"url(#clip3902)\" cx=\"1966.15\" cy=\"627.546\" r=\"14\" fill=\"#0000ff\" fill-rule=\"evenodd\" fill-opacity=\"0.1\" stroke=\"#000000\" stroke-opacity=\"0.1\" stroke-width=\"3.2\"/>\n",
       "<circle clip-path=\"url(#clip3902)\" cx=\"1970.15\" cy=\"640.021\" r=\"14\" fill=\"#0000ff\" fill-rule=\"evenodd\" fill-opacity=\"0.1\" stroke=\"#000000\" stroke-opacity=\"0.1\" stroke-width=\"3.2\"/>\n",
       "<circle clip-path=\"url(#clip3902)\" cx=\"1974.15\" cy=\"657.88\" r=\"14\" fill=\"#0000ff\" fill-rule=\"evenodd\" fill-opacity=\"0.1\" stroke=\"#000000\" stroke-opacity=\"0.1\" stroke-width=\"3.2\"/>\n",
       "<circle clip-path=\"url(#clip3902)\" cx=\"1978.15\" cy=\"680.405\" r=\"14\" fill=\"#0000ff\" fill-rule=\"evenodd\" fill-opacity=\"0.1\" stroke=\"#000000\" stroke-opacity=\"0.1\" stroke-width=\"3.2\"/>\n",
       "<circle clip-path=\"url(#clip3902)\" cx=\"1982.15\" cy=\"706.687\" r=\"14\" fill=\"#0000ff\" fill-rule=\"evenodd\" fill-opacity=\"0.1\" stroke=\"#000000\" stroke-opacity=\"0.1\" stroke-width=\"3.2\"/>\n",
       "<circle clip-path=\"url(#clip3902)\" cx=\"1986.14\" cy=\"735.67\" r=\"14\" fill=\"#0000ff\" fill-rule=\"evenodd\" fill-opacity=\"0.1\" stroke=\"#000000\" stroke-opacity=\"0.1\" stroke-width=\"3.2\"/>\n",
       "<circle clip-path=\"url(#clip3902)\" cx=\"1990.14\" cy=\"766.186\" r=\"14\" fill=\"#0000ff\" fill-rule=\"evenodd\" fill-opacity=\"0.1\" stroke=\"#000000\" stroke-opacity=\"0.1\" stroke-width=\"3.2\"/>\n",
       "<circle clip-path=\"url(#clip3902)\" cx=\"1994.14\" cy=\"797.006\" r=\"14\" fill=\"#0000ff\" fill-rule=\"evenodd\" fill-opacity=\"0.1\" stroke=\"#000000\" stroke-opacity=\"0.1\" stroke-width=\"3.2\"/>\n",
       "<circle clip-path=\"url(#clip3902)\" cx=\"1998.14\" cy=\"826.889\" r=\"14\" fill=\"#0000ff\" fill-rule=\"evenodd\" fill-opacity=\"0.1\" stroke=\"#000000\" stroke-opacity=\"0.1\" stroke-width=\"3.2\"/>\n",
       "<circle clip-path=\"url(#clip3902)\" cx=\"2002.14\" cy=\"854.631\" r=\"14\" fill=\"#0000ff\" fill-rule=\"evenodd\" fill-opacity=\"0.1\" stroke=\"#000000\" stroke-opacity=\"0.1\" stroke-width=\"3.2\"/>\n",
       "<circle clip-path=\"url(#clip3902)\" cx=\"2006.14\" cy=\"879.117\" r=\"14\" fill=\"#0000ff\" fill-rule=\"evenodd\" fill-opacity=\"0.1\" stroke=\"#000000\" stroke-opacity=\"0.1\" stroke-width=\"3.2\"/>\n",
       "<circle clip-path=\"url(#clip3902)\" cx=\"2010.14\" cy=\"899.359\" r=\"14\" fill=\"#0000ff\" fill-rule=\"evenodd\" fill-opacity=\"0.1\" stroke=\"#000000\" stroke-opacity=\"0.1\" stroke-width=\"3.2\"/>\n",
       "<circle clip-path=\"url(#clip3902)\" cx=\"2014.14\" cy=\"914.543\" r=\"14\" fill=\"#0000ff\" fill-rule=\"evenodd\" fill-opacity=\"0.1\" stroke=\"#000000\" stroke-opacity=\"0.1\" stroke-width=\"3.2\"/>\n",
       "<circle clip-path=\"url(#clip3902)\" cx=\"2018.14\" cy=\"924.057\" r=\"14\" fill=\"#0000ff\" fill-rule=\"evenodd\" fill-opacity=\"0.1\" stroke=\"#000000\" stroke-opacity=\"0.1\" stroke-width=\"3.2\"/>\n",
       "<circle clip-path=\"url(#clip3902)\" cx=\"2022.14\" cy=\"927.518\" r=\"14\" fill=\"#0000ff\" fill-rule=\"evenodd\" fill-opacity=\"0.1\" stroke=\"#000000\" stroke-opacity=\"0.1\" stroke-width=\"3.2\"/>\n",
       "<circle clip-path=\"url(#clip3902)\" cx=\"2026.13\" cy=\"924.787\" r=\"14\" fill=\"#0000ff\" fill-rule=\"evenodd\" fill-opacity=\"0.1\" stroke=\"#000000\" stroke-opacity=\"0.1\" stroke-width=\"3.2\"/>\n",
       "<circle clip-path=\"url(#clip3902)\" cx=\"2030.13\" cy=\"915.973\" r=\"14\" fill=\"#0000ff\" fill-rule=\"evenodd\" fill-opacity=\"0.1\" stroke=\"#000000\" stroke-opacity=\"0.1\" stroke-width=\"3.2\"/>\n",
       "<circle clip-path=\"url(#clip3902)\" cx=\"2034.13\" cy=\"901.433\" r=\"14\" fill=\"#0000ff\" fill-rule=\"evenodd\" fill-opacity=\"0.1\" stroke=\"#000000\" stroke-opacity=\"0.1\" stroke-width=\"3.2\"/>\n",
       "<circle clip-path=\"url(#clip3902)\" cx=\"2038.13\" cy=\"881.75\" r=\"14\" fill=\"#0000ff\" fill-rule=\"evenodd\" fill-opacity=\"0.1\" stroke=\"#000000\" stroke-opacity=\"0.1\" stroke-width=\"3.2\"/>\n",
       "<circle clip-path=\"url(#clip3902)\" cx=\"2042.13\" cy=\"857.718\" r=\"14\" fill=\"#0000ff\" fill-rule=\"evenodd\" fill-opacity=\"0.1\" stroke=\"#000000\" stroke-opacity=\"0.1\" stroke-width=\"3.2\"/>\n",
       "<circle clip-path=\"url(#clip3902)\" cx=\"2046.13\" cy=\"830.305\" r=\"14\" fill=\"#0000ff\" fill-rule=\"evenodd\" fill-opacity=\"0.1\" stroke=\"#000000\" stroke-opacity=\"0.1\" stroke-width=\"3.2\"/>\n",
       "<circle clip-path=\"url(#clip3902)\" cx=\"2050.13\" cy=\"800.613\" r=\"14\" fill=\"#0000ff\" fill-rule=\"evenodd\" fill-opacity=\"0.1\" stroke=\"#000000\" stroke-opacity=\"0.1\" stroke-width=\"3.2\"/>\n",
       "<circle clip-path=\"url(#clip3902)\" cx=\"2054.13\" cy=\"769.84\" r=\"14\" fill=\"#0000ff\" fill-rule=\"evenodd\" fill-opacity=\"0.1\" stroke=\"#000000\" stroke-opacity=\"0.1\" stroke-width=\"3.2\"/>\n",
       "<circle clip-path=\"url(#clip3902)\" cx=\"2058.13\" cy=\"739.223\" r=\"14\" fill=\"#0000ff\" fill-rule=\"evenodd\" fill-opacity=\"0.1\" stroke=\"#000000\" stroke-opacity=\"0.1\" stroke-width=\"3.2\"/>\n",
       "<circle clip-path=\"url(#clip3902)\" cx=\"2062.13\" cy=\"709.997\" r=\"14\" fill=\"#0000ff\" fill-rule=\"evenodd\" fill-opacity=\"0.1\" stroke=\"#000000\" stroke-opacity=\"0.1\" stroke-width=\"3.2\"/>\n",
       "<circle clip-path=\"url(#clip3902)\" cx=\"2066.12\" cy=\"683.337\" r=\"14\" fill=\"#0000ff\" fill-rule=\"evenodd\" fill-opacity=\"0.1\" stroke=\"#000000\" stroke-opacity=\"0.1\" stroke-width=\"3.2\"/>\n",
       "<circle clip-path=\"url(#clip3902)\" cx=\"2070.12\" cy=\"660.317\" r=\"14\" fill=\"#0000ff\" fill-rule=\"evenodd\" fill-opacity=\"0.1\" stroke=\"#000000\" stroke-opacity=\"0.1\" stroke-width=\"3.2\"/>\n",
       "<circle clip-path=\"url(#clip3902)\" cx=\"2074.12\" cy=\"641.865\" r=\"14\" fill=\"#0000ff\" fill-rule=\"evenodd\" fill-opacity=\"0.1\" stroke=\"#000000\" stroke-opacity=\"0.1\" stroke-width=\"3.2\"/>\n",
       "<circle clip-path=\"url(#clip3902)\" cx=\"2078.12\" cy=\"628.722\" r=\"14\" fill=\"#0000ff\" fill-rule=\"evenodd\" fill-opacity=\"0.1\" stroke=\"#000000\" stroke-opacity=\"0.1\" stroke-width=\"3.2\"/>\n",
       "<circle clip-path=\"url(#clip3902)\" cx=\"2082.12\" cy=\"621.42\" r=\"14\" fill=\"#0000ff\" fill-rule=\"evenodd\" fill-opacity=\"0.1\" stroke=\"#000000\" stroke-opacity=\"0.1\" stroke-width=\"3.2\"/>\n",
       "<circle clip-path=\"url(#clip3902)\" cx=\"2086.12\" cy=\"620.25\" r=\"14\" fill=\"#0000ff\" fill-rule=\"evenodd\" fill-opacity=\"0.1\" stroke=\"#000000\" stroke-opacity=\"0.1\" stroke-width=\"3.2\"/>\n",
       "<circle clip-path=\"url(#clip3902)\" cx=\"2090.12\" cy=\"625.261\" r=\"14\" fill=\"#0000ff\" fill-rule=\"evenodd\" fill-opacity=\"0.1\" stroke=\"#000000\" stroke-opacity=\"0.1\" stroke-width=\"3.2\"/>\n",
       "<circle clip-path=\"url(#clip3902)\" cx=\"2094.12\" cy=\"636.251\" r=\"14\" fill=\"#0000ff\" fill-rule=\"evenodd\" fill-opacity=\"0.1\" stroke=\"#000000\" stroke-opacity=\"0.1\" stroke-width=\"3.2\"/>\n",
       "<path clip-path=\"url(#clip3900)\" d=\"\n",
       "M1527.07 447.115 L2280.76 447.115 L2280.76 205.195 L1527.07 205.195  Z\n",
       "  \" fill=\"#ffffff\" fill-rule=\"evenodd\" fill-opacity=\"1\"/>\n",
       "<polyline clip-path=\"url(#clip3900)\" style=\"stroke:#000000; stroke-width:4; stroke-opacity:1; fill:none\" points=\"\n",
       "  1527.07,447.115 2280.76,447.115 2280.76,205.195 1527.07,205.195 1527.07,447.115 \n",
       "  \"/>\n",
       "<polyline clip-path=\"url(#clip3900)\" style=\"stroke:#ff0000; stroke-width:20; stroke-opacity:1; fill:none\" points=\"\n",
       "  1551.07,265.675 1695.07,265.675 \n",
       "  \"/>\n",
       "<g clip-path=\"url(#clip3900)\">\n",
       "<text style=\"fill:#000000; fill-opacity:1; font-family:Arial,Helvetica Neue,Helvetica,sans-serif; font-size:48px; text-anchor:start;\" transform=\"rotate(0, 1719.07, 283.175)\" x=\"1719.07\" y=\"283.175\">Fonction cos</text>\n",
       "</g>\n",
       "<polyline clip-path=\"url(#clip3900)\" style=\"stroke:#008000; stroke-width:4; stroke-opacity:1; fill:none\" stroke-dasharray=\"16, 10\" points=\"\n",
       "  1551.07,326.155 1695.07,326.155 \n",
       "  \"/>\n",
       "<g clip-path=\"url(#clip3900)\">\n",
       "<text style=\"fill:#000000; fill-opacity:1; font-family:Arial,Helvetica Neue,Helvetica,sans-serif; font-size:48px; text-anchor:start;\" transform=\"rotate(0, 1719.07, 343.655)\" x=\"1719.07\" y=\"343.655\">Fonction sinus</text>\n",
       "</g>\n",
       "<polyline clip-path=\"url(#clip3900)\" style=\"stroke:#0000ff; stroke-width:4; stroke-opacity:1; fill:none\" points=\"\n",
       "  1551.07,386.635 1695.07,386.635 \n",
       "  \"/>\n",
       "<circle clip-path=\"url(#clip3900)\" cx=\"1635.07\" cy=\"386.635\" r=\"21\" fill=\"#0000ff\" fill-rule=\"evenodd\" fill-opacity=\"0.1\" stroke=\"#000000\" stroke-opacity=\"0.1\" stroke-width=\"3.2\"/>\n",
       "<g clip-path=\"url(#clip3900)\">\n",
       "<text style=\"fill:#000000; fill-opacity:1; font-family:Arial,Helvetica Neue,Helvetica,sans-serif; font-size:48px; text-anchor:start;\" transform=\"rotate(0, 1719.07, 404.135)\" x=\"1719.07\" y=\"404.135\">Pas d&apos;idée pour ce label</text>\n",
       "</g>\n",
       "</svg>\n"
      ]
     },
     "execution_count": 118,
     "metadata": {},
     "output_type": "execute_result"
    }
   ],
   "source": [
    "using Plots\n",
    "\n",
    "x = collect(range(0,stop=10,length=101));\n",
    "y = cos.(x); # notez le . devant le cos pour appliquer la fonction élément par élément\n",
    "\n",
    "x1 = collect(range(0,stop=5,length=20));\n",
    "z = sin.(x1);\n",
    "\n",
    "x2 = collect(range(5,stop=9,length=200));\n",
    "w = 0.25*sin.(10*x2);\n",
    "\n",
    "p = plot(x, y, label=\"Fonction cos\", ylabel = \"Valeur de la fonction\", xlabel = \"Valeur de l'entrée\", \n",
    "    title=\"Un joli titre\", color=:red, linewidth=5)\n",
    "\n",
    "plot!(p, x1, z, color=:green, label=\"Fonction sinus\", linewidth = 1, linestyle = :dash)\n",
    "\n",
    "plot!(p, x2, w, marker=:circle, markeralpha=0.1, color=:blue, label=\"Pas d'idée pour ce label\")"
   ]
  },
  {
   "cell_type": "code",
   "execution_count": null,
   "metadata": {},
   "outputs": [],
   "source": []
  }
 ],
 "metadata": {
  "kernelspec": {
   "display_name": "Julia 1.5.3",
   "language": "julia",
   "name": "julia-1.5"
  },
  "language_info": {
   "file_extension": ".jl",
   "mimetype": "application/julia",
   "name": "julia",
   "version": "1.5.3"
  }
 },
 "nbformat": 4,
 "nbformat_minor": 2
}
