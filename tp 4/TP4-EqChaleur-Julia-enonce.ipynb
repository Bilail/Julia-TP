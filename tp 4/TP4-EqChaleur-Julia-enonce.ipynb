{
 "cells": [
  {
   "cell_type": "markdown",
   "metadata": {},
   "source": [
    "## Polytech Paris Saclay | 3ème année\n",
    "\n",
    "\n",
    "## TP4 Calcul scientifique: Equation de la chaleur"
   ]
  },
  {
   "cell_type": "markdown",
   "metadata": {},
   "source": [
    "Rappel du cours\n",
    "===============\n",
    "\n",
    "Modélisation du problème\n",
    "------------------------\n",
    "\n",
    "On souhaite modéliser la distribution spatiale de la température $u(x)$\n",
    "dans une barre de longueur 1 mètre qui est un contact avec une source de\n",
    "chaleur dont la température a une distribution spatiale non homogène. La\n",
    "température aux deux extrémités de la barre est fixée à une valeur\n",
    "finie, qu’on appelle 0 (mais qui n’est pas le zéro absolu de la\n",
    "température). La température $u(x)$ vérife l’équation **(1)** suivante :\n",
    "$$\\label{eq1}\n",
    "\\frac{d^2u}{dx^2}(x)=f(x), \\qquad x\\in ]0,1[ $$ avec **(2)** : $$u(0)=u(1)=0.$$\n",
    "Le terme $f(x)$ décrit la source de chaleur."
   ]
  },
  {
   "cell_type": "markdown",
   "metadata": {},
   "source": [
    "Discrétisation du problème\n",
    "--------------------------\n",
    "\n",
    "On discrétise $x$ en $N$ segments élémentaires de même longueur avec un\n",
    "pas $h$ constant, on a **(3)**: $$h= \\frac{1}{N}$$ et **(4)**$$x_k= kh$$\n",
    "\n",
    "1.  Montrer que l’équation **(1)**  peut se ré-écrire ainsi **(5)** en\n",
    "    utilisant un développement de Taylor : $$\\label{eq5}\n",
    "    \\frac{d^2u}{dx^2}(x)=\\frac{u(x_{k-1}) - 2 u(x_{k}) + u(x_{k+1})}{h^2} +O(h^2)=f(x)$$"
   ]
  },
  {
   "cell_type": "markdown",
   "metadata": {},
   "source": [
    "On approxime $u(x_{k})$ par $v_k$ calculés ainsi **(6)** : $$\\label{eq6}\n",
    "\\frac{d^2u}{dx^2}(x)=\\frac{v_{k-1} - 2 v_k + v_{k+1}}{h^2}= f(x_k)$$\n",
    "avec **(7)** $$v_0=v_N=0$$\n",
    "\n",
    "2.  Montrer que l’équation **(6)** peut se ré-écrire sous la forme\n",
    "    matricielle **(8)** suivante : $$\\frac{1}{h^2}\n",
    "       \\left (\n",
    "       \\begin{array}{ccccc}\n",
    "       -2 & 1 & \\dots  & 0 & 0 \\\\\n",
    "         1 & -2 &  1 & \\ddots & \\vdots \\\\\n",
    "         0 &  \\ddots&  \\ddots  & \\ddots &  0 \\\\\n",
    "         \\vdots &  \\ddots&  1  & -2 &  1 \\\\\n",
    "          0  &  \\dots &  0   & 1 &  -2 \\\\\n",
    "       \\end{array}\n",
    "       \\right )\n",
    "        \\left (\n",
    "       \\begin{array}{c}\n",
    "       v_1 \\\\\n",
    "         v_2  \\\\\n",
    "          \\vdots \\\\\n",
    "            \\vdots \\\\\n",
    "         v_{N-2}  \\\\\n",
    "         v_{N-1} \\\\\n",
    "       \\end{array}\n",
    "       \\right )\n",
    "        =\n",
    "        \\left (\n",
    "       \\begin{array}{c}\n",
    "       f_1 \\\\\n",
    "         f_2  \\\\\n",
    "          \\vdots \\\\\n",
    "            \\vdots \\\\\n",
    "         f_{N-2}  \\\\\n",
    "         f_{N-1} \\\\\n",
    "       \\end{array}\n",
    "       \\right )$$ Dans la suite, on appellera $A$ la matrice utilisée\n",
    "    pour la définition du problème."
   ]
  },
  {
   "cell_type": "markdown",
   "metadata": {},
   "source": [
    "Calcul de la solution exacte\n",
    "----------------------------\n",
    "\n",
    "On souhaite mesurer l’erreur d’approximation $erreur\\_approx$ de la\n",
    "résolution de la chaleur définie ainsi **(9)** :\n",
    "$$erreur\\_approx = \\max_i |  v_i - u(x_i) |$$ où $u(i)$ est la solution\n",
    "exacte de l’équation **(1)**.\\\n",
    "Nous devons donc choisir une fonction $f(x)$ pour laquelle nous pouvons\n",
    "établir une solution analytique de l’équation **(1)**. Déterminer la\n",
    "solution exacte de l’équation **(1)** pour **(10)**\n",
    "$$f(x) = 4 \\pi ^2 \\sin ( 2 \\pi x).$$"
   ]
  },
  {
   "cell_type": "markdown",
   "metadata": {},
   "source": [
    "Expérimentations sous Julia\n",
    "============================\n",
    "\n",
    "Calcul de la solution exacte $u(x$)\n",
    "-----------------------------------\n",
    "\n",
    "Écrire la fonction **calcul\\_sol\\_exact()** prenant en entrée le\n",
    "nombre de segments élémentaires $N$. Cette fonction retourne le vecteur\n",
    "$x$ de taille $N+1$ ainsi que le vecteur sol\\_exact contenant la\n",
    "solution $u(x_i)$, déterminée ci-dessus, sur chaque point\n",
    "$x_i$."
   ]
  },
  {
   "cell_type": "markdown",
   "metadata": {},
   "source": [
    "Calcul de $A$\n",
    "-------------\n",
    "\n",
    "Écrire la fonction **calcul\\_A()** qui détermine $A$ en fonction de\n",
    "$N$. La matrice $A$ sera construite comme la somme de trois diagonales."
   ]
  },
  {
   "cell_type": "markdown",
   "metadata": {},
   "source": [
    "Calcul de f\n",
    "-----------\n",
    "\n",
    "Écrire la fonction **calcul\\_f()** qui détermine le vecteur $f$ en\n",
    "fonction de $N$."
   ]
  },
  {
   "cell_type": "markdown",
   "metadata": {},
   "source": [
    "Calcul de la solution approchée $v$\n",
    "-----------------------------------\n",
    "\n",
    "Écrire la fonction **calcul\\_v()** qui détermine le vecteur $v$ en\n",
    "fonction de $N$."
   ]
  },
  {
   "cell_type": "markdown",
   "metadata": {},
   "source": [
    "Comparaison de la solution exacte $u(x)$ et de la solution approchée $v$\n",
    "------------------------------------------------------------------------\n",
    "\n",
    "Tracer sur un même graphique les valeurs pontuelles de la solution\n",
    "exacte $u(x)$, de la solution approchée $v$ et de l’erreur\n",
    "d’approximation $erreur\\_approx$ et ce pour différentes valeurs de $N$.\n",
    "Interpréter les résultats."
   ]
  },
  {
   "cell_type": "code",
   "execution_count": null,
   "metadata": {},
   "outputs": [],
   "source": []
  }
 ],
 "metadata": {
  "kernelspec": {
   "display_name": "Julia 1.3.0",
   "language": "julia",
   "name": "julia-1.3"
  },
  "language_info": {
   "file_extension": ".jl",
   "mimetype": "application/julia",
   "name": "julia",
   "version": "1.3.0"
  }
 },
 "nbformat": 4,
 "nbformat_minor": 2
}
